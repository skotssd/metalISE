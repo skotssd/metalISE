{
 "cells": [
  {
   "cell_type": "markdown",
   "id": "c1bae0c0-228c-4f80-af62-5d2b2432bdd2",
   "metadata": {},
   "source": [
    "# make plot CuT 1e-6 ENT=1e-6\n",
    "# added nM Cu instead of mM Cu"
   ]
  },
  {
   "cell_type": "code",
   "execution_count": 1,
   "id": "d65fe225-47c4-472c-b5b3-69a7ee5014b7",
   "metadata": {},
   "outputs": [],
   "source": [
    "% housekeeping\n",
    "% clear data and number format\n",
    "clear; format short e\n",
    "% turn off warnings\n",
    "warning off\n",
    "graphics_toolkit (\"notebook\"); \n",
    "%graphics_toolkit (\"plotly\"); \n",
    "% setup environment\n",
    "% set path to equilibrium solver\n",
    "txt=pwd;\n",
    "n=length(txt);\n",
    "rootpath=txt(1:n-12);\n",
    "PHREEQCpath=[rootpath,'/runPHREEQC'];\n",
    "addpath(PHREEQCpath);\n",
    "JEQUILIBpath=[rootpath,'/JEQUILIB']; addpath(JEQUILIBpath);\n",
    "Cumodelspath=[rootpath,'/Cu_EN']; addpath(Cumodelspath);"
   ]
  },
  {
   "cell_type": "code",
   "execution_count": 2,
   "id": "9fa148e7-3a15-4e16-8852-391a8274278e",
   "metadata": {},
   "outputs": [],
   "source": [
    "% set constants\n",
    "\n",
    "pHv=2:0.25:10; CuT=1e-6; ENT=1e-7;"
   ]
  },
  {
   "cell_type": "code",
   "execution_count": 3,
   "id": "56121567-f17a-4709-b2a2-0945a951fd1c",
   "metadata": {},
   "outputs": [],
   "source": [
    "% make model with higher resolutions so plot line is smooth\n",
    "\n",
    "% MODEL FOR COMPARISON\n",
    "%model with just inorganic speciation\n",
    "%geochemical model\n",
    "% input the constants and solution chemistry\n",
    "\n",
    "flag1=2; %flag1 for concentration based search vector (1) or for log based search vector (2).\n",
    "flag2=1; %flag2 for numerical derivatives (2) or analtyical derivatives (1)\n",
    "database=[]; \n",
    "flag3=0; % flag3 1 for show warnings. 0 no warnings\n",
    "flag4=0; %if=1 solve tableau one line at a time to get a good initial guess (no solids). really challenging probs only\n",
    "flag5=0; %if=1 use stored initial guess for including solids\n",
    "\n",
    "inorganicTOTALS=[CuT ENT];\n",
    "inorganicTOTALS(inorganicTOTALS==0)=1e-16; % get rid of zero values, b/c div by zero error\n",
    "TOTALS=[inorganicTOTALS]; %TOTALS=inorganicTOTALS;\n",
    "\n",
    "for i=1:length(pHv);\n",
    "    pH=pHv(i); pe=20.75-pH; PCO2=10^-3.5;\n",
    "    [Cuall(i),CuOH,CuOH2s,CuOs,CuCO3s,tenorite,malachite,MASSERR]=CuOHCO2open_EN_allsolids(pH,pe,PCO2,TOTALS',flag1,flag2,flag3,flag4,flag5,database);\n",
    "end\n"
   ]
  },
  {
   "cell_type": "code",
   "execution_count": 4,
   "id": "a0c3acd8-b6f7-4671-bb5b-c8ea6f42245c",
   "metadata": {},
   "outputs": [
    {
     "data": {
      "text/html": [
       "<table><tr><th><i>logCumodel1<i></th><th>1</th><th>2</th><th>3</th><th>4</th><th>5</th></tr><tr><th>1</th><td>-12.3578</td><td>-7.56941</td><td>-6.04684</td><td>-6.00011</td><td>-6</td></tr></table>"
      ],
      "text/plain": [
       "logCumodel1 =   -1.2358e+01  -7.5694e+00  -6.0468e+00  -6.0001e+00  -6.0000e+00\n"
      ]
     },
     "metadata": {},
     "output_type": "display_data"
    }
   ],
   "source": [
    "% experimental data\n",
    "\n",
    "pH1=[9.836 7.665 6.238 3.918 2.005 ];\n",
    "logCuA1=[-11.277 -8.39189 -6.60473 -6.1723 -6];\n",
    "logCuB1=[-9.67568 -7.88176 -6.55743 -6.14527 -6];\n",
    "logCumodel1=[-12.3578\t-7.56941\t-6.04684\t-6.00011\t-6]"
   ]
  },
  {
   "cell_type": "code",
   "execution_count": 5,
   "id": "745c57bb-ba16-43f0-80a2-21bb4bd5f93a",
   "metadata": {},
   "outputs": [
    {
     "data": {
      "image/png": "[encoded data removed]"
     },
     "metadata": {
      "image/png": {
       "height": 420,
       "width": 560
      }
     },
     "output_type": "display_data"
    }
   ],
   "source": [
    "% make plot\n",
    "\n",
    "plot(pHv,log10(Cuall),'k-', pHv,log10(Cuall*10),'k--', pHv,log10(Cuall./10),'k--')\n",
    "hold on\n",
    "plot(pH1,logCuA1,'ko','markerfacecolor','r')\n",
    "plot(pH1,logCuB1,'ko','markerfacecolor','b')\n",
    "xlabel('pH'); ylabel('log[Cu^{2+}]')\n",
    "set(gca,'linewidth',2,'fontsize',14)"
   ]
  },
  {
   "cell_type": "code",
   "execution_count": 6,
   "id": "5e5b6162-c7a6-4b15-ba75-99147cfb4e10",
   "metadata": {},
   "outputs": [
    {
     "data": {
      "text/html": [
       "<table><tr><th><i>pH1<i></th><th>1</th><th>2</th><th>3</th><th>4</th><th>5</th></tr><tr><th>1</th><td>9.836</td><td>7.665</td><td>6.238</td><td>3.918</td><td>2.005</td></tr></table>"
      ],
      "text/plain": [
       "pH1 =    9.8360e+00   7.6650e+00   6.2380e+00   3.9180e+00   2.0050e+00\n"
      ]
     },
     "metadata": {},
     "output_type": "display_data"
    },
    {
     "data": {
      "text/html": [
       "<table><tr><th><i>logCuA1<i></th><th>1</th><th>2</th><th>3</th><th>4</th><th>5</th></tr><tr><th>1</th><td>-11.277</td><td>-8.39189</td><td>-6.60473</td><td>-6.1723</td><td>-6</td></tr></table>"
      ],
      "text/plain": [
       "logCuA1 =   -1.1277e+01  -8.3919e+00  -6.6047e+00  -6.1723e+00  -6.0000e+00\n"
      ]
     },
     "metadata": {},
     "output_type": "display_data"
    },
    {
     "data": {
      "text/html": [
       "<table><tr><th><i>logCuB1<i></th><th>1</th><th>2</th><th>3</th><th>4</th><th>5</th></tr><tr><th>1</th><td>-9.67568</td><td>-7.88176</td><td>-6.55743</td><td>-6.14527</td><td>-6</td></tr></table>"
      ],
      "text/plain": [
       "logCuB1 =   -9.6757e+00  -7.8818e+00  -6.5574e+00  -6.1453e+00  -6.0000e+00\n"
      ]
     },
     "metadata": {},
     "output_type": "display_data"
    },
    {
     "data": {
      "text/html": [
       "<table><tr><th><i>ans<i></th><th>1</th></tr><tr><th>1</th><td>2</td></tr><tr><th>2</th><td>2.25</td></tr><tr><th>3</th><td>2.5</td></tr><tr><th>4</th><td>2.75</td></tr><tr><th>5</th><td>3</td></tr><tr><th>6</th><td>3.25</td></tr><tr><th>7</th><td>3.5</td></tr><tr><th>8</th><td>3.75</td></tr><tr><th>9</th><td>4</td></tr><tr><th>10</th><td>4.25</td></tr><tr><th>11</th><td>4.5</td></tr><tr><th>12</th><td>4.75</td></tr><tr><th>13</th><td>5</td></tr><tr><th>14</th><td>5.25</td></tr><tr><th>15</th><td>5.5</td></tr><tr><th>16</th><td>5.75</td></tr><tr><th>17</th><td>6</td></tr><tr><th>18</th><td>6.25</td></tr><tr><th>19</th><td>6.5</td></tr><tr><th>20</th><td>6.75</td></tr><tr><th>21</th><td>7</td></tr><tr><th>22</th><td>7.25</td></tr><tr><th>23</th><td>7.5</td></tr><tr><th>24</th><td>7.75</td></tr><tr><th>25</th><td>8</td></tr><tr><th>26</th><td>8.25</td></tr><tr><th>27</th><td>8.5</td></tr><tr><th>28</th><td>8.75</td></tr><tr><th>29</th><td>9</td></tr><tr><th>30</th><td>9.25</td></tr><tr><th>31</th><td>9.5</td></tr><tr><th>32</th><td>9.75</td></tr><tr><th>33</th><td>10</td></tr></table>"
      ],
      "text/plain": [
       "ans =    2.0000e+00\n",
       "   2.2500e+00\n",
       "   2.5000e+00\n",
       "   2.7500e+00\n",
       "   3.0000e+00\n",
       "   3.2500e+00\n",
       "   3.5000e+00\n",
       "   3.7500e+00\n",
       "   4.0000e+00\n",
       "   4.2500e+00\n",
       "   4.5000e+00\n",
       "   4.7500e+00\n",
       "   5.0000e+00\n",
       "   5.2500e+00\n",
       "   5.5000e+00\n",
       "   5.7500e+00\n",
       "   6.0000e+00\n",
       "   6.2500e+00\n",
       "   6.5000e+00\n",
       "   6.7500e+00\n",
       "   7.0000e+00\n",
       "   7.2500e+00\n",
       "   7.5000e+00\n",
       "   7.7500e+00\n",
       "   8.0000e+00\n",
       "   8.2500e+00\n",
       "   8.5000e+00\n",
       "   8.7500e+00\n",
       "   9.0000e+00\n",
       "   9.2500e+00\n",
       "   9.5000e+00\n",
       "   9.7500e+00\n",
       "   1.0000e+01\n"
      ]
     },
     "metadata": {},
     "output_type": "display_data"
    },
    {
     "data": {
      "text/html": [
       "<table><tr><th><i>ans<i></th><th>1</th><th>2</th><th>3</th><th>4</th><th>5</th><th>6</th><th>7</th><th>8</th><th>9</th><th>10</th><th>11</th><th>12</th><th>13</th><th>14</th><th>15</th><th>16</th><th>17</th><th>18</th><th>19</th><th>20</th><th>21</th><th>22</th><th>23</th><th>24</th><th>25</th><th>26</th><th>27</th><th>28</th><th>29</th><th>30</th><th>31</th><th>32</th><th>33</th></tr><tr><th>1</th><td>-6</td><td>-6</td><td>-6</td><td>-6.00001</td><td>-6.00001</td><td>-6.00002</td><td>-6.00004</td><td>-6.00007</td><td>-6.00013</td><td>-6.00024</td><td>-6.00044</td><td>-6.00081</td><td>-6.00154</td><td>-6.00303</td><td>-6.00624</td><td>-6.01314</td><td>-6.02665</td><td>-6.04803</td><td>-6.07656</td><td>-6.11652</td><td>-6.23941</td><td>-6.73941</td><td>-7.23941</td><td>-7.73941</td><td>-8.23941</td><td>-8.73941</td><td>-9.23941</td><td>-9.73941</td><td>-10.2394</td><td>-10.7394</td><td>-11.2394</td><td>-12.0193</td><td>-13.0067</td></tr></table>"
      ],
      "text/plain": [
       "ans =  Columns 1 through 6:\n",
       "\n",
       "  -6.0000e+00  -6.0000e+00  -6.0000e+00  -6.0000e+00  -6.0000e+00  -6.0000e+00\n",
       "\n",
       " Columns 7 through 12:\n",
       "\n",
       "  -6.0000e+00  -6.0001e+00  -6.0001e+00  -6.0002e+00  -6.0004e+00  -6.0008e+00\n",
       "\n",
       " Columns 13 through 18:\n",
       "\n",
       "  -6.0015e+00  -6.0030e+00  -6.0062e+00  -6.0131e+00  -6.0266e+00  -6.0480e+00\n",
       "\n",
       " Columns 19 through 24:\n",
       "\n",
       "  -6.0766e+00  -6.1165e+00  -6.2394e+00  -6.7394e+00  -7.2394e+00  -7.7394e+00\n",
       "\n",
       " Columns 25 through 30:\n",
       "\n",
       "  -8.2394e+00  -8.7394e+00  -9.2394e+00  -9.7394e+00  -1.0239e+01  -1.0739e+01\n",
       "\n",
       " Columns 31 through 33:\n",
       "\n",
       "  -1.1239e+01  -1.2019e+01  -1.3007e+01\n"
      ]
     },
     "metadata": {},
     "output_type": "display_data"
    }
   ],
   "source": [
    "pH1\n",
    "logCuA1\n",
    "logCuB1\n",
    "\n",
    "pHv'\n",
    "log10(Cuall)"
   ]
  },
  {
   "cell_type": "code",
   "execution_count": null,
   "id": "55025204-2c54-4973-b3fe-013de1a578a2",
   "metadata": {},
   "outputs": [],
   "source": []
  }
 ],
 "metadata": {
  "kernelspec": {
   "display_name": "Octave (xoctave)",
   "language": "Octave",
   "name": "xoctave"
  },
  "language_info": {
   "codemirror_mode": "octave",
   "file_extension": ".m",
   "mimetype": "text/x-octave",
   "name": "Octave",
   "nbconvert_exporter": "",
   "pygments_lexer": "octave",
   "version": "7.3.0"
  }
 },
 "nbformat": 4,
 "nbformat_minor": 5
}
