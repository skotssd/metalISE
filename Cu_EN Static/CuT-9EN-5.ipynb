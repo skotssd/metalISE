{
 "cells": [
  {
   "cell_type": "markdown",
   "id": "c1bae0c0-228c-4f80-af62-5d2b2432bdd2",
   "metadata": {},
   "source": [
    "# make plot CuT 1e-9 ENT=1e-5"
   ]
  },
  {
   "cell_type": "code",
   "execution_count": 1,
   "id": "d65fe225-47c4-472c-b5b3-69a7ee5014b7",
   "metadata": {},
   "outputs": [],
   "source": [
    "% housekeeping\n",
    "% clear data and number format\n",
    "clear; format short e\n",
    "% turn off warnings\n",
    "warning off\n",
    "graphics_toolkit (\"notebook\"); \n",
    "%graphics_toolkit (\"plotly\"); \n",
    "% setup environment\n",
    "% set path to equilibrium solver\n",
    "txt=pwd;\n",
    "n=length(txt);\n",
    "rootpath=txt(1:n-12);\n",
    "PHREEQCpath=[rootpath,'/runPHREEQC'];\n",
    "addpath(PHREEQCpath);\n",
    "JEQUILIBpath=[rootpath,'/JEQUILIB']; addpath(JEQUILIBpath);\n",
    "Cumodelspath=[rootpath,'/Cu_EN']; addpath(Cumodelspath);"
   ]
  },
  {
   "cell_type": "code",
   "execution_count": 2,
   "id": "9fa148e7-3a15-4e16-8852-391a8274278e",
   "metadata": {},
   "outputs": [],
   "source": [
    "% set constants\n",
    "\n",
    "pHv=2:0.25:10; CuT=1e-9; ENT=1e-5;"
   ]
  },
  {
   "cell_type": "code",
   "execution_count": 3,
   "id": "56121567-f17a-4709-b2a2-0945a951fd1c",
   "metadata": {},
   "outputs": [],
   "source": [
    "% make model with higher resolutions so plot line is smooth\n",
    "\n",
    "% MODEL FOR COMPARISON\n",
    "%model with just inorganic speciation\n",
    "%geochemical model\n",
    "% input the constants and solution chemistry\n",
    "\n",
    "flag1=2; %flag1 for concentration based search vector (1) or for log based search vector (2).\n",
    "flag2=1; %flag2 for numerical derivatives (2) or analtyical derivatives (1)\n",
    "database=[]; \n",
    "flag3=0; % flag3 1 for show warnings. 0 no warnings\n",
    "flag4=0; %if=1 solve tableau one line at a time to get a good initial guess (no solids). really challenging probs only\n",
    "flag5=0; %if=1 use stored initial guess for including solids\n",
    "\n",
    "inorganicTOTALS=[CuT ENT];\n",
    "inorganicTOTALS(inorganicTOTALS==0)=1e-16; % get rid of zero values, b/c div by zero error\n",
    "TOTALS=[inorganicTOTALS]; %TOTALS=inorganicTOTALS;\n",
    "\n",
    "for i=1:length(pHv);\n",
    "    pH=pHv(i); pe=20.75-pH; PCO2=10^-3.5;\n",
    "    [Cuall(i),CuOH,CuOH2s,CuOs,CuCO3s,tenorite,malachite,MASSERR]=CuOHCO2open_EN_allsolids(pH,pe,PCO2,TOTALS',flag1,flag2,flag3,flag4,flag5,database);\n",
    "end\n"
   ]
  },
  {
   "cell_type": "code",
   "execution_count": 4,
   "id": "a0c3acd8-b6f7-4671-bb5b-c8ea6f42245c",
   "metadata": {},
   "outputs": [
    {
     "data": {
      "text/html": [
       "<table><tr><th><i>logCumodel1<i></th><th>1</th><th>2</th><th>3</th><th>4</th><th>5</th></tr><tr><th>1</th><td>-18.0821</td><td>-14.9125</td><td>-9.85439</td><td>-9.00045</td><td>-9</td></tr></table>"
      ],
      "text/plain": [
       "logCumodel1 =   -1.8082e+01  -1.4912e+01  -9.8544e+00  -9.0005e+00  -9.0000e+00\n"
      ]
     },
     "metadata": {},
     "output_type": "display_data"
    }
   ],
   "source": [
    "% experimental data\n",
    "pH1=[10.034 8.122 6.023 4.058 2.02];\n",
    "logCuA1=[-12.1182\t-10.1858\t-9.44595\t-9.4223 \t-9];\n",
    "logCuB1=[-17.2331\t-14.1047\t-9.63176\t-9.15203\t-9];\n",
    "logCumodel1=[-18.0821\t-14.9125\t-9.85439\t-9.00045\t-9]\n",
    "\n",
    "pH2=[9.57 7.97 7.153 3.11 2.092];\n",
    "logCuA2=[-16.0845\t-13.5405\t-11.6892\t-9.08784\t-9];\n",
    "logCuB2=[-18.5372\t-15.75\t-13.6014\t-8.92568\t-9];\n",
    "logCumodel2=[-17.5472\t-14.5953\t-12.7105\t-9.00002\t-9];"
   ]
  },
  {
   "cell_type": "code",
   "execution_count": 5,
   "id": "745c57bb-ba16-43f0-80a2-21bb4bd5f93a",
   "metadata": {},
   "outputs": [
    {
     "data": {
      "image/png": "[encoded data removed]"
     },
     "metadata": {
      "image/png": {
       "height": 420,
       "width": 560
      }
     },
     "output_type": "display_data"
    }
   ],
   "source": [
    "% make plot\n",
    "\n",
    "plot(pHv,log10(Cuall),'k-', pHv,log10(Cuall*10),'k--', pHv,log10(Cuall./10),'k--')\n",
    "hold on\n",
    "plot(pH1,logCuA1,'ko','markerfacecolor','r')\n",
    "plot(pH2,logCuA2,'ko','markerfacecolor','r')\n",
    "plot(pH1,logCuB1,'ko','markerfacecolor','b')\n",
    "plot(pH2,logCuB2,'ko','markerfacecolor','b')\n",
    "xlabel('pH'); ylabel('log[Cu^{2+}]')\n",
    "set(gca,'linewidth',2,'fontsize',12)"
   ]
  },
  {
   "cell_type": "code",
   "execution_count": 6,
   "id": "5e5b6162-c7a6-4b15-ba75-99147cfb4e10",
   "metadata": {},
   "outputs": [
    {
     "data": {
      "text/html": [
       "<table><tr><th><i>pH1<i></th><th>1</th><th>2</th><th>3</th><th>4</th><th>5</th></tr><tr><th>1</th><td>10.034</td><td>8.122</td><td>6.023</td><td>4.058</td><td>2.02</td></tr></table>"
      ],
      "text/plain": [
       "pH1 =    1.0034e+01   8.1220e+00   6.0230e+00   4.0580e+00   2.0200e+00\n"
      ]
     },
     "metadata": {},
     "output_type": "display_data"
    },
    {
     "data": {
      "text/html": [
       "<table><tr><th><i>logCuA1<i></th><th>1</th><th>2</th><th>3</th><th>4</th><th>5</th></tr><tr><th>1</th><td>-12.1182</td><td>-10.1858</td><td>-9.44595</td><td>-9.4223</td><td>-9</td></tr></table>"
      ],
      "text/plain": [
       "logCuA1 =   -1.2118e+01  -1.0186e+01  -9.4459e+00  -9.4223e+00  -9.0000e+00\n"
      ]
     },
     "metadata": {},
     "output_type": "display_data"
    },
    {
     "data": {
      "text/html": [
       "<table><tr><th><i>logCuB1<i></th><th>1</th><th>2</th><th>3</th><th>4</th><th>5</th></tr><tr><th>1</th><td>-17.2331</td><td>-14.1047</td><td>-9.63176</td><td>-9.15203</td><td>-9</td></tr></table>"
      ],
      "text/plain": [
       "logCuB1 =   -1.7233e+01  -1.4105e+01  -9.6318e+00  -9.1520e+00  -9.0000e+00\n"
      ]
     },
     "metadata": {},
     "output_type": "display_data"
    },
    {
     "data": {
      "text/html": [
       "<table><tr><th><i>pH2<i></th><th>1</th><th>2</th><th>3</th><th>4</th><th>5</th></tr><tr><th>1</th><td>9.57</td><td>7.97</td><td>7.153</td><td>3.11</td><td>2.092</td></tr></table>"
      ],
      "text/plain": [
       "pH2 =    9.5700e+00   7.9700e+00   7.1530e+00   3.1100e+00   2.0920e+00\n"
      ]
     },
     "metadata": {},
     "output_type": "display_data"
    },
    {
     "data": {
      "text/html": [
       "<table><tr><th><i>logCuB1<i></th><th>1</th><th>2</th><th>3</th><th>4</th><th>5</th></tr><tr><th>1</th><td>-17.2331</td><td>-14.1047</td><td>-9.63176</td><td>-9.15203</td><td>-9</td></tr></table>"
      ],
      "text/plain": [
       "logCuB1 =   -1.7233e+01  -1.4105e+01  -9.6318e+00  -9.1520e+00  -9.0000e+00\n"
      ]
     },
     "metadata": {},
     "output_type": "display_data"
    },
    {
     "data": {
      "text/html": [
       "<table><tr><th><i>logCuB2<i></th><th>1</th><th>2</th><th>3</th><th>4</th><th>5</th></tr><tr><th>1</th><td>-18.5372</td><td>-15.75</td><td>-13.6014</td><td>-8.92568</td><td>-9</td></tr></table>"
      ],
      "text/plain": [
       "logCuB2 =   -1.8537e+01  -1.5750e+01  -1.3601e+01  -8.9257e+00  -9.0000e+00\n"
      ]
     },
     "metadata": {},
     "output_type": "display_data"
    },
    {
     "data": {
      "text/html": [
       "<table><tr><th><i>ans<i></th><th>1</th></tr><tr><th>1</th><td>2</td></tr><tr><th>2</th><td>2.25</td></tr><tr><th>3</th><td>2.5</td></tr><tr><th>4</th><td>2.75</td></tr><tr><th>5</th><td>3</td></tr><tr><th>6</th><td>3.25</td></tr><tr><th>7</th><td>3.5</td></tr><tr><th>8</th><td>3.75</td></tr><tr><th>9</th><td>4</td></tr><tr><th>10</th><td>4.25</td></tr><tr><th>11</th><td>4.5</td></tr><tr><th>12</th><td>4.75</td></tr><tr><th>13</th><td>5</td></tr><tr><th>14</th><td>5.25</td></tr><tr><th>15</th><td>5.5</td></tr><tr><th>16</th><td>5.75</td></tr><tr><th>17</th><td>6</td></tr><tr><th>18</th><td>6.25</td></tr><tr><th>19</th><td>6.5</td></tr><tr><th>20</th><td>6.75</td></tr><tr><th>21</th><td>7</td></tr><tr><th>22</th><td>7.25</td></tr><tr><th>23</th><td>7.5</td></tr><tr><th>24</th><td>7.75</td></tr><tr><th>25</th><td>8</td></tr><tr><th>26</th><td>8.25</td></tr><tr><th>27</th><td>8.5</td></tr><tr><th>28</th><td>8.75</td></tr><tr><th>29</th><td>9</td></tr><tr><th>30</th><td>9.25</td></tr><tr><th>31</th><td>9.5</td></tr><tr><th>32</th><td>9.75</td></tr><tr><th>33</th><td>10</td></tr></table>"
      ],
      "text/plain": [
       "ans =    2.0000e+00\n",
       "   2.2500e+00\n",
       "   2.5000e+00\n",
       "   2.7500e+00\n",
       "   3.0000e+00\n",
       "   3.2500e+00\n",
       "   3.5000e+00\n",
       "   3.7500e+00\n",
       "   4.0000e+00\n",
       "   4.2500e+00\n",
       "   4.5000e+00\n",
       "   4.7500e+00\n",
       "   5.0000e+00\n",
       "   5.2500e+00\n",
       "   5.5000e+00\n",
       "   5.7500e+00\n",
       "   6.0000e+00\n",
       "   6.2500e+00\n",
       "   6.5000e+00\n",
       "   6.7500e+00\n",
       "   7.0000e+00\n",
       "   7.2500e+00\n",
       "   7.5000e+00\n",
       "   7.7500e+00\n",
       "   8.0000e+00\n",
       "   8.2500e+00\n",
       "   8.5000e+00\n",
       "   8.7500e+00\n",
       "   9.0000e+00\n",
       "   9.2500e+00\n",
       "   9.5000e+00\n",
       "   9.7500e+00\n",
       "   1.0000e+01\n"
      ]
     },
     "metadata": {},
     "output_type": "display_data"
    },
    {
     "data": {
      "text/html": [
       "<table><tr><th><i>ans<i></th><th>1</th><th>2</th><th>3</th><th>4</th><th>5</th><th>6</th><th>7</th><th>8</th><th>9</th><th>10</th><th>11</th><th>12</th><th>13</th><th>14</th><th>15</th><th>16</th><th>17</th><th>18</th><th>19</th><th>20</th><th>21</th><th>22</th><th>23</th><th>24</th><th>25</th><th>26</th><th>27</th><th>28</th><th>29</th><th>30</th><th>31</th><th>32</th><th>33</th></tr><tr><th>1</th><td>-9</td><td>-9</td><td>-9</td><td>-9.00001</td><td>-9.00002</td><td>-9.00003</td><td>-9.00006</td><td>-9.00015</td><td>-9.00036</td><td>-9.00096</td><td>-9.0027</td><td>-9.00789</td><td>-9.0234</td><td>-9.06811</td><td>-9.18364</td><td>-9.42484</td><td>-9.81202</td><td>-10.3269</td><td>-10.9467</td><td>-11.6273</td><td>-12.3095</td><td>-12.9561</td><td>-13.5582</td><td>-14.1223</td><td>-14.6585</td><td>-15.1745</td><td>-15.6746</td><td>-16.1585</td><td>-16.6218</td><td>-17.0557</td><td>-17.4472</td><td>-17.7818</td><td>-18.0505</td></tr></table>"
      ],
      "text/plain": [
       "ans =  Columns 1 through 6:\n",
       "\n",
       "  -9.0000e+00  -9.0000e+00  -9.0000e+00  -9.0000e+00  -9.0000e+00  -9.0000e+00\n",
       "\n",
       " Columns 7 through 12:\n",
       "\n",
       "  -9.0001e+00  -9.0001e+00  -9.0004e+00  -9.0010e+00  -9.0027e+00  -9.0079e+00\n",
       "\n",
       " Columns 13 through 18:\n",
       "\n",
       "  -9.0234e+00  -9.0681e+00  -9.1836e+00  -9.4248e+00  -9.8120e+00  -1.0327e+01\n",
       "\n",
       " Columns 19 through 24:\n",
       "\n",
       "  -1.0947e+01  -1.1627e+01  -1.2310e+01  -1.2956e+01  -1.3558e+01  -1.4122e+01\n",
       "\n",
       " Columns 25 through 30:\n",
       "\n",
       "  -1.4658e+01  -1.5175e+01  -1.5675e+01  -1.6158e+01  -1.6622e+01  -1.7056e+01\n",
       "\n",
       " Columns 31 through 33:\n",
       "\n",
       "  -1.7447e+01  -1.7782e+01  -1.8050e+01\n"
      ]
     },
     "metadata": {},
     "output_type": "display_data"
    }
   ],
   "source": [
    "pH1\n",
    "logCuA1\n",
    "logCuB1\n",
    "\n",
    "pH2\n",
    "logCuB1\n",
    "logCuB2\n",
    "\n",
    "pHv'\n",
    "log10(Cuall)"
   ]
  },
  {
   "cell_type": "code",
   "execution_count": 7,
   "id": "364826c9-c656-412f-8cfc-dc8e8f2b33b9",
   "metadata": {},
   "outputs": [
    {
     "data": {
      "text/html": [
       "<table><tr><th><i>logCumodel1<i></th><th>1</th><th>2</th><th>3</th><th>4</th><th>5</th></tr><tr><th>1</th><td>-18.0821</td><td>-14.9125</td><td>-9.85439</td><td>-9.00045</td><td>-9</td></tr></table>"
      ],
      "text/plain": [
       "logCumodel1 =   -1.8082e+01  -1.4912e+01  -9.8544e+00  -9.0005e+00  -9.0000e+00\n"
      ]
     },
     "metadata": {},
     "output_type": "display_data"
    },
    {
     "data": {
      "text/html": [
       "<table><tr><th><i>y<i></th><th>1</th><th>2</th><th>3</th><th>4</th><th>5</th></tr><tr><th>1</th><td>5.84655e-18</td><td>7.85778e-15</td><td>2.33475e-10</td><td>7.04644e-10</td><td>1e-09</td></tr></table>"
      ],
      "text/plain": [
       "y =    5.8466e-18   7.8578e-15   2.3347e-10   7.0464e-10   1.0000e-09\n"
      ]
     },
     "metadata": {},
     "output_type": "display_data"
    },
    {
     "data": {
      "text/html": [
       "<table><tr><th><i>ymodel<i></th><th>1</th><th>2</th><th>3</th><th>4</th><th>5</th></tr><tr><th>1</th><td>8.27752e-19</td><td>1.22321e-15</td><td>1.39833e-10</td><td>9.98964e-10</td><td>1e-09</td></tr></table>"
      ],
      "text/plain": [
       "ymodel =    8.2775e-19   1.2232e-15   1.3983e-10   9.9896e-10   1.0000e-09\n"
      ]
     },
     "metadata": {},
     "output_type": "display_data"
    }
   ],
   "source": [
    "logCuA1=[-12.1182\t-10.1858\t-9.44595\t-9.4223 \t-9];\n",
    "logCuB1=[-17.2331\t-14.1047\t-9.63176\t-9.15203\t-9];\n",
    "logCumodel1=[-18.0821\t-14.9125\t-9.85439\t-9.00045\t-9]\n",
    "\n",
    "y = 10.^(logCuB1)\n",
    "ymodel = 10.^(logCumodel1)\n",
    "\n",
    "function R2=getR2(y,ymodel)\n",
    "residuals=y-ymodel;\n",
    "residualsT=y-mean(y);\n",
    "SStot=sum(residualsT.^2)\n",
    "SSres=sum(residuals.^2)\n",
    "R2=1-(SSres/SStot)\n",
    "end"
   ]
  },
  {
   "cell_type": "code",
   "execution_count": null,
   "id": "467c6355-c551-4fa4-822f-188e9d146f60",
   "metadata": {},
   "outputs": [],
   "source": []
  }
 ],
 "metadata": {
  "kernelspec": {
   "display_name": "Octave (xoctave)",
   "language": "Octave",
   "name": "xoctave"
  },
  "language_info": {
   "codemirror_mode": "octave",
   "file_extension": ".m",
   "mimetype": "text/x-octave",
   "name": "Octave",
   "nbconvert_exporter": "",
   "pygments_lexer": "octave",
   "version": "7.3.0"
  }
 },
 "nbformat": 4,
 "nbformat_minor": 5
}
