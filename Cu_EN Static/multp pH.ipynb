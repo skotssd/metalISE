{
 "cells": [
  {
   "cell_type": "code",
   "execution_count": 1,
   "id": "e4234c4e-d34b-4776-967d-a9c9b1010e24",
   "metadata": {},
   "outputs": [],
   "source": [
    "% Data processing for pH dependent experiments via a linear relationship comparing to Nernstian "
   ]
  },
  {
   "cell_type": "code",
   "execution_count": 2,
   "id": "7fa5610f-1132-49d6-ad69-548d06711db5",
   "metadata": {},
   "outputs": [],
   "source": [
    "% housekeeping\n",
    "% clear data and number format\n",
    "clear; format short e\n",
    "% turn off warnings\n",
    "warning off\n",
    "graphics_toolkit (\"notebook\"); \n",
    "%graphics_toolkit (\"plotly\"); \n",
    "% setup environment\n",
    "% set path to equilibrium solver\n",
    "txt=pwd;\n",
    "n=length(txt);\n",
    "rootpath=txt(1:n-12);\n",
    "PHREEQCpath=[rootpath,'/runPHREEQC'];\n",
    "addpath(PHREEQCpath);\n",
    "JEQUILIBpath=[rootpath,'/JEQUILIB']; addpath(JEQUILIBpath);\n",
    "Cumodelspath=[rootpath,'/Cu_EN']; addpath(Cumodelspath);"
   ]
  },
  {
   "cell_type": "code",
   "execution_count": 3,
   "id": "f4c509ba-274f-43fc-8523-2afeab83bc51",
   "metadata": {},
   "outputs": [],
   "source": [
    "% put in constants\n",
    "VT=0.05; %total volume\n",
    "stockCuconc=0.157366; %M\n",
    "ENT=1e-6;"
   ]
  },
  {
   "cell_type": "code",
   "execution_count": 4,
   "id": "c495cb89-1814-4630-9578-4d394263294d",
   "metadata": {},
   "outputs": [],
   "source": [
    "% put in data\n",
    "\n",
    "originalsamplemVnpH=[...\n",
    "%pH mV\n",
    "10.097 -131.4\n",
    "7.972 -7\n",
    "6.389 73.8\n",
    "4.037 95.6\n",
    "2.331 94.4\n",
    "];\n",
    "\n",
    "calibdata=[...\n",
    "%volCu mV pH\n",
    "0 104.8 2.331\n",
    "0 104.8 2.331\n",
    "];\n"
   ]
  },
  {
   "cell_type": "code",
   "execution_count": 5,
   "id": "cf16b761-263a-4c68-b8c3-0147f0dd2da9",
   "metadata": {},
   "outputs": [
    {
     "data": {
      "text/html": [
       "<table><tr><th><i>pHv<i></th><th>1</th></tr><tr><th>1</th><td>10.097</td></tr><tr><th>2</th><td>7.972</td></tr><tr><th>3</th><td>6.389</td></tr><tr><th>4</th><td>4.037</td></tr><tr><th>5</th><td>2.331</td></tr></table>"
      ],
      "text/plain": [
       "pHv =    1.0097e+01\n",
       "   7.9720e+00\n",
       "   6.3890e+00\n",
       "   4.0370e+00\n",
       "   2.3310e+00\n"
      ]
     },
     "metadata": {},
     "output_type": "display_data"
    },
    {
     "data": {
      "image/png": "[encoded data removed]"
     },
     "metadata": {
      "image/png": {
       "height": 420,
       "width": 560
      }
     },
     "output_type": "display_data"
    }
   ],
   "source": [
    "graphics_toolkit(\"notebook\")\n",
    "% pull out the sample data\n",
    "pHv=(originalsamplemVnpH(:,1))\n",
    "mVoriginal=(originalsamplemVnpH(:,2));\n",
    "\n",
    "%pull out the calibration data\n",
    "addedCuvol=calibdata(:,1)'*1e-6; pHcalib=calibdata(:,3); mV=calibdata(:,2)'; \n",
    "CuTmeas=1e-9; % not actually known until it is measured \n",
    "CuT=CuTmeas; CuTplus=(CuTmeas*(VT)+addedCuvol*stockCuconc)./(VT+addedCuvol);\n",
    "\n",
    "plot(log10(CuTplus),mV,'ko'); hold on\n",
    "\n",
    "%chlorocorrecxtion\n",
    "%BF1=2.49; BF2=1.14; BF3=0.9; ClT=4.9904e-4; %from Inorg. Chem. 1983. 22. 3323-3326.\n",
    "%CuTplus=CuTplus./(1+BF1*ClT+BF2*ClT^2+BF3*ClT^3);\n",
    "\n",
    "%determine all the slopes and intercepts for each pair of mV values\n",
    "for i=1:length(mV)-1\n",
    "    param=polyfit([log10(CuTplus(i)) log10(CuTplus(i+1))],[mV(i) mV(i+1)],1);\n",
    "    val=polyval(param,[log10(CuTplus(i))-0.2 log10(CuTplus(i+1))+0.2]);\n",
    "    plot([log10(CuTplus(i))-0.2 log10(CuTplus(i+1))+0.2],val,'k-')\n",
    "    m(i)=param(1); Eo(i)=param(2); \n",
    "    %two ways to define what logCu is for the Eo and m values. need to pick the approach that consistently works best\n",
    "    logCuT(i)=mean([log10(CuTplus(i)) log10(CuTplus(i+1))]); % calib Cu is the midpoint\n",
    "    %logCuT(i)=[log10(CuTplus(i))]; % calib Cu is the starting point \n",
    "end\n",
    "xlabel('log[Cu^{2+}]');  ylabel('mV');\n",
    "set(gca,'fontsize',12); set(gca,'linewidth',2);\n",
    "xlabel('log[Cu^{2+}]'); ylabel('Potential (mV)')"
   ]
  },
  {
   "cell_type": "code",
   "execution_count": 6,
   "id": "5a466b07-98b5-4336-8fb6-591e4402ee18",
   "metadata": {},
   "outputs": [
    {
     "data": {
      "text/html": [
       "<table><tr><th><i>logCuoriginal<i></th><th>1</th></tr><tr><th>1</th><td>0.131443</td></tr><tr><th>2</th><td>-4.67784</td></tr><tr><th>3</th><td>-7.80155</td></tr><tr><th>4</th><td>-8.64433</td></tr><tr><th>5</th><td>-8.59794</td></tr></table>"
      ],
      "text/plain": [
       "logCuoriginal =    1.3144e-01\n",
       "  -4.6778e+00\n",
       "  -7.8015e+00\n",
       "  -8.6443e+00\n",
       "  -8.5979e+00\n"
      ]
     },
     "metadata": {},
     "output_type": "display_data"
    }
   ],
   "source": [
    "% then use this metacalibration to determine original sample logCu2+\n",
    "\n",
    "Eooriginal=mean(Eo(1)); \n",
    "moriginal=mean(m(1)); \n",
    "\n",
    "moriginalsimple=59.2/2; Eooriginalsimple=mV(1)-moriginalsimple*log10(CuTmeas);\n",
    "\n",
    "logCuoriginal=(mVoriginal-Eooriginal)/moriginal\n",
    "logCuoriginalsimple=(mVoriginal-Eooriginalsimple)/moriginalsimple;"
   ]
  },
  {
   "cell_type": "code",
   "execution_count": 7,
   "id": "bdbaa3bf-784a-4caf-bb30-8e156e5e6d9e",
   "metadata": {},
   "outputs": [
    {
     "data": {
      "image/png": "[encoded data removed]"
     },
     "metadata": {
      "image/png": {
       "height": 420,
       "width": 560
      }
     },
     "output_type": "display_data"
    }
   ],
   "source": [
    "% MODEL FOR COMPARISON\n",
    "graphics_toolkit(\"notebook\")\n",
    "%model with just inorganic speciation\n",
    "%geochemical model\n",
    "% input the constants and solution chemistry\n",
    "\n",
    "flag1=2; %flag1 for concentration based search vector (1) or for log based search vector (2).\n",
    "flag2=1; %flag2 for numerical derivatives (2) or analtyical derivatives (1)\n",
    "database=[]; \n",
    "flag3=0; % flag3 1 for show warnings. 0 no warnings\n",
    "flag4=0; %if=1 solve tableau one line at a time to get a good initial guess (no solids). really challenging probs only\n",
    "flag5=0; %if=1 use stored initial guess for including solids\n",
    "\n",
    "CuT=CuTmeas; inorganicTOTALS=[CuT ENT];\n",
    "inorganicTOTALS(inorganicTOTALS==0)=1e-16; % get rid of zero values, b/c div by zero error\n",
    "TOTALS=[inorganicTOTALS]; %TOTALS=inorganicTOTALS;\n",
    "\n",
    "for i=1:length(pHv);\n",
    "    pH=pHv(i); pe=20.75-pH; PCO2=10^-3.5;\n",
    "    [Cuall(i),CuOH,CuOH2s,CuOs,CuCO3s,tenorite,malachite,MASSERR]=CuOHCO2open_EN_allsolids(pH,pe,PCO2,TOTALS',flag1,flag2,flag3,flag4,flag5,database);\n",
    "end\n",
    "\n",
    "plot(pHv,logCuoriginal,'bo','markersize',8,'markerfacecolor','b'); \n",
    "hold on\n",
    "plot(pHv,log10(Cuall),'k-')\n",
    "plot(pHv,logCuoriginalsimple,'ko','markersize',8,'markerfacecolor','r'); \n",
    "\n",
    "xlabel('pH'); ylabel('log[Cu^{2+}]')\n",
    "\n"
   ]
  },
  {
   "cell_type": "code",
   "execution_count": 8,
   "id": "25767b57-405d-4bdc-97a9-127d3d473b63",
   "metadata": {},
   "outputs": [
    {
     "data": {
      "text/html": [
       "<table><tr><th><i>ans<i></th><th>1</th><th>2</th><th>3</th><th>4</th><th>5</th></tr><tr><th>1</th><td>-16.5804</td><td>-12.6297</td><td>-9.5617</td><td>-9.00017</td><td>-9</td></tr></table>"
      ],
      "text/plain": [
       "ans =   -1.6580e+01  -1.2630e+01  -9.5617e+00  -9.0002e+00  -9.0000e+00\n"
      ]
     },
     "metadata": {},
     "output_type": "display_data"
    }
   ],
   "source": [
    "log10(Cuall)"
   ]
  },
  {
   "cell_type": "code",
   "execution_count": 9,
   "id": "946abe5e-591c-47c9-a486-1a63944990c3",
   "metadata": {},
   "outputs": [
    {
     "data": {
      "text/html": [
       "<table><tr><th><i>logCuoriginal<i></th><th>1</th></tr><tr><th>1</th><td>0.131443</td></tr><tr><th>2</th><td>-4.67784</td></tr><tr><th>3</th><td>-7.80155</td></tr><tr><th>4</th><td>-8.64433</td></tr><tr><th>5</th><td>-8.59794</td></tr></table>"
      ],
      "text/plain": [
       "logCuoriginal =    1.3144e-01\n",
       "  -4.6778e+00\n",
       "  -7.8015e+00\n",
       "  -8.6443e+00\n",
       "  -8.5979e+00\n"
      ]
     },
     "metadata": {},
     "output_type": "display_data"
    }
   ],
   "source": [
    "logCuoriginal"
   ]
  },
  {
   "cell_type": "code",
   "execution_count": null,
   "id": "3dabd92e-d0fb-46a1-9585-d58418010afd",
   "metadata": {},
   "outputs": [],
   "source": []
  }
 ],
 "metadata": {
  "kernelspec": {
   "display_name": "Octave (xoctave)",
   "language": "Octave",
   "name": "xoctave"
  },
  "language_info": {
   "codemirror_mode": "octave",
   "file_extension": ".m",
   "mimetype": "text/x-octave",
   "name": "Octave",
   "nbconvert_exporter": "",
   "pygments_lexer": "octave",
   "version": "7.3.0"
  }
 },
 "nbformat": 4,
 "nbformat_minor": 5
}
