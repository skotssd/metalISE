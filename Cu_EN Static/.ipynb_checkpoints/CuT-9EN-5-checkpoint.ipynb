{
 "cells": [
  {
   "cell_type": "markdown",
   "id": "c1bae0c0-228c-4f80-af62-5d2b2432bdd2",
   "metadata": {},
   "source": [
    "# make plot CuT 1e-9 ENT=1e-5"
   ]
  },
  {
   "cell_type": "code",
   "execution_count": 1,
   "id": "d65fe225-47c4-472c-b5b3-69a7ee5014b7",
   "metadata": {},
   "outputs": [],
   "source": [
    "% housekeeping\n",
    "% clear data and number format\n",
    "clear; format short e\n",
    "% turn off warnings\n",
    "warning off\n",
    "graphics_toolkit (\"notebook\"); \n",
    "%graphics_toolkit (\"plotly\"); \n",
    "% setup environment\n",
    "% set path to equilibrium solver\n",
    "txt=pwd;\n",
    "n=length(txt);\n",
    "rootpath=txt(1:n-12);\n",
    "PHREEQCpath=[rootpath,'/runPHREEQC'];\n",
    "addpath(PHREEQCpath);\n",
    "JEQUILIBpath=[rootpath,'/JEQUILIB']; addpath(JEQUILIBpath);\n",
    "Cumodelspath=[rootpath,'/Cu_EN']; addpath(Cumodelspath);"
   ]
  },
  {
   "cell_type": "code",
   "execution_count": 2,
   "id": "9fa148e7-3a15-4e16-8852-391a8274278e",
   "metadata": {},
   "outputs": [],
   "source": [
    "% set constants\n",
    "\n",
    "pHv=2:0.25:10; CuT=1e-9; ENT=1e-5;"
   ]
  },
  {
   "cell_type": "code",
   "execution_count": 3,
   "id": "56121567-f17a-4709-b2a2-0945a951fd1c",
   "metadata": {},
   "outputs": [
    {
     "ename": "Execution exception",
     "evalue": "'processtableauOPEN' undefined near line 62, column 62",
     "output_type": "error",
     "traceback": [
      "Execution exception: 'processtableauOPEN' undefined near line 62, column 62",
      "error: called from\n    CuOHCO2open_EN_allsolids at line 62 column 61\n"
     ]
    }
   ],
   "source": [
    "% make model with higher resolutions so plot line is smooth\n",
    "\n",
    "% MODEL FOR COMPARISON\n",
    "%model with just inorganic speciation\n",
    "%geochemical model\n",
    "% input the constants and solution chemistry\n",
    "\n",
    "flag1=2; %flag1 for concentration based search vector (1) or for log based search vector (2).\n",
    "flag2=1; %flag2 for numerical derivatives (2) or analtyical derivatives (1)\n",
    "database=[]; \n",
    "flag3=0; % flag3 1 for show warnings. 0 no warnings\n",
    "flag4=0; %if=1 solve tableau one line at a time to get a good initial guess (no solids). really challenging probs only\n",
    "flag5=0; %if=1 use stored initial guess for including solids\n",
    "\n",
    "inorganicTOTALS=[CuT ENT];\n",
    "inorganicTOTALS(inorganicTOTALS==0)=1e-16; % get rid of zero values, b/c div by zero error\n",
    "TOTALS=[inorganicTOTALS]; %TOTALS=inorganicTOTALS;\n",
    "\n",
    "for i=1:length(pHv);\n",
    "    pH=pHv(i); pe=20.75-pH; PCO2=10^-3.5;\n",
    "    [Cuall(i),CuOH,CuOH2s,CuOs,CuCO3s,tenorite,malachite,MASSERR]=CuOHCO2open_EN_allsolids(pH,pe,PCO2,TOTALS',flag1,flag2,flag3,flag4,flag5,database);\n",
    "end\n"
   ]
  },
  {
   "cell_type": "code",
   "execution_count": null,
   "id": "a0c3acd8-b6f7-4671-bb5b-c8ea6f42245c",
   "metadata": {},
   "outputs": [],
   "source": [
    "% experimental data\n",
    "pH1=[10.034 8.122 6.023 4.058 2.02];\n",
    "logCuA1=[-12.1182\t-10.1858\t-9.44595\t-9.4223 \t-9];\n",
    "logCuB1=[-17.2331\t-14.1047\t-9.63176\t-9.15203\t-9];\n",
    "logCumodel1=[-18.0821\t-14.9125\t-9.85439\t-9.00045\t-9]\n",
    "\n",
    "pH2=[9.57 7.97 7.153 3.11 2.092];\n",
    "logCuA2=[-16.0845\t-13.5405\t-11.6892\t-9.08784\t-9];\n",
    "logCuB2=[-18.5372\t-15.75\t-13.6014\t-8.92568\t-9];\n",
    "logCumodel2=[-17.5472\t-14.5953\t-12.7105\t-9.00002\t-9];"
   ]
  },
  {
   "cell_type": "code",
   "execution_count": null,
   "id": "745c57bb-ba16-43f0-80a2-21bb4bd5f93a",
   "metadata": {},
   "outputs": [],
   "source": [
    "% make plot\n",
    "\n",
    "plot(pHv,log10(Cuall),'k-', pHv,log10(Cuall*10),'k--', pHv,log10(Cuall./10),'k--')\n",
    "hold on\n",
    "plot(pH1,logCuA1,'ko','markerfacecolor','r')\n",
    "plot(pH2,logCuA2,'ko','markerfacecolor','r')\n",
    "plot(pH1,logCuB1,'ko','markerfacecolor','b')\n",
    "plot(pH2,logCuB2,'ko','markerfacecolor','b')\n",
    "xlabel('pH'); ylabel('log[Cu^{2+}]')\n",
    "set(gca,'linewidth',2,'fontsize',12)"
   ]
  },
  {
   "cell_type": "code",
   "execution_count": null,
   "id": "5e5b6162-c7a6-4b15-ba75-99147cfb4e10",
   "metadata": {},
   "outputs": [],
   "source": [
    "pH1\n",
    "logCuA1\n",
    "logCuB1\n",
    "\n",
    "pH2\n",
    "logCuB1\n",
    "logCuB2\n",
    "\n",
    "pHv'\n",
    "log10(Cuall)"
   ]
  }
 ],
 "metadata": {
  "kernelspec": {
   "display_name": "Octave (xoctave)",
   "language": "Octave",
   "name": "xoctave"
  },
  "language_info": {
   "codemirror_mode": "octave",
   "file_extension": ".m",
   "mimetype": "text/x-octave",
   "name": "Octave",
   "nbconvert_exporter": "",
   "pygments_lexer": "octave",
   "version": "7.3.0"
  }
 },
 "nbformat": 4,
 "nbformat_minor": 5
}
