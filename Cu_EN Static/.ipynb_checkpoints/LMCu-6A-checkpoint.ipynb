{
 "cells": [
  {
   "cell_type": "markdown",
   "id": "575d36d5-5232-4d9b-8525-f14fa7de6d65",
   "metadata": {},
   "source": [
    "# Michelle pH dependent experiment\n",
    "\n",
    "Electrode A (new)\n",
    "1nM total Cu\n",
    "1e-7 EN\n",
    "\n",
    "\n",
    "\"1nM Cu static.xlsx\""
   ]
  },
  {
   "cell_type": "code",
   "execution_count": 1,
   "id": "b50c1efe-07fa-44ec-b64e-351e42abaadf",
   "metadata": {
    "tags": []
   },
   "outputs": [],
   "source": [
    "% housekeeping\n",
    "% clear data and number format\n",
    "clear; format short e\n",
    "% turn off warnings\n",
    "warning off\n",
    "graphics_toolkit (\"notebook\"); \n",
    "%graphics_toolkit (\"plotly\"); \n",
    "% setup environment\n",
    "% set path to equilibrium solver\n",
    "txt=pwd;\n",
    "n=length(txt);\n",
    "rootpath=txt(1:n-12);\n",
    "PHREEQCpath=[rootpath,'/runPHREEQC'];\n",
    "addpath(PHREEQCpath);\n",
    "JEQUILIBpath=[rootpath,'/JEQUILIB']; addpath(JEQUILIBpath);\n",
    "Cumodelspath=[rootpath,'/Cu_EN']; addpath(Cumodelspath);"
   ]
  },
  {
   "cell_type": "code",
   "execution_count": 2,
   "id": "764726b9-fece-45dc-bc53-9cf84070f809",
   "metadata": {},
   "outputs": [],
   "source": [
    "% put in constants\n",
    "%stockCuconc=0.0133; %M\n",
    "VT=0.05; %total volume\n",
    "stockCuconc=0.157366; %M\n",
    "ENT=0;"
   ]
  },
  {
   "cell_type": "code",
   "execution_count": 3,
   "id": "1f700c7d-c1f5-4b4e-bea3-9b4931fdfbea",
   "metadata": {},
   "outputs": [],
   "source": [
    "% put in data\n",
    "\n",
    "originalsamplemVnpH=[...\n",
    "%pH mV\n",
    "10.387 -113.5\n",
    "8.653  -69\n",
    "6.481  -7.6\n",
    "4.493  40.3\n",
    "2.162 50.8\n",
    "];\n",
    "\n",
    "calibdata=[...\n",
    "%volCu mV pH\n",
    "0  50.8 2.162\n",
    "0  50.8 2.162\n",
    "];\n"
   ]
  },
  {
   "cell_type": "code",
   "execution_count": 4,
   "id": "92d56cd8-e445-4b74-b944-a4cc791af34f",
   "metadata": {
    "tags": []
   },
   "outputs": [
    {
     "data": {
      "text/html": [
       "<table><tr><th><i>pHv<i></th><th>1</th></tr><tr><th>1</th><td>10.387</td></tr><tr><th>2</th><td>8.653</td></tr><tr><th>3</th><td>6.481</td></tr><tr><th>4</th><td>4.493</td></tr><tr><th>5</th><td>2.162</td></tr></table>"
      ],
      "text/plain": [
       "pHv =    1.0387e+01\n",
       "   8.6530e+00\n",
       "   6.4810e+00\n",
       "   4.4930e+00\n",
       "   2.1620e+00\n"
      ]
     },
     "metadata": {},
     "output_type": "display_data"
    },
    {
     "data": {
      "image/png": "[encoded data removed]"
     },
     "metadata": {
      "image/png": {
       "height": 420,
       "width": 560
      }
     },
     "output_type": "display_data"
    }
   ],
   "source": [
    "graphics_toolkit(\"notebook\")\n",
    "% pull out the sample data\n",
    "pHv=(originalsamplemVnpH(:,1))\n",
    "mVoriginal=(originalsamplemVnpH(:,2));\n",
    "\n",
    "%pull out the calibration data\n",
    "addedCuvol=calibdata(:,1)'*1e-6; pHcalib=calibdata(:,3); mV=calibdata(:,2)'; \n",
    "CuTmeas=1e-9; % not actually known until it is measured \n",
    "CuT=CuTmeas; CuTplus=(CuTmeas*(VT)+addedCuvol*stockCuconc)./(VT+addedCuvol);\n",
    "\n",
    "plot(log10(CuTplus),mV,'ko'); hold on\n",
    "\n",
    "%chlorocorrecxtion\n",
    "%BF1=2.49; BF2=1.14; BF3=0.9; ClT=4.9904e-4; %from Inorg. Chem. 1983. 22. 3323-3326.\n",
    "%CuTplus=CuTplus./(1+BF1*ClT+BF2*ClT^2+BF3*ClT^3);\n",
    "\n",
    "%determine all the slopes and intercepts for each pair of mV values\n",
    "for i=1:length(mV)-1\n",
    "    param=polyfit([log10(CuTplus(i)) log10(CuTplus(i+1))],[mV(i) mV(i+1)],1);\n",
    "    val=polyval(param,[log10(CuTplus(i))-0.2 log10(CuTplus(i+1))+0.2]);\n",
    "    plot([log10(CuTplus(i))-0.2 log10(CuTplus(i+1))+0.2],val,'k-')\n",
    "    m(i)=param(1); Eo(i)=param(2); \n",
    "    %two ways to define what logCu is for the Eo and m values. need to pick the approach that consistently works best\n",
    "    logCuT(i)=mean([log10(CuTplus(i)) log10(CuTplus(i+1))]); % calib Cu is the midpoint\n",
    "    %logCuT(i)=[log10(CuTplus(i))]; % calib Cu is the starting point \n",
    "end\n",
    "xlabel('log[Cu^{2+}]');  ylabel('mV');\n",
    "set(gca,'fontsize',12); set(gca,'linewidth',2);\n",
    "xlabel('log[Cu^{2+}]'); ylabel('Potential (mV)')"
   ]
  },
  {
   "cell_type": "code",
   "execution_count": 5,
   "id": "10a1ac7b-dac8-45e4-8629-69af1f8ea066",
   "metadata": {
    "tags": []
   },
   "outputs": [
    {
     "data": {
      "text/html": [
       "<table><tr><th><i>logCuoriginal<i></th><th>1</th></tr><tr><th>1</th><td>3.88066</td></tr><tr><th>2</th><td>0.391986</td></tr><tr><th>3</th><td>-4.4216</td></tr><tr><th>4</th><td>-8.17683</td></tr><tr><th>5</th><td>-9</td></tr></table>"
      ],
      "text/plain": [
       "logCuoriginal =    3.8807e+00\n",
       "   3.9199e-01\n",
       "  -4.4216e+00\n",
       "  -8.1768e+00\n",
       "  -9.0000e+00\n"
      ]
     },
     "metadata": {},
     "output_type": "display_data"
    }
   ],
   "source": [
    "% then use this metacalibration to determine original sample logCu2+\n",
    "\n",
    "Eooriginal=mean(Eo(1)); \n",
    "moriginal=mean(m(1)); \n",
    "\n",
    "moriginalsimple=59.2/2; Eooriginalsimple=mV(1)-moriginalsimple*log10(CuTmeas);\n",
    "\n",
    "logCuoriginal=(mVoriginal-Eooriginal)/moriginal\n",
    "logCuoriginalsimple=(mVoriginal-Eooriginalsimple)/moriginalsimple;"
   ]
  },
  {
   "cell_type": "code",
   "execution_count": 6,
   "id": "43a3a698-29f8-43e6-8f67-88671211f2f2",
   "metadata": {},
   "outputs": [
    {
     "data": {
      "image/png": "[encoded data removed]"
     },
     "metadata": {
      "image/png": {
       "height": 420,
       "width": 560
      }
     },
     "output_type": "display_data"
    }
   ],
   "source": [
    "% MODEL FOR COMPARISON\n",
    "graphics_toolkit(\"notebook\")\n",
    "%model with just inorganic speciation\n",
    "%geochemical model\n",
    "% input the constants and solution chemistry\n",
    "\n",
    "flag1=2; %flag1 for concentration based search vector (1) or for log based search vector (2).\n",
    "flag2=1; %flag2 for numerical derivatives (2) or analtyical derivatives (1)\n",
    "database=[]; \n",
    "flag3=0; % flag3 1 for show warnings. 0 no warnings\n",
    "flag4=0; %if=1 solve tableau one line at a time to get a good initial guess (no solids). really challenging probs only\n",
    "flag5=0; %if=1 use stored initial guess for including solids\n",
    "\n",
    "CuT=CuTmeas; inorganicTOTALS=[CuT ENT];\n",
    "inorganicTOTALS(inorganicTOTALS==0)=1e-16; % get rid of zero values, b/c div by zero error\n",
    "TOTALS=[inorganicTOTALS]; %TOTALS=inorganicTOTALS;\n",
    "\n",
    "for i=1:length(pHv);\n",
    "    pH=pHv(i); pe=20.75-pH; PCO2=10^-3.5;\n",
    "    [Cuall(i),CuOH,CuOH2s,CuOs,CuCO3s,tenorite,malachite,MASSERR]=CuOHCO2open_EN_allsolids(pH,pe,PCO2,TOTALS',flag1,flag2,flag3,flag4,flag5,database);\n",
    "end\n",
    "\n",
    "plot(pHv,logCuoriginal,'bo','markersize',8,'markerfacecolor','b'); \n",
    "hold on\n",
    "plot(pHv,log10(Cuall),'k-')\n",
    "plot(pHv,logCuoriginalsimple,'ko','markersize',8,'markerfacecolor','r'); \n",
    "\n",
    "xlabel('pH'); ylabel('log[Cu^{2+}]')"
   ]
  },
  {
   "cell_type": "code",
   "execution_count": 7,
   "id": "a9a64847-159b-42fd-b738-8d8210e1b91e",
   "metadata": {},
   "outputs": [
    {
     "data": {
      "image/png": "[encoded data removed]"
     },
     "metadata": {
      "image/png": {
       "height": 420,
       "width": 560
      }
     },
     "output_type": "display_data"
    },
    {
     "data": {
      "text/html": [
       "<table><tr><th><i>param<i></th><th>1</th><th>2</th></tr><tr><th>1</th><td>16.7278</td><td>167.225</td></tr></table>"
      ],
      "text/plain": [
       "param =    1.6728e+01   1.6723e+02\n"
      ]
     },
     "metadata": {},
     "output_type": "display_data"
    }
   ],
   "source": [
    "% compare mV measured to modeled log Cu\n",
    "\n",
    "plot(log10(Cuall),mVoriginal,'ko','markerfacecolor','b')\n",
    "param=polyfit(log10(Cuall),mVoriginal,1)\n",
    "\n",
    "fit=polyval(param,log10(Cuall));\n",
    "\n",
    "hold on \n",
    "\n",
    "plot(log10(Cuall),fit)\n",
    "\n",
    "plot([log10(CuTplus)],mV,'ko','markerfacecolor','r')"
   ]
  },
  {
   "cell_type": "code",
   "execution_count": 8,
   "id": "8997f409-ccbe-4a79-ad13-06180b7754ed",
   "metadata": {},
   "outputs": [
    {
     "data": {
      "text/html": [
       "<table><tr><th><i>ans<i></th><th>1</th><th>2</th><th>3</th><th>4</th><th>5</th></tr><tr><th>1</th><td>-17.5485</td><td>-11.3128</td><td>-9.04072</td><td>-9.00041</td><td>-9</td></tr></table>"
      ],
      "text/plain": [
       "ans =   -1.7549e+01  -1.1313e+01  -9.0407e+00  -9.0004e+00  -9.0000e+00\n"
      ]
     },
     "metadata": {},
     "output_type": "display_data"
    },
    {
     "data": {
      "text/html": [
       "<table><tr><th><i>logCuoriginal<i></th><th>1</th></tr><tr><th>1</th><td>3.88066</td></tr><tr><th>2</th><td>0.391986</td></tr><tr><th>3</th><td>-4.4216</td></tr><tr><th>4</th><td>-8.17683</td></tr><tr><th>5</th><td>-9</td></tr></table>"
      ],
      "text/plain": [
       "logCuoriginal =    3.8807e+00\n",
       "   3.9199e-01\n",
       "  -4.4216e+00\n",
       "  -8.1768e+00\n",
       "  -9.0000e+00\n"
      ]
     },
     "metadata": {},
     "output_type": "display_data"
    },
    {
     "data": {
      "text/html": [
       "<table><tr><th><i>logCuoriginalsimple<i></th><th>1</th></tr><tr><th>1</th><td>-14.5507</td></tr><tr><th>2</th><td>-13.0473</td></tr><tr><th>3</th><td>-10.973</td></tr><tr><th>4</th><td>-9.35473</td></tr><tr><th>5</th><td>-9</td></tr></table>"
      ],
      "text/plain": [
       "logCuoriginalsimple =   -1.4551e+01\n",
       "  -1.3047e+01\n",
       "  -1.0973e+01\n",
       "  -9.3547e+00\n",
       "  -9.0000e+00\n"
      ]
     },
     "metadata": {},
     "output_type": "display_data"
    }
   ],
   "source": [
    "log10(Cuall)\n",
    "logCuoriginal\n",
    "logCuoriginalsimple"
   ]
  }
 ],
 "metadata": {
  "kernelspec": {
   "display_name": "Octave (xoctave)",
   "language": "Octave",
   "name": "xoctave"
  },
  "language_info": {
   "codemirror_mode": "octave",
   "file_extension": ".m",
   "mimetype": "text/x-octave",
   "name": "Octave",
   "nbconvert_exporter": "",
   "pygments_lexer": "octave",
   "version": "7.3.0"
  }
 },
 "nbformat": 4,
 "nbformat_minor": 5
}
