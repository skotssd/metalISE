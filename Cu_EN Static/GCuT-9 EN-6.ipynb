{
 "cells": [
  {
   "cell_type": "markdown",
   "id": "c1bae0c0-228c-4f80-af62-5d2b2432bdd2",
   "metadata": {},
   "source": [
    "# make plot CuT 1e-9 ENT=1e-6"
   ]
  },
  {
   "cell_type": "code",
   "execution_count": 1,
   "id": "d65fe225-47c4-472c-b5b3-69a7ee5014b7",
   "metadata": {},
   "outputs": [],
   "source": [
    "% housekeeping\n",
    "% clear data and number format\n",
    "clear; format short e\n",
    "% turn off warnings\n",
    "warning off\n",
    "graphics_toolkit (\"notebook\"); \n",
    "%graphics_toolkit (\"plotly\"); \n",
    "% setup environment\n",
    "% set path to equilibrium solver\n",
    "txt=pwd;\n",
    "n=length(txt);\n",
    "rootpath=txt(1:n-12);\n",
    "PHREEQCpath=[rootpath,'/runPHREEQC'];\n",
    "addpath(PHREEQCpath);\n",
    "JEQUILIBpath=[rootpath,'/JEQUILIB']; addpath(JEQUILIBpath);\n",
    "Cumodelspath=[rootpath,'/Cu_EN']; addpath(Cumodelspath);"
   ]
  },
  {
   "cell_type": "code",
   "execution_count": 2,
   "id": "9fa148e7-3a15-4e16-8852-391a8274278e",
   "metadata": {},
   "outputs": [],
   "source": [
    "% set constants\n",
    "\n",
    "pHv=1:0.25:10; CuT=1e-9; ENT=1e-6;"
   ]
  },
  {
   "cell_type": "code",
   "execution_count": 3,
   "id": "56121567-f17a-4709-b2a2-0945a951fd1c",
   "metadata": {},
   "outputs": [],
   "source": [
    "% make model with higher resolutions so plot line is smooth\n",
    "\n",
    "% MODEL FOR COMPARISON\n",
    "%model with just inorganic speciation\n",
    "%geochemical model\n",
    "% input the constants and solution chemistry\n",
    "\n",
    "flag1=2; %flag1 for concentration based search vector (1) or for log based search vector (2).\n",
    "flag2=1; %flag2 for numerical derivatives (2) or analtyical derivatives (1)\n",
    "database=[]; \n",
    "flag3=0; % flag3 1 for show warnings. 0 no warnings\n",
    "flag4=0; %if=1 solve tableau one line at a time to get a good initial guess (no solids). really challenging probs only\n",
    "flag5=0; %if=1 use stored initial guess for including solids\n",
    "\n",
    "inorganicTOTALS=[CuT ENT];\n",
    "inorganicTOTALS(inorganicTOTALS==0)=1e-16; % get rid of zero values, b/c div by zero error\n",
    "TOTALS=[inorganicTOTALS]; %TOTALS=inorganicTOTALS;\n",
    "\n",
    "for i=1:length(pHv);\n",
    "    pH=pHv(i); pe=20.75-pH; PCO2=10^-3.5;\n",
    "    [Cuall(i),CuOH,CuOH2s,CuOs,CuCO3s,tenorite,malachite,MASSERR]=CuOHCO2open_EN_allsolids(pH,pe,PCO2,TOTALS',flag1,flag2,flag3,flag4,flag5,database);\n",
    "end\n"
   ]
  },
  {
   "cell_type": "code",
   "execution_count": 4,
   "id": "a0c3acd8-b6f7-4671-bb5b-c8ea6f42245c",
   "metadata": {},
   "outputs": [
    {
     "data": {
      "text/html": [
       "<table><tr><th><i>logCumodel1<i></th><th>1</th><th>2</th><th>3</th><th>4</th><th>5</th></tr><tr><th>1</th><td>-16.8343</td><td>-12.8366</td><td>-10.6829</td><td>-9.21159</td><td>-9</td></tr></table>"
      ],
      "text/plain": [
       "logCumodel1 =   -1.6834e+01  -1.2837e+01  -1.0683e+01  -9.2116e+00  -9.0000e+00\n"
      ]
     },
     "metadata": {},
     "output_type": "display_data"
    },
    {
     "data": {
      "text/html": [
       "<table><tr><th><i>logCumodel2<i></th><th>1</th><th>2</th><th>3</th><th>4</th><th>5</th></tr><tr><th>1</th><td>-16.454</td><td>-13.7356</td><td>-9.86988</td><td>-9.02568</td><td>-9</td></tr></table>"
      ],
      "text/plain": [
       "logCumodel2 =   -1.6454e+01  -1.3736e+01  -9.8699e+00  -9.0257e+00  -9.0000e+00\n"
      ]
     },
     "metadata": {},
     "output_type": "display_data"
    }
   ],
   "source": [
    "% experimental data\n",
    "\n",
    "pH1=[9.01 8.074 7.033 6.052 1.867];\n",
    "logCuA1=[-13.0405 \t -10.402\t -9.48649\t-9.10135 \t-9];\n",
    "logCuB1=[-17.4527 \t-14.0608 \t-11.5676\t-9.45946\t-9];\n",
    "logCumodel1=[-16.8343\t-12.8366\t-10.6829\t-9.21159\t-9]\n",
    "\n",
    "pH2=[10.097 7.972 6.389 4.037 2.331];\n",
    "logCuA2=[-13.1723\t-11.7568\t-10.5372\t-10.1318\t-9];\n",
    "logCuB2=[-16.4223\t-13.8547\t-10.9324\t-9.55068\t-9];\n",
    "logCumodel2=[-16.454\t-13.7356\t-9.86988\t-9.02568\t-9]\n"
   ]
  },
  {
   "cell_type": "code",
   "execution_count": 5,
   "id": "745c57bb-ba16-43f0-80a2-21bb4bd5f93a",
   "metadata": {},
   "outputs": [
    {
     "data": {
      "image/png": "[encoded data removed]"
     },
     "metadata": {
      "image/png": {
       "height": 420,
       "width": 560
      }
     },
     "output_type": "display_data"
    }
   ],
   "source": [
    "plot(pHv,log10(Cuall),'k-', pHv,log10(Cuall*10),'k--', pHv,log10(Cuall./10),'k--')\n",
    "hold on\n",
    "plot(pH1,logCuA1,'ko','markerfacecolor','r')\n",
    "plot(pH2,logCuA2,'ko','markerfacecolor','r')\n",
    "plot(pH1,logCuB1,'ko','markerfacecolor','b')\n",
    "plot(pH2,logCuB2,'ko','markerfacecolor','b')\n",
    "xlabel('pH'); ylabel('log[Cu^{2+}]')\n",
    "set(gca,'linewidth',2,'fontsize',12)"
   ]
  },
  {
   "cell_type": "code",
   "execution_count": 6,
   "id": "5e5b6162-c7a6-4b15-ba75-99147cfb4e10",
   "metadata": {},
   "outputs": [
    {
     "data": {
      "text/html": [
       "<table><tr><th><i>pH1<i></th><th>1</th><th>2</th><th>3</th><th>4</th><th>5</th></tr><tr><th>1</th><td>9.01</td><td>8.074</td><td>7.033</td><td>6.052</td><td>1.867</td></tr></table>"
      ],
      "text/plain": [
       "pH1 =    9.0100e+00   8.0740e+00   7.0330e+00   6.0520e+00   1.8670e+00\n"
      ]
     },
     "metadata": {},
     "output_type": "display_data"
    },
    {
     "data": {
      "text/html": [
       "<table><tr><th><i>logCuA1<i></th><th>1</th><th>2</th><th>3</th><th>4</th><th>5</th></tr><tr><th>1</th><td>-13.0405</td><td>-10.402</td><td>-9.48649</td><td>-9.10135</td><td>-9</td></tr></table>"
      ],
      "text/plain": [
       "logCuA1 =   -1.3040e+01  -1.0402e+01  -9.4865e+00  -9.1014e+00  -9.0000e+00\n"
      ]
     },
     "metadata": {},
     "output_type": "display_data"
    },
    {
     "data": {
      "text/html": [
       "<table><tr><th><i>logCuB1<i></th><th>1</th><th>2</th><th>3</th><th>4</th><th>5</th></tr><tr><th>1</th><td>-17.4527</td><td>-14.0608</td><td>-11.5676</td><td>-9.45946</td><td>-9</td></tr></table>"
      ],
      "text/plain": [
       "logCuB1 =   -1.7453e+01  -1.4061e+01  -1.1568e+01  -9.4595e+00  -9.0000e+00\n"
      ]
     },
     "metadata": {},
     "output_type": "display_data"
    },
    {
     "data": {
      "text/html": [
       "<table><tr><th><i>ans<i></th><th>1</th></tr><tr><th>1</th><td>1</td></tr><tr><th>2</th><td>1.25</td></tr><tr><th>3</th><td>1.5</td></tr><tr><th>4</th><td>1.75</td></tr><tr><th>5</th><td>2</td></tr><tr><th>6</th><td>2.25</td></tr><tr><th>7</th><td>2.5</td></tr><tr><th>8</th><td>2.75</td></tr><tr><th>9</th><td>3</td></tr><tr><th>10</th><td>3.25</td></tr><tr><th>11</th><td>3.5</td></tr><tr><th>12</th><td>3.75</td></tr><tr><th>13</th><td>4</td></tr><tr><th>14</th><td>4.25</td></tr><tr><th>15</th><td>4.5</td></tr><tr><th>16</th><td>4.75</td></tr><tr><th>17</th><td>5</td></tr><tr><th>18</th><td>5.25</td></tr><tr><th>19</th><td>5.5</td></tr><tr><th>20</th><td>5.75</td></tr><tr><th>21</th><td>6</td></tr><tr><th>22</th><td>6.25</td></tr><tr><th>23</th><td>6.5</td></tr><tr><th>24</th><td>6.75</td></tr><tr><th>25</th><td>7</td></tr><tr><th>26</th><td>7.25</td></tr><tr><th>27</th><td>7.5</td></tr><tr><th>28</th><td>7.75</td></tr><tr><th>29</th><td>8</td></tr><tr><th>30</th><td>8.25</td></tr><tr><th>31</th><td>8.5</td></tr><tr><th>32</th><td>8.75</td></tr><tr><th>33</th><td>9</td></tr><tr><th>34</th><td>9.25</td></tr><tr><th>35</th><td>9.5</td></tr><tr><th>36</th><td>9.75</td></tr><tr><th>37</th><td>10</td></tr></table>"
      ],
      "text/plain": [
       "ans =    1.0000e+00\n",
       "   1.2500e+00\n",
       "   1.5000e+00\n",
       "   1.7500e+00\n",
       "   2.0000e+00\n",
       "   2.2500e+00\n",
       "   2.5000e+00\n",
       "   2.7500e+00\n",
       "   3.0000e+00\n",
       "   3.2500e+00\n",
       "   3.5000e+00\n",
       "   3.7500e+00\n",
       "   4.0000e+00\n",
       "   4.2500e+00\n",
       "   4.5000e+00\n",
       "   4.7500e+00\n",
       "   5.0000e+00\n",
       "   5.2500e+00\n",
       "   5.5000e+00\n",
       "   5.7500e+00\n",
       "   6.0000e+00\n",
       "   6.2500e+00\n",
       "   6.5000e+00\n",
       "   6.7500e+00\n",
       "   7.0000e+00\n",
       "   7.2500e+00\n",
       "   7.5000e+00\n",
       "   7.7500e+00\n",
       "   8.0000e+00\n",
       "   8.2500e+00\n",
       "   8.5000e+00\n",
       "   8.7500e+00\n",
       "   9.0000e+00\n",
       "   9.2500e+00\n",
       "   9.5000e+00\n",
       "   9.7500e+00\n",
       "   1.0000e+01\n"
      ]
     },
     "metadata": {},
     "output_type": "display_data"
    },
    {
     "data": {
      "text/html": [
       "<table><tr><th><i>ans<i></th><th>1</th><th>2</th><th>3</th><th>4</th><th>5</th><th>6</th><th>7</th><th>8</th><th>9</th><th>10</th><th>11</th><th>12</th><th>13</th><th>14</th><th>15</th><th>16</th><th>17</th><th>18</th><th>19</th><th>20</th><th>21</th><th>22</th><th>23</th><th>24</th><th>25</th><th>26</th><th>27</th><th>28</th><th>29</th><th>30</th><th>31</th><th>32</th><th>33</th><th>34</th><th>35</th><th>36</th><th>37</th></tr><tr><th>1</th><td>-9</td><td>-9</td><td>-9</td><td>-9</td><td>-9</td><td>-9</td><td>-9</td><td>-9.00001</td><td>-9.00001</td><td>-9.00002</td><td>-9.00004</td><td>-9.00008</td><td>-9.00015</td><td>-9.00031</td><td>-9.00064</td><td>-9.00146</td><td>-9.00357</td><td>-9.00934</td><td>-9.02548</td><td>-9.06939</td><td>-9.17691</td><td>-9.39104</td><td>-9.72119</td><td>-10.1394</td><td>-10.6168</td><td>-11.1288</td><td>-11.6528</td><td>-12.1739</td><td>-12.6867</td><td>-13.19</td><td>-13.683</td><td>-14.1632</td><td>-14.6252</td><td>-15.0607</td><td>-15.4631</td><td>-15.8486</td><td>-16.3264</td></tr></table>"
      ],
      "text/plain": [
       "ans =  Columns 1 through 6:\n",
       "\n",
       "  -9.0000e+00  -9.0000e+00  -9.0000e+00  -9.0000e+00  -9.0000e+00  -9.0000e+00\n",
       "\n",
       " Columns 7 through 12:\n",
       "\n",
       "  -9.0000e+00  -9.0000e+00  -9.0000e+00  -9.0000e+00  -9.0000e+00  -9.0001e+00\n",
       "\n",
       " Columns 13 through 18:\n",
       "\n",
       "  -9.0002e+00  -9.0003e+00  -9.0006e+00  -9.0015e+00  -9.0036e+00  -9.0093e+00\n",
       "\n",
       " Columns 19 through 24:\n",
       "\n",
       "  -9.0255e+00  -9.0694e+00  -9.1769e+00  -9.3910e+00  -9.7212e+00  -1.0139e+01\n",
       "\n",
       " Columns 25 through 30:\n",
       "\n",
       "  -1.0617e+01  -1.1129e+01  -1.1653e+01  -1.2174e+01  -1.2687e+01  -1.3190e+01\n",
       "\n",
       " Columns 31 through 36:\n",
       "\n",
       "  -1.3683e+01  -1.4163e+01  -1.4625e+01  -1.5061e+01  -1.5463e+01  -1.5849e+01\n",
       "\n",
       " Column 37:\n",
       "\n",
       "  -1.6326e+01\n"
      ]
     },
     "metadata": {},
     "output_type": "display_data"
    }
   ],
   "source": [
    "pH1\n",
    "logCuA1\n",
    "logCuB1\n",
    "\n",
    "pHv'\n",
    "log10(Cuall)"
   ]
  },
  {
   "cell_type": "code",
   "execution_count": null,
   "id": "55025204-2c54-4973-b3fe-013de1a578a2",
   "metadata": {},
   "outputs": [],
   "source": []
  }
 ],
 "metadata": {
  "kernelspec": {
   "display_name": "Octave (xoctave)",
   "language": "Octave",
   "name": "xoctave"
  },
  "language_info": {
   "codemirror_mode": "octave",
   "file_extension": ".m",
   "mimetype": "text/x-octave",
   "name": "Octave",
   "nbconvert_exporter": "",
   "pygments_lexer": "octave",
   "version": "7.3.0"
  }
 },
 "nbformat": 4,
 "nbformat_minor": 5
}
