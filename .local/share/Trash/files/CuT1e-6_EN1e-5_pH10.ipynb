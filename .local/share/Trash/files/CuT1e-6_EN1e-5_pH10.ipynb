{
 "cells": [
  {
   "cell_type": "code",
   "execution_count": 214,
   "id": "5b91745d-be40-49bc-9645-49174473a1f2",
   "metadata": {},
   "outputs": [],
   "source": [
    "% setup environment\n",
    "% set path to equilibrium solver\n",
    "txt=pwd;\n",
    "n=length(txt);\n",
    "rootpath=txt; %txt(1:n-8);\n",
    "PHREEQCpath=[rootpath,'/runPHREEQC'];\n",
    "addpath(PHREEQCpath);\n",
    "JEQUILIBpath=[rootpath,'/JEQUILIB']; addpath(JEQUILIBpath);\n",
    "Cumodelspath=[rootpath,'/Cutableaus']; addpath(Cumodelspath);\n",
    "% clear data and number format\n",
    "clear; format short e\n",
    "% turn off warnings\n",
    "warning off\n",
    "graphics_toolkit (\"notebook\"); \n",
    "graphics_toolkit (\"plotly\"); "
   ]
  },
  {
   "cell_type": "code",
   "execution_count": 215,
   "id": "5ebebbe5-0fef-4c64-9602-676482133835",
   "metadata": {},
   "outputs": [],
   "source": [
    "% put in constants\n",
    "VT=0.05; %total volume\n",
    "stockCuconc=0.0152067;"
   ]
  },
  {
   "cell_type": "code",
   "execution_count": 216,
   "id": "7cab7aa9-4607-4224-89a8-0c7fc1b01d8e",
   "metadata": {
    "tags": []
   },
   "outputs": [],
   "source": [
    "% put in data\n",
    "data=[...\n",
    "%time hr\ttime min\ttime total\tcumulative  vol added\tpH\tmvA\tdelta\n",
    "%1\t45\t105\t0\t2.086\t75.5\t1.62\n",
    "%1\t50\t110\t0\t2.045\t76.3\t0.159999999999999\n",
    "%1\t55\t115\t0\t2.04\t79\t0.540000000000001\n",
    "%2\t0\t120\t0\t2.041\t79.2\t0.0400000000000006\n",
    "%2\t5\t125\t0\t2.039\t80.4\t0.240000000000001\n",
    "%2\t10\t130\t0\t2.04\t82.2\t0.359999999999999\n",
    "%2\t15\t135\t0\t2.04\t81.7\t-0.1\n",
    "%2\t20\t140\t0\t2.038\t84\t0.459999999999999\n",
    "%2\t25\t145\t0\t2.037\t82.9\t-0.219999999999999\n",
    "%2\t30\t150\t0\t2.037\t83.5\t0.119999999999999\n",
    "%2\t35\t155\t0\t2.038\t84.8\t0.259999999999999\n",
    "2\t40\t160\t0\t2.035\t86.1\t0.259999999999999\n",
    "3\t0\t180\t0\t2.037\t84.6\t-0.075\n",
    "%3\t5\t185\t50\t2.037\t87.3\t0.540000000000001\n",
    "%3\t8\t188\t50\t2.036\t91.2\t1.3\n",
    "%3\t13\t193\t50\t2.037\t92.3\t0.219999999999999\n",
    "%3\t18\t198\t50\t2.032\t92.8\t0.1\n",
    "%3\t23\t203\t50\t2.036\t93.7\t0.180000000000001\n",
    "%3\t28\t208\t50\t2.035\t93.3\t-0.0800000000000011\n",
    "%3\t33\t213\t50\t2.036\t93.9\t0.120000000000002\n",
    "%3\t38\t218\t50\t2.037\t95.4\t0.3\n",
    "%3\t43\t223\t50\t2.035\t95.3\t-0.0200000000000017\n",
    "%3\t48\t228\t50\t2.035\t96.3\t0.2\n",
    "%3\t53\t233\t50\t2.033\t98.2\t0.380000000000001\n",
    "%3\t58\t238\t50\t2.036\t98.2\t0\n",
    "4\t3\t243\t50\t2.032\t98.2\t0\n",
    "4\t8\t248\t50\t2.034\t98.6\t0.0799999999999983\n",
    "%4\t10\t250\t150\t2.036\t100.5\t0.950000000000003\n",
    "%4\t15\t255\t150\t2.034\t105.2\t0.940000000000001\n",
    "%4\t20\t260\t150\t2.036\t105.6\t0.0799999999999983\n",
    "%4\t25\t265\t150\t2.034\t107\t0.280000000000001\n",
    "%4\t30\t270\t150\t2.034\t108\t0.2\n",
    "%4\t35\t275\t150\t2.032\t108\t0\n",
    "4\t40\t280\t150\t2.032\t107.8\t-0.0400000000000006\n",
    "4\t45\t285\t150\t2.031\t107.7\t-0.0199999999999989\n",
    "%4\t50\t290\t400\t2.031\t115\t1.46\n",
    "%4\t55\t295\t400\t2.031\t115.9\t0.180000000000001\n",
    "%5\t0\t300\t400\t2.029\t116.1\t0.0399999999999977\n",
    "5\t5\t305\t400\t2.032\t116.5\t0.0800000000000011\n",
    "5\t10\t310\t400\t2.029\t116\t-0.1\n",
    "%5\t15\t315\t900\t2.034\t124.8\t1.76\n",
    "%5\t20\t320\t900\t2.037\t125.3\t0.1\n",
    "%5\t25\t325\t900\t2.034\t125.4\t0.0200000000000017\n",
    "5\t30\t330\t900\t2.037\t125.5\t0.0199999999999989\n",
    "5\t35\t335\t900\t2.041\t132.2\t1.34\n",
    "%5\t40\t340\t1900\t2.042\t134\t0.360000000000002\n",
    "5\t45\t345\t1900\t2.042\t133.5\t-0.1\n",
    "5\t55\t355\t1900\t2.041\t134.2\t0.0699999999999989\n",
    "%6\t0\t360\t3400\t2.05\t140.8\t1.32\n",
    "%6\t5\t365\t3400\t2.051\t142.2\t0.279999999999996\n",
    "6\t10\t370\t3400\t2.05\t140.8\t-0.279999999999996\n",
    "6\t15\t375\t3400\t2.054\t142.2\t0.279999999999996\n",
    "];\n",
    "\n",
    "addedCuvol=data(:,4)'*1e-6;\n",
    "\n",
    "originalsamplemVnpH=[...\n",
    "%time hr\ttime min\ttime total\tcumulative  vol added\tpH\tmvA\tdelta\n",
    "%0\t0\t0\t0\t5.992\t49.4\t\n",
    "%0\t5\t5\t0\t6.002\t55.7\t1.26\n",
    "%0\t10\t10\t0\t6.018\t59.4\t0.739999999999999\n",
    "%0\t15\t15\t0\t6.033\t62.5\t0.62\n",
    "%0\t20\t20\t0\t6.046\t62.6\t0.0200000000000003\n",
    "%0\t25\t25\t0\t6.064\t65.4\t0.560000000000001\n",
    "%0\t30\t30\t0\t6.054\t73\t1.52\n",
    "%1\t0\t60\t0\t6.077\t70.1\t-0.0966666666666669\n",
    "%1\t5\t65\t0\t6.042\t67.4\t-0.539999999999998\n",
    "%1\t10\t70\t0\t6.064\t69.9\t0.5\n",
    "%1\t15\t75\t0\t6.077\t69.9\t0\n",
    "%1\t20\t80\t0\t6.091\t68.8\t-0.220000000000002\n",
    "%1\t25\t85\t0\t6.019\t67.3\t-0.3\n",
    "%1\t30\t90\t0\t6.033\t67.7\t0.0800000000000011\n",
    "1\t35\t95\t0\t6.05\t68\t0.0599999999999994\n",
    "1\t40\t100\t0\t6.073\t67.4\t-0.119999999999999\n",
    "];"
   ]
  },
  {
   "cell_type": "code",
   "execution_count": 217,
   "id": "95303175-0241-4e93-b215-1add113f0dbc",
   "metadata": {},
   "outputs": [
    {
     "data": {
      "text/plain": [
       "pH = 6.0615e+00\n"
      ]
     },
     "metadata": {},
     "output_type": "display_data"
    },
    {
     "data": {
      "text/html": [
       "<table><tr><th><i>param<i></th><th>1</th><th>2</th></tr><tr><th>1</th><td>13.9459</td><td>175.588</td></tr></table>"
      ],
      "text/plain": [
       "param =    1.3946e+01   1.7559e+02\n"
      ]
     },
     "metadata": {},
     "output_type": "display_data"
    },
    {
     "data": {
      "text/html": [
       "<table><tr><th><i>paramlinear<i></th><th>1</th><th>2</th></tr><tr><th>1</th><td>24.1377</td><td>213.279</td></tr></table>"
      ],
      "text/plain": [
       "paramlinear =    2.4138e+01   2.1328e+02\n"
      ]
     },
     "metadata": {},
     "output_type": "display_data"
    }
   ],
   "source": [
    "% process the data\n",
    "pH=mean(originalsamplemVnpH(:,5))\n",
    "mVAoriginal=mean(originalsamplemVnpH(:,6));\n",
    "mVAoriginal=(originalsamplemVnpH(:,6));\n",
    "\n",
    "mVA=data(:,6)'; Emeas=mVA; CuTmeas=1e-7; CuT=CuTmeas;\n",
    "%mest=mVA(3)-mVA(2)\n",
    "CuTplus=(CuTmeas*(VT)+addedCuvol*stockCuconc)./(VT+addedCuvol);\n",
    "\n",
    "%chlorocorrecxtion\n",
    "%BF1=2.49; BF2=1.14; BF3=0.9; ClT=4.9904e-4; %from Inorg. Chem. 1983. 22. 3323-3326.\n",
    "%CuTplus=CuTplus./(1+BF1*ClT+BF2*ClT^2+BF3*ClT^3);\n",
    "\n",
    "param=polyfit(log10(CuTplus(1:end)),Emeas(1:end),1)\n",
    "paramlinear=polyfit(log10(CuTplus(3:end)),Emeas(3:end),1)\n",
    "logCuToriginal=(Emeas(1:2)-param(2))/param(1);\n",
    "CuToriginal=(10.^logCuToriginal)*63.546*1e6;\n",
    "logCuoriginal=mean((mVAoriginal-param(2))/param(1));\n"
   ]
  },
  {
   "cell_type": "code",
   "execution_count": 218,
   "id": "95b795b3-7097-4460-94a9-edbec5fe72bd",
   "metadata": {},
   "outputs": [
    {
     "data": {
      "text/plain": [
       "logCuonept = -7.7312e+00\n"
      ]
     },
     "metadata": {},
     "output_type": "display_data"
    }
   ],
   "source": [
    "% try one point, assume Nernst slope\n",
    "m=59.2/2; Eacid=mean(Emeas(1:2)); Eorig=mean(mVAoriginal); m=paramlinear(1);\n",
    "Eo=Eacid-(m)*log10(CuT);\n",
    "logCuonept=(Eorig-Eo)/m"
   ]
  },
  {
   "cell_type": "code",
   "execution_count": 219,
   "id": "190f3e51-5e9f-4eec-be48-9eae1ae0de54",
   "metadata": {},
   "outputs": [
    {
     "data": {
      "application/vnd.plotly.v1+json": {
       "data": [
        {
         "line": {
          "color": "rgb(0, 0, 0)",
          "width": 0.5
         },
         "marker": {
          "color": "rgb(0, 0, 0)",
          "line": {
           "color": "rgb(0, 0, 0)"
          },
          "size": 8,
          "symbol": "circle"
         },
         "mode": "markers",
         "name": "",
         "showlegend": false,
         "type": "scatter",
         "visibility": true,
         "x": [
          -7,
          -7,
          -4.815552507046849,
          -4.815552507046849,
          -4.341193761397771,
          -4.341193761397771,
          -3.917978720851003,
          -3.917978720851003,
          -3.5702816602444427,
          -3.5702816602444427,
          -3.2543036288356304,
          -3.2543036288356304,
          -3.0139853646721972,
          -3.0139853646721972
         ],
         "xaxis": "x",
         "y": [
          86.1,
          84.6,
          98.2,
          98.6,
          107.8,
          107.7,
          116.5,
          116,
          125.5,
          132.2,
          133.5,
          134.2,
          140.8,
          142.2
         ],
         "yaxis": "y"
        },
        {
         "line": {
          "color": "rgb(0, 0, 0)",
          "width": 0.5
         },
         "marker": {
          "color": "rgb(0, 0, 0)",
          "line": {
           "color": "rgb(0, 0, 0)"
          },
          "size": 6,
          "symbol": "circle"
         },
         "mode": "markers",
         "name": "",
         "showlegend": false,
         "type": "scatter",
         "visibility": true,
         "x": [
          -7.736206128385634
         ],
         "xaxis": "x",
         "y": [
          68
         ],
         "yaxis": "y"
        },
        {
         "line": {
          "color": "rgb(0, 0, 0)",
          "width": 0.5
         },
         "marker": {
          "color": "rgb(0, 0, 0)",
          "line": {
           "color": "rgb(0, 0, 0)"
          },
          "size": 6,
          "symbol": "circle"
         },
         "mode": "markers",
         "name": "",
         "showlegend": false,
         "type": "scatter",
         "visibility": true,
         "x": [
          -7.736206128385634
         ],
         "xaxis": "x",
         "y": [
          67.4
         ],
         "yaxis": "y"
        },
        {
         "line": {
          "color": "rgb(0, 0, 0)",
          "dash": "solid",
          "width": 0.5
         },
         "marker": {
          "color": "rgb(0, 0, 0)",
          "line": {
           "color": "rgb(0, 0, 0)"
          },
          "size": 6,
          "symbol": "none"
         },
         "mode": "lines",
         "name": "",
         "showlegend": false,
         "type": "scatter",
         "visibility": true,
         "x": [
          -13,
          -12.9,
          -12.8,
          -12.7,
          -12.6,
          -12.5,
          -12.4,
          -12.3,
          -12.2,
          -12.1,
          -12,
          -11.9,
          -11.8,
          -11.7,
          -11.6,
          -11.5,
          -11.4,
          -11.3,
          -11.2,
          -11.1,
          -11,
          -10.9,
          -10.8,
          -10.7,
          -10.6,
          -10.5,
          -10.4,
          -10.3,
          -10.2,
          -10.1,
          -10,
          -9.9,
          -9.8,
          -9.7,
          -9.6,
          -9.5,
          -9.4,
          -9.3,
          -9.2,
          -9.1,
          -9,
          -8.899999999999999,
          -8.8,
          -8.7,
          -8.6,
          -8.5,
          -8.399999999999999,
          -8.3,
          -8.2,
          -8.1,
          -8,
          -7.8999999999999995,
          -7.8,
          -7.699999999999999,
          -7.6,
          -7.5,
          -7.3999999999999995,
          -7.3,
          -7.199999999999999,
          -7.1,
          -7,
          -6.8999999999999995,
          -6.8,
          -6.699999999999999,
          -6.6,
          -6.5,
          -6.3999999999999995,
          -6.3,
          -6.199999999999999,
          -6.1,
          -6,
          -5.8999999999999995,
          -5.8,
          -5.699999999999999,
          -5.6,
          -5.5,
          -5.3999999999999995,
          -5.3,
          -5.199999999999999,
          -5.1,
          -5,
          -4.9,
          -4.799999999999999,
          -4.699999999999999,
          -4.6,
          -4.5,
          -4.4,
          -4.299999999999999,
          -4.199999999999999,
          -4.1,
          -4,
          -3.9000000000000004,
          -3.799999999999999,
          -3.6999999999999993,
          -3.5999999999999996,
          -3.5,
          -3.3999999999999986,
          -3.299999999999999,
          -3.1999999999999993,
          -3.0999999999999996,
          -3
         ],
         "xaxis": "x",
         "y": [
          -5.7081975465048345,
          -4.313610308916225,
          -2.9190230713276435,
          -1.5244358337390054,
          -0.1298485961504241,
          1.2647386414381856,
          2.659325879026767,
          4.053913116615377,
          5.448500354203986,
          6.8430875917925675,
          8.237674829381177,
          9.632262066969787,
          11.026849304558368,
          12.421436542146978,
          13.816023779735588,
          15.210611017324169,
          16.60519825491278,
          17.99978549250136,
          19.394372730089998,
          20.78895996767858,
          22.18354720526719,
          23.57813444285577,
          24.97272168044438,
          26.36730891803299,
          27.7618961556216,
          29.15648339321018,
          30.55107063079879,
          31.94565786838737,
          33.34024510597598,
          34.73483234356459,
          36.12941958115317,
          37.52400681874178,
          38.91859405633039,
          40.313181293919,
          41.70776853150758,
          43.10235576909619,
          44.49694300668477,
          45.89153024427338,
          47.28611748186199,
          48.68070471945059,
          50.075291957039184,
          51.46987919462781,
          52.86446643221639,
          54.259053669805,
          55.653640907393594,
          57.04822814498219,
          58.442815382570814,
          59.83740262015938,
          61.231989857748005,
          62.6265770953366,
          64.0211643329252,
          65.4157515705138,
          66.8103388081024,
          68.20492604569101,
          69.5995132832796,
          70.9941005208682,
          72.38868775845681,
          73.7832749960454,
          75.177862233634,
          76.5724494712226,
          77.96703670881121,
          79.3616239463998,
          80.7562111839884,
          82.15079842157701,
          83.5453856591656,
          84.9399728967542,
          86.33456013434281,
          87.7291473719314,
          89.12373460952001,
          90.51832184710861,
          91.9129090846972,
          93.30749632228581,
          94.70208355987441,
          96.09667079746302,
          97.49125803505162,
          98.88584527264021,
          100.28043251022882,
          101.67501974781742,
          103.06960698540601,
          104.4641942229946,
          105.8587814605832,
          107.25336869817181,
          108.64795593576042,
          110.04254317334902,
          111.43713041093761,
          112.83171764852621,
          114.2263048861148,
          115.62089212370343,
          117.01547936129202,
          118.41006659888062,
          119.80465383646921,
          121.19924107405781,
          122.59382831164643,
          123.98841554923501,
          125.38300278682362,
          126.77759002441222,
          128.17217726200084,
          129.56676449958942,
          130.96135173717803,
          132.35593897476662,
          133.75052621235523
         ],
         "yaxis": "y"
        },
        {
         "line": {
          "color": "rgb(0,0,255)",
          "dash": "dash",
          "width": 0.5
         },
         "marker": {
          "color": "rgb(0,0,255)",
          "line": {
           "color": "rgb(0,0,255)"
          },
          "size": 6,
          "symbol": "none"
         },
         "mode": "lines",
         "name": "",
         "showlegend": false,
         "type": "scatter",
         "visibility": true,
         "x": [
          -7.015279960207198,
          -7.015279960207198
         ],
         "xaxis": "x",
         "y": [
          -100,
          100
         ],
         "yaxis": "y"
        },
        {
         "line": {
          "color": "rgb(0,0,255)",
          "dash": "dash",
          "width": 0.5
         },
         "marker": {
          "color": "rgb(0,0,255)",
          "line": {
           "color": "rgb(0,0,255)"
          },
          "size": 6,
          "symbol": "none"
         },
         "mode": "lines",
         "name": "",
         "showlegend": false,
         "type": "scatter",
         "visibility": true,
         "x": [
          -7.015279960207198,
          -7.015279960207198
         ],
         "xaxis": "x",
         "y": [
          -100,
          150
         ],
         "yaxis": "y"
        },
        {
         "line": {
          "color": "rgb(0,0,255)",
          "dash": "dash",
          "width": 0.5
         },
         "marker": {
          "color": "rgb(0,0,255)",
          "line": {
           "color": "rgb(0,0,255)"
          },
          "size": 6,
          "symbol": "none"
         },
         "mode": "lines",
         "name": "",
         "showlegend": false,
         "type": "scatter",
         "visibility": true,
         "x": [
          -7,
          -7
         ],
         "xaxis": "x",
         "y": [
          -100,
          150
         ],
         "yaxis": "y"
        },
        {
         "line": {
          "color": "rgb(255,0,0)",
          "width": 0.5
         },
         "marker": {
          "color": "rgb(255,0,0)",
          "line": {
           "color": "rgb(255,0,0)"
          },
          "size": 6,
          "symbol": "circle"
         },
         "mode": "markers",
         "name": "",
         "showlegend": false,
         "type": "scatter",
         "visibility": true,
         "x": [
          -7.73121978491859
         ],
         "xaxis": "x",
         "y": [
          67.7
         ],
         "yaxis": "y"
        }
       ],
       "layout": {
        "annotations": [
         {
          "font": {
           "color": "rgb(0, 0, 0)",
           "size": 10
          },
          "showarrow": false,
          "text": "model Cu<sup>2+</sup>",
          "x": -6.915279960207198,
          "xanchor": "left",
          "xref": "x",
          "y": 50,
          "yanchor": "middle",
          "yref": "y"
         },
         {
          "font": {
           "color": "rgb(0, 0, 0)",
           "size": 10
          },
          "showarrow": false,
          "text": "Total Cu",
          "x": -6.8,
          "xanchor": "left",
          "xref": "x",
          "y": 60,
          "yanchor": "middle",
          "yref": "y"
         }
        ],
        "height": 420,
        "hovermode": "closest",
        "margin": {
         "b": 0,
         "l": 0,
         "r": 0,
         "t": 0
        },
        "plot_bgcolor": "rgba(0, 0, 0, 0)",
        "showlegend": false,
        "width": 560,
        "xaxis": {
         "anchor": "y",
         "autorange": false,
         "domain": [
          0.13,
          0.905
         ],
         "exponentformat": "none",
         "gridcolor": "rgba(38,38,38,0.15)",
         "gridwidth": 2,
         "linecolor": "rgb(38,38,38)",
         "linewidth": 2,
         "mirror": "ticks",
         "range": [
          -16,
          -3
         ],
         "showgrid": false,
         "showline": true,
         "side": "bottom",
         "spikedash": "solid",
         "spikemode": "across",
         "spikesides": false,
         "spikethickness": 1,
         "tickangle": 0,
         "tickcolor": "rgb(38,38,38)",
         "tickfont": {
          "color": "rgb(38,38,38)",
          "size": 12
         },
         "ticklen": 3,
         "ticks": "inside",
         "ticktext": [
          "-16",
          "-14",
          "-12",
          "-10",
          "-8",
          "-6",
          "-4"
         ],
         "tickvals": [
          -16,
          -14,
          -12,
          -10,
          -8,
          -6,
          -4
         ],
         "title": {
          "font": {
           "color": "rgb(38,38,38)",
           "size": 13.200000000000001
          },
          "text": "log([Cu<sup>2+</sup>])"
         },
         "type": "linear",
         "visible": true,
         "zeroline": false
        },
        "yaxis": {
         "anchor": "x",
         "autorange": false,
         "domain": [
          0.11,
          0.9249999999999999
         ],
         "exponentformat": "none",
         "gridcolor": "rgba(38,38,38,0.15)",
         "gridwidth": 2,
         "linecolor": "rgb(38,38,38)",
         "linewidth": 2,
         "mirror": "ticks",
         "range": [
          -40,
          150
         ],
         "showgrid": false,
         "showline": true,
         "side": "left",
         "spikedash": "solid",
         "spikemode": "across",
         "spikesides": false,
         "spikethickness": 1,
         "tickangle": 0,
         "tickcolor": "rgb(38,38,38)",
         "tickfont": {
          "color": "rgb(38,38,38)",
          "size": 12
         },
         "ticklen": 3,
         "ticks": "inside",
         "ticktext": [
          "0",
          "50",
          "100",
          "150"
         ],
         "tickvals": [
          0,
          50,
          100,
          150
         ],
         "title": {
          "font": {
           "color": "rgb(38,38,38)",
           "size": 13.200000000000001
          },
          "text": "Potential (mV)"
         },
         "type": "linear",
         "visible": true,
         "zeroline": false
        }
       }
      },
      "image/png": "[encoded data removed]"
     },
     "metadata": {},
     "output_type": "display_data"
    },
    {
     "data": {
      "text/plain": [
       "logCunosolid = -7.0153e+00\n"
      ]
     },
     "metadata": {},
     "output_type": "display_data"
    },
    {
     "data": {
      "text/plain": [
       "logCuoriginalsample = -7.7362e+00\n"
      ]
     },
     "metadata": {},
     "output_type": "display_data"
    },
    {
     "data": {
      "text/plain": [
       "logCuonept = -7.7312e+00\n"
      ]
     },
     "metadata": {},
     "output_type": "display_data"
    }
   ],
   "source": [
    "% MODEL FOR COMPARISON\n",
    "\n",
    "%model with just inorganic speciation\n",
    "%geochemical model\n",
    "% input the constants and solution chemistry\n",
    "\n",
    "flag1=2; %flag1 for concentration based search vector (1) or for log based search vector (2).\n",
    "flag2=1; %flag2 for numerical derivatives (2) or analtyical derivatives (1)\n",
    "database=[]; \n",
    "flag3=0; % flag3 1 for show warnings. 0 no warnings\n",
    "flag4=0; %if=1 solve tableau one line at a time to get a good initial guess (no solids). really challenging probs only\n",
    "flag5=0; %if=1 use stored initial guess for including solids\n",
    "\n",
    "CuT=CuTmeas; inorganicTOTALS=[CuT];\n",
    "inorganicTOTALS(inorganicTOTALS==0)=1e-16; % get rid of zero values, b/c div by zero error\n",
    "TOTALS=[inorganicTOTALS]; %TOTALS=inorganicTOTALS;\n",
    "pe=20.75-pH; PCO2=10^-3.5;\n",
    "[Cuall,CuOH,CuOH2s,CuOs,CuCO3s,tenorite,malachite,MASSERR]=CuOHCO2opentableauallsolids(pH,pe,PCO2,TOTALS',flag1,flag2,flag3,flag4,flag5,database);\n",
    "[CuwithCuOs,CuOH,CuOH2s,CuOs,CuCO3s,tenorite,malachite,MASSERR]=CuOHCO2opentableauCuOs(pH,pe,PCO2,TOTALS',flag1,flag2,flag3,flag4,flag5,database);\n",
    "[Cunosolid,CuOH,CuOH2s,CuOs,CuCO3s,tenorite,malachite,MASSERR]=CuOHCO2opentableaunosolid(pH,pe,PCO2,TOTALS',flag1,flag2,flag3,flag4,flag5,database);\n",
    "\n",
    "plot(log10(CuTplus),Emeas,'ko','markersize',8)\n",
    "\n",
    "hold on\n",
    "plot([logCuoriginal'],[mVAoriginal'],'ko')\n",
    "logCuplot=-13:0.1:-3; Eplot=polyval(param,logCuplot);\n",
    "plot(logCuplot,Eplot,'k-')\n",
    "set(gca,'linewidth',2)\n",
    "xlabel('log[Cu^{2+}]'); ylabel('E (mV)')\n",
    "hold on\n",
    "\n",
    "plot([log10(Cuall) log10(Cuall)],[-100 100],'b--')\n",
    "plot([log10(Cunosolid) log10(Cunosolid)],[-100 150],'b--'); hold on\n",
    "plot([log10(CuT) log10(CuT)],[-100 150],'b--')\n",
    "%plot([-9.576 -9.576],[-100 100],'b--')\n",
    "\n",
    "text(log10(Cunosolid)+0.1,50,'model Cu^{2+}','rotation',90)\n",
    "text(log10(CuT)+0.2,60,'Total Cu','rotation',90)\n",
    "\n",
    "\n",
    "xlabel('log([Cu^{2+}])')\n",
    "ylabel('Potential (mV)')\n",
    "set(gca,'LineWidth',2,'fontsize',12)\n",
    "\n",
    "logCunosolid=log10(Cunosolid)\n",
    "logCuoriginalsample=mean((mVAoriginal-param(2))/param(1))\n",
    "logCuonept\n",
    "\n",
    "axis([-16 -3 -40 150])\n",
    "\n",
    "plot(logCuonept,Eorig,'ro','markerfacecolor','r')\n"
   ]
  },
  {
   "cell_type": "code",
   "execution_count": null,
   "id": "286a9a21-0cfe-4aaa-a590-d0cbf6e0e293",
   "metadata": {},
   "outputs": [],
   "source": []
  }
 ],
 "metadata": {
  "kernelspec": {
   "display_name": "Octave (xoctave)",
   "language": "Octave",
   "name": "xoctave"
  },
  "language_info": {
   "codemirror_mode": "octave",
   "file_extension": ".m",
   "mimetype": "text/x-octave",
   "name": "Octave",
   "nbconvert_exporter": "",
   "pygments_lexer": "octave",
   "version": "7.3.0"
  }
 },
 "nbformat": 4,
 "nbformat_minor": 5
}
