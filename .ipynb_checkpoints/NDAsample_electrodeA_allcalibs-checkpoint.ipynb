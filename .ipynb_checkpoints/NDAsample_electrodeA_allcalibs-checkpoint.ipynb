{
 "cells": [
  {
   "cell_type": "markdown",
   "id": "c267840a-0b61-44ab-bc9d-fc98efd5d539",
   "metadata": {},
   "source": [
    "# Aug 28 data electrode A\n",
    "\n",
    "1e-7 M CuT, 0.01 M KNO3 electrolyte, pH 8\n",
    "\n",
    "electrode A might be the original electrode?\n"
   ]
  },
  {
   "cell_type": "code",
   "execution_count": 621,
   "id": "5b91745d-be40-49bc-9645-49174473a1f2",
   "metadata": {},
   "outputs": [],
   "source": [
    "% setup environment\n",
    "% set path to equilibrium solver\n",
    "txt=pwd;\n",
    "n=length(txt);\n",
    "rootpath=txt; %txt(1:n-8);\n",
    "PHREEQCpath=[rootpath,'/runPHREEQC'];\n",
    "addpath(PHREEQCpath);\n",
    "JEQUILIBpath=[rootpath,'/JEQUILIB']; addpath(JEQUILIBpath);\n",
    "Cumodelspath=[rootpath,'/Cutableaus']; addpath(Cumodelspath);\n",
    "% clear data and number format\n",
    "clear; format short e\n",
    "% turn off warnings\n",
    "warning off\n",
    "graphics_toolkit (\"notebook\"); \n",
    "graphics_toolkit (\"plotly\"); "
   ]
  },
  {
   "cell_type": "code",
   "execution_count": 622,
   "id": "5ebebbe5-0fef-4c64-9602-676482133835",
   "metadata": {},
   "outputs": [],
   "source": [
    "% put in constants\n",
    "VT=0.05; %total volume\n",
    "stockCuconc=0.0152067;"
   ]
  },
  {
   "cell_type": "code",
   "execution_count": 623,
   "id": "7cab7aa9-4607-4224-89a8-0c7fc1b01d8e",
   "metadata": {
    "tags": []
   },
   "outputs": [],
   "source": [
    "% put in data\n",
    "data=[...\n",
    "%volCu mV pH\n",
    "0  97.9 2.001\n",
    "50 108.8 2.021\n",
    "100  118.4 2.018\n",
    "250 127.4  2.019\n",
    "500 137.3 2.023\n",
    "1000 145.9 2.028\n",
    "];\n",
    "\n",
    "originalsamplemVnpH=[...\n",
    "%pH mV\n",
    "9.697 -17\n",
    "9.709 -17.3\n",
    "];"
   ]
  },
  {
   "cell_type": "code",
   "execution_count": 624,
   "id": "95303175-0241-4e93-b215-1add113f0dbc",
   "metadata": {},
   "outputs": [
    {
     "data": {
      "text/plain": [
       "pH = 9.7030e+00\n"
      ]
     },
     "metadata": {},
     "output_type": "display_data"
    },
    {
     "data": {
      "text/plain": [
       "logCuonept = -1.0887e+01\n"
      ]
     },
     "metadata": {},
     "output_type": "display_data"
    },
    {
     "data": {
      "text/plain": [
       "logCuoneptmeasuredslope = -1.1058e+01\n"
      ]
     },
     "metadata": {},
     "output_type": "display_data"
    },
    {
     "data": {
      "text/plain": [
       "logCufullcalib = -1.5457e+01\n"
      ]
     },
     "metadata": {},
     "output_type": "display_data"
    },
    {
     "data": {
      "text/plain": [
       "logCulinearcalib = -9.2639e+00\n"
      ]
     },
     "metadata": {},
     "output_type": "display_data"
    },
    {
     "data": {
      "text/plain": [
       "logCulowslopecalib = -3.0057e+01\n"
      ]
     },
     "metadata": {},
     "output_type": "display_data"
    },
    {
     "data": {
      "text/plain": [
       "err = 1.5493e+00\n"
      ]
     },
     "metadata": {},
     "output_type": "display_data"
    },
    {
     "data": {
      "application/vnd.plotly.v1+json": {
       "data": [
        {
         "line": {
          "color": "rgb(0, 0, 0)",
          "width": 0.5
         },
         "marker": {
          "color": "rgb(0, 0, 0)",
          "line": {
           "color": "rgb(0, 0, 0)"
          },
          "size": 6,
          "symbol": "circle"
         },
         "mode": "markers",
         "name": "",
         "showlegend": false,
         "type": "scatter",
         "visibility": true,
         "x": [
          -7,
          -4.815552507046849,
          -4.516377119297893,
          -4.120590266171172,
          -3.8220008952760045,
          -3.525392424282748
         ],
         "xaxis": "x",
         "y": [
          97.9,
          108.8,
          118.4,
          127.4,
          137.3,
          145.9
         ],
         "yaxis": "y"
        },
        {
         "line": {
          "color": "rgb(0, 0, 0)",
          "dash": "solid",
          "width": 0.5
         },
         "marker": {
          "color": "rgb(0, 0, 0)",
          "line": {
           "color": "rgb(0, 0, 0)"
          },
          "size": 6,
          "symbol": "none"
         },
         "mode": "lines",
         "name": "",
         "showlegend": false,
         "type": "scatter",
         "visibility": true,
         "x": [
          -8,
          -7.9,
          -7.8,
          -7.7,
          -7.6,
          -7.5,
          -7.4,
          -7.3,
          -7.2,
          -7.1,
          -7,
          -6.9,
          -6.8,
          -6.7,
          -6.6,
          -6.5,
          -6.4,
          -6.3,
          -6.2,
          -6.1,
          -6,
          -5.9,
          -5.8,
          -5.699999999999999,
          -5.6,
          -5.5,
          -5.4,
          -5.3,
          -5.199999999999999,
          -5.1,
          -5,
          -4.9,
          -4.8,
          -4.699999999999999,
          -4.6,
          -4.5,
          -4.4,
          -4.3,
          -4.199999999999999,
          -4.1,
          -4,
          -3.8999999999999995,
          -3.8,
          -3.7,
          -3.5999999999999996,
          -3.5,
          -3.3999999999999995,
          -3.3,
          -3.1999999999999993,
          -3.0999999999999996,
          -3
         ],
         "xaxis": "x",
         "y": [
          95.00928438794458,
          95.01168791964965,
          95.01471353401858,
          95.01852215627322,
          95.0233162928812,
          95.02935074752824,
          95.03694608226529,
          95.04650551744876,
          95.05853613369678,
          95.07367544681352,
          95.09272467902996,
          95.1166903533079,
          95.1468361968873,
          95.18474775747815,
          95.232412605682,
          95.29231950353612,
          95.3675804240487,
          95.46207973885345,
          95.5806551253608,
          95.72931457285519,
          95.91549295774648,
          96.14834950560561,
          96.4391033207663,
          96.80139701284223,
          97.25166694845734,
          97.80948125843888,
          98.49778199874892,
          99.3429352142727,
          100.374453759839,
          101.62421875268956,
          103.125,
          104.90808703148755,
          106.99992302763167,
          109.41781750568394,
          112.16511432550932,
          115.22657270196443,
          118.56506430327207,
          122.12080954057275,
          125.81408097810224,
          129.55153563808878,
          133.23529411764707,
          136.77297985617184,
          140.08659654196316,
          143.11852625723913,
          145.8338702285264,
          148.21938658909977,
          150.2800036269045,
          152.0341356876875,
          153.50887748615554,
          154.73579617417977,
          155.74766355140187
         ],
         "yaxis": "y"
        },
        {
         "line": {
          "color": "rgb(0, 0, 0)",
          "dash": "dash",
          "width": 0.5
         },
         "marker": {
          "color": "rgb(0, 0, 0)",
          "line": {
           "color": "rgb(0, 0, 0)"
          },
          "size": 6,
          "symbol": "none"
         },
         "mode": "lines",
         "name": "",
         "showlegend": false,
         "type": "scatter",
         "visibility": true,
         "x": [
          -8,
          -7.9,
          -7.8,
          -7.7,
          -7.6,
          -7.5,
          -7.4,
          -7.3,
          -7.2,
          -7.1,
          -7,
          -6.9,
          -6.8,
          -6.7,
          -6.6,
          -6.5,
          -6.4,
          -6.3,
          -6.2,
          -6.1,
          -6,
          -5.9,
          -5.8,
          -5.699999999999999,
          -5.6,
          -5.5,
          -5.4,
          -5.3,
          -5.199999999999999,
          -5.1,
          -5,
          -4.9,
          -4.8,
          -4.699999999999999,
          -4.6,
          -4.5,
          -4.4,
          -4.3,
          -4.199999999999999,
          -4.1,
          -4,
          -3.8999999999999995,
          -3.8,
          -3.7,
          -3.5999999999999996,
          -3.5,
          -3.3999999999999995,
          -3.3,
          -3.1999999999999993,
          -3.0999999999999996,
          -3
         ],
         "xaxis": "x",
         "y": [
          98.22534957276818,
          98.22761718754099,
          98.23047168889464,
          98.23406488671112,
          98.23858781065543,
          98.24428081396772,
          98.25144626349503,
          98.26046446818437,
          98.2718136570069,
          98.28609501126947,
          98.30406399124881,
          98.3266694783849,
          98.35510258562687,
          98.39085737003857,
          98.4358061064943,
          98.49229222971798,
          98.5632444832678,
          98.65231615298428,
          98.76405337917092,
          98.90409622392666,
          99.07941508396469,
          99.29858268166252,
          99.57207751207781,
          99.91260728141883,
          100.33542929730658,
          100.85862759225122,
          101.50328266211483,
          102.29343902951696,
          103.25574086369274,
          104.41857376907716,
          105.81053603081446,
          107.4580884109705,
          109.38232807329715,
          111.59502591838171,
          114.09435913397769,
          116.86110978606538,
          119.85636057118337,
          123.02172388499089,
          126.28274688207878,
          129.55535635276783,
          132.75428525530668,
          135.8017530911936,
          138.63458316075526,
          141.20847675988878,
          143.49905929581436,
          145.50016363016758,
          147.2203234552023,
          148.67854178209683,
          149.90018992534783,
          150.9135592016449,
          151.74727450608975
         ],
         "yaxis": "y"
        }
       ],
       "layout": {
        "height": 420,
        "hovermode": "closest",
        "margin": {
         "b": 0,
         "l": 0,
         "r": 0,
         "t": 0
        },
        "plot_bgcolor": "rgba(0, 0, 0, 0)",
        "showlegend": false,
        "width": 560,
        "xaxis": {
         "anchor": "y",
         "autorange": false,
         "domain": [
          0.13,
          0.905
         ],
         "exponentformat": "none",
         "gridcolor": "rgba(38,38,38,0.15)",
         "gridwidth": 1,
         "linecolor": "rgb(38,38,38)",
         "linewidth": 1,
         "mirror": "ticks",
         "range": [
          -8,
          -3
         ],
         "showgrid": false,
         "showline": true,
         "side": "bottom",
         "spikedash": "solid",
         "spikemode": "across",
         "spikesides": false,
         "spikethickness": 1,
         "tickangle": 0,
         "tickcolor": "rgb(38,38,38)",
         "tickfont": {
          "color": "rgb(38,38,38)",
          "size": 10
         },
         "ticklen": 3,
         "ticks": "inside",
         "ticktext": [
          "-8",
          "-7",
          "-6",
          "-5",
          "-4",
          "-3"
         ],
         "tickvals": [
          -8,
          -7,
          -6,
          -5,
          -4,
          -3
         ],
         "title": {
          "font": {
           "color": "rgb(0, 0, 0)",
           "size": 11
          },
          "text": ""
         },
         "type": "linear",
         "visible": true,
         "zeroline": false
        },
        "yaxis": {
         "anchor": "x",
         "autorange": false,
         "domain": [
          0.11,
          0.9249999999999999
         ],
         "exponentformat": "none",
         "gridcolor": "rgba(38,38,38,0.15)",
         "gridwidth": 1,
         "linecolor": "rgb(38,38,38)",
         "linewidth": 1,
         "mirror": "ticks",
         "range": [
          90,
          160
         ],
         "showgrid": false,
         "showline": true,
         "side": "left",
         "spikedash": "solid",
         "spikemode": "across",
         "spikesides": false,
         "spikethickness": 1,
         "tickangle": 0,
         "tickcolor": "rgb(38,38,38)",
         "tickfont": {
          "color": "rgb(38,38,38)",
          "size": 10
         },
         "ticklen": 3,
         "ticks": "inside",
         "ticktext": [
          "90",
          "100",
          "110",
          "120",
          "130",
          "140",
          "150",
          "160"
         ],
         "tickvals": [
          90,
          100,
          110,
          120,
          130,
          140,
          150,
          160
         ],
         "title": {
          "font": {
           "color": "rgb(0, 0, 0)",
           "size": 11
          },
          "text": ""
         },
         "type": "linear",
         "visible": true,
         "zeroline": false
        }
       }
      },
      "image/png": "[encoded data removed]"
     },
     "metadata": {},
     "output_type": "display_data"
    },
    {
     "data": {
      "text/html": [
       "<table><tr><th><i>pbest<i></th><th>1</th><th>2</th><th>3</th><th>4</th></tr><tr><th>1</th><td>98.2166</td><td>155.231</td><td>-4.44432</td><td>1.81033</td></tr></table>"
      ],
      "text/plain": [
       "pbest =    9.8217e+01   1.5523e+02  -4.4443e+00   1.8103e+00\n"
      ]
     },
     "metadata": {},
     "output_type": "display_data"
    }
   ],
   "source": [
    "% process the data\n",
    "pH=mean(originalsamplemVnpH(:,1))\n",
    "mVAoriginal=(originalsamplemVnpH(:,2));\n",
    "addedCuvol=data(:,1)'*1e-6;\n",
    "pHcalib=data(:,3);\n",
    "\n",
    "mVA=data(:,2)'; Emeas=mVA; CuTmeas=1e-7; CuT=CuTmeas;\n",
    "CuTplus=(CuTmeas*(VT)+addedCuvol*stockCuconc)./(VT+addedCuvol);\n",
    "\n",
    "%chlorocorrecxtion\n",
    "%BF1=2.49; BF2=1.14; BF3=0.9; ClT=4.9904e-4; %from Inorg. Chem. 1983. 22. 3323-3326.\n",
    "%CuTplus=CuTplus./(1+BF1*ClT+BF2*ClT^2+BF3*ClT^3);\n",
    "\n",
    "%determine free Cu for the sample using the method of Tait et al.\n",
    "m1=59.2/2; Eacid=Emeas(1); Eorig=mean(mVAoriginal); %m=param(1); \n",
    "Eo1=Eacid-(m1)*log10(CuT);\n",
    "logCuonept=(Eorig-Eo1)/m1\n",
    "%determine free Cu for the sample using the method of Tait et al. but use measured slope\n",
    "param1=polyfit(log10(CuTplus(2:end)),Emeas(2:end),1); m2=param1(1);\n",
    "Eacid=Emeas(1); Eorig=mean(mVAoriginal); \n",
    "Eo2=Eacid-(m2)*log10(CuT);\n",
    "logCuoneptmeasuredslope=(Eorig-Eo2)/m2\n",
    "%determine free Cu using all the calibration points\n",
    "param2=polyfit(log10(CuTplus(1:end)),Emeas(1:end),1);\n",
    "logCufullcalib=(mean(mVAoriginal)-param2(2))/param2(1)\n",
    "%determine free Cu using high Cu additions (linear part)\n",
    "param3=polyfit(log10(CuTplus(2:end)),Emeas(2:end),1);\n",
    "logCulinearcalib=(mean(mVAoriginal)-param3(2))/param3(1)\n",
    "%determine free Cu using two lowest points.  variable slope method like Marcinek et al.\n",
    "param4=polyfit(log10(CuTplus(1:2)),Emeas(1:2),1);\n",
    "logCulowslopecalib=(mean(mVAoriginal)-param4(2))/param4(1)\n",
    "\n",
    "%use logisticmodel\n",
    "logisticfunction = @(p,logx) (p(1)+(p(2)-p(1))./(1+10.^(p(3)-logx)*p(4)));\n",
    "errfunction=@(p,logx,Emeas) (log10(sum((Emeas-logisticfunction(p,logx)).^2)));\n",
    "ptst=[95 160 -4 0.7];\n",
    "logx=-8:0.1:-3; model=logisticfunction(ptst,logx);\n",
    "err=errfunction(ptst,log10(CuTplus),Emeas)\n",
    "plot(log10(CuTplus),Emeas,'ko')\n",
    "hold on\n",
    "plot(logx,model,'k-')\n",
    "% now best fit\n",
    "options = optimset('Display','off','TolFun',1e-4,'TolX',1e-4);\n",
    "pbest=fminsearch(@(p) errfunction(p,log10(CuTplus),Emeas),ptst,options)\n",
    "model=logisticfunction(pbest,logx);\n",
    "plot(logx,model,'k--')"
   ]
  },
  {
   "cell_type": "code",
   "execution_count": 625,
   "id": "941bd1b0-1f9b-40bd-b7bc-8e976e789d30",
   "metadata": {},
   "outputs": [
    {
     "data": {
      "text/plain": [
       "err = 1.1825e+00\n"
      ]
     },
     "metadata": {},
     "output_type": "display_data"
    },
    {
     "data": {
      "application/vnd.plotly.v1+json": {
       "data": [
        {
         "line": {
          "color": "rgb(0, 0, 0)",
          "width": 0.5
         },
         "marker": {
          "color": "rgb(0, 0, 0)",
          "line": {
           "color": "rgb(0, 0, 0)"
          },
          "size": 6,
          "symbol": "circle"
         },
         "mode": "markers",
         "name": "",
         "showlegend": false,
         "type": "scatter",
         "visibility": true,
         "x": [
          -7,
          -4.815552507046849,
          -4.516377119297893,
          -4.120590266171172,
          -3.8220008952760045,
          -3.525392424282748
         ],
         "xaxis": "x",
         "y": [
          97.9,
          108.8,
          118.4,
          127.4,
          137.3,
          145.9
         ],
         "yaxis": "y"
        },
        {
         "line": {
          "color": "rgb(0, 0, 0)",
          "dash": "solid",
          "width": 0.5
         },
         "marker": {
          "color": "rgb(0, 0, 0)",
          "line": {
           "color": "rgb(0, 0, 0)"
          },
          "size": 6,
          "symbol": "none"
         },
         "mode": "lines",
         "name": "",
         "showlegend": false,
         "type": "scatter",
         "visibility": true,
         "x": [
          -7,
          -4.815552507046849,
          -4.516377119297893,
          -4.120590266171172,
          -3.8220008952760045,
          -3.525392424282748
         ],
         "xaxis": "x",
         "y": [
          95.6166489121301,
          111.54270093488142,
          118.54093338507758,
          128.9699325264914,
          137.34537197172665,
          145.88857489549875
         ],
         "yaxis": "y"
        },
        {
         "line": {
          "color": "rgb(0, 0, 0)",
          "dash": "dash",
          "width": 0.5
         },
         "marker": {
          "color": "rgb(0, 0, 0)",
          "line": {
           "color": "rgb(0, 0, 0)"
          },
          "size": 6,
          "symbol": "none"
         },
         "mode": "lines",
         "name": "",
         "showlegend": false,
         "type": "scatter",
         "visibility": true,
         "x": [
          -7,
          -4.815552507046849,
          -4.516377119297893,
          -4.120590266171172,
          -3.8220008952760045,
          -3.525392424282748
         ],
         "xaxis": "x",
         "y": [
          95.6166489121301,
          111.54270093488142,
          118.54093338507758,
          128.9699325264914,
          137.34537197172665,
          145.88857489549875
         ],
         "yaxis": "y"
        }
       ],
       "layout": {
        "height": 420,
        "hovermode": "closest",
        "margin": {
         "b": 0,
         "l": 0,
         "r": 0,
         "t": 0
        },
        "plot_bgcolor": "rgba(0, 0, 0, 0)",
        "showlegend": false,
        "width": 560,
        "xaxis": {
         "anchor": "y",
         "autorange": false,
         "domain": [
          0.13,
          0.905
         ],
         "exponentformat": "none",
         "gridcolor": "rgba(38,38,38,0.15)",
         "gridwidth": 1,
         "linecolor": "rgb(38,38,38)",
         "linewidth": 1,
         "mirror": "ticks",
         "range": [
          -7,
          -3.5
         ],
         "showgrid": false,
         "showline": true,
         "side": "bottom",
         "spikedash": "solid",
         "spikemode": "across",
         "spikesides": false,
         "spikethickness": 1,
         "tickangle": 0,
         "tickcolor": "rgb(38,38,38)",
         "tickfont": {
          "color": "rgb(38,38,38)",
          "size": 10
         },
         "ticklen": 3,
         "ticks": "inside",
         "ticktext": [
          "-7",
          "-6.5",
          "-6",
          "-5.5",
          "-5",
          "-4.5",
          "-4",
          "-3.5"
         ],
         "tickvals": [
          -7,
          -6.5,
          -6,
          -5.5,
          -5,
          -4.5,
          -4,
          -3.5
         ],
         "title": {
          "font": {
           "color": "rgb(0, 0, 0)",
           "size": 11
          },
          "text": ""
         },
         "type": "linear",
         "visible": true,
         "zeroline": false
        },
        "yaxis": {
         "anchor": "x",
         "autorange": false,
         "domain": [
          0.11,
          0.9249999999999999
         ],
         "exponentformat": "none",
         "gridcolor": "rgba(38,38,38,0.15)",
         "gridwidth": 1,
         "linecolor": "rgb(38,38,38)",
         "linewidth": 1,
         "mirror": "ticks",
         "range": [
          90,
          150
         ],
         "showgrid": false,
         "showline": true,
         "side": "left",
         "spikedash": "solid",
         "spikemode": "across",
         "spikesides": false,
         "spikethickness": 1,
         "tickangle": 0,
         "tickcolor": "rgb(38,38,38)",
         "tickfont": {
          "color": "rgb(38,38,38)",
          "size": 10
         },
         "ticklen": 3,
         "ticks": "inside",
         "ticktext": [
          "90",
          "100",
          "110",
          "120",
          "130",
          "140",
          "150"
         ],
         "tickvals": [
          90,
          100,
          110,
          120,
          130,
          140,
          150
         ],
         "title": {
          "font": {
           "color": "rgb(0, 0, 0)",
           "size": 11
          },
          "text": ""
         },
         "type": "linear",
         "visible": true,
         "zeroline": false
        }
       }
      },
      "image/png": "[encoded data removed]"
     },
     "metadata": {},
     "output_type": "display_data"
    },
    {
     "data": {
      "text/html": [
       "<table><tr><th><i>pbestNE<i></th><th>1</th><th>2</th><th>3</th></tr><tr><th>1</th><td>250</td><td>29.6056</td><td>0.000666694</td></tr></table>"
      ],
      "text/plain": [
       "pbestNE =    2.5000e+02   2.9606e+01   6.6669e-04\n"
      ]
     },
     "metadata": {},
     "output_type": "display_data"
    }
   ],
   "source": [
    "% fit using Nikolskii-Eisenman equation\n",
    "%E=E0+Slog(Cu +kH); parameters E0, S, k\n",
    "\n",
    "NEeqn=@(p,x1,x2) (p(1)+p(2).*log10(x1+p(3).*x2));\n",
    "errfunction=@(p,x1,x2,Emeas) (log10(sum((Emeas-NEeqn(p,x1,x2)).^2)));\n",
    "\n",
    "\n",
    "H=10.^-pHcalib; ptst=[250 59.2/2 0.0006];\n",
    "model=NEeqn(ptst,CuTplus',H);\n",
    "err=errfunction(ptst,CuTplus',H,Emeas')\n",
    "\n",
    "plot(log10(CuTplus), Emeas,'ko')\n",
    "hold on; plot(log10(CuTplus),model,'k-')\n",
    "\n",
    "\n",
    "% now best fit\n",
    "pbestNE=fminsearch(@(p) errfunction(p,CuTplus',H,Emeas'),ptst,options)\n",
    "NEmodel=NEeqn(pbestNE,CuTplus',H);\n",
    "plot(log10(CuTplus),model,'k--')"
   ]
  },
  {
   "cell_type": "code",
   "execution_count": 633,
   "id": "190f3e51-5e9f-4eec-be48-9eae1ae0de54",
   "metadata": {},
   "outputs": [
    {
     "data": {
      "image/png": "[encoded data removed]"
     },
     "metadata": {
      "image/png": {
       "height": 420,
       "width": 560
      }
     },
     "output_type": "display_data"
    },
    {
     "data": {
      "text/plain": [
       "logCunonlinear = -4.5407e+00 - 7.5366e-01i\n"
      ]
     },
     "metadata": {},
     "output_type": "display_data"
    },
    {
     "data": {
      "text/plain": [
       "logCuNE = -9.0237e+00\n"
      ]
     },
     "metadata": {},
     "output_type": "display_data"
    }
   ],
   "source": [
    "% MODEL FOR COMPARISON\n",
    "graphics_toolkit(\"notebook\")\n",
    "%model with just inorganic speciation\n",
    "%geochemical model\n",
    "% input the constants and solution chemistry\n",
    "\n",
    "flag1=2; %flag1 for concentration based search vector (1) or for log based search vector (2).\n",
    "flag2=1; %flag2 for numerical derivatives (2) or analtyical derivatives (1)\n",
    "database=[]; \n",
    "flag3=0; % flag3 1 for show warnings. 0 no warnings\n",
    "flag4=0; %if=1 solve tableau one line at a time to get a good initial guess (no solids). really challenging probs only\n",
    "flag5=0; %if=1 use stored initial guess for including solids\n",
    "\n",
    "CuT=CuTmeas; inorganicTOTALS=[CuT];\n",
    "inorganicTOTALS(inorganicTOTALS==0)=1e-16; % get rid of zero values, b/c div by zero error\n",
    "TOTALS=[inorganicTOTALS]; %TOTALS=inorganicTOTALS;\n",
    "pH=pH; pe=20.75-pH; PCO2=10^-3.5;\n",
    "[Cuall,CuOH,CuOH2s,CuOs,CuCO3s,tenorite,malachite,MASSERR]=CuOHCO2opentableauallsolids(pH,pe,PCO2,TOTALS',flag1,flag2,flag3,flag4,flag5,database);\n",
    "[CuwithCuOs,CuOH,CuOH2s,CuOs,CuCO3s,tenorite,malachite,MASSERR]=CuOHCO2opentableauCuOs(pH,pe,PCO2,TOTALS',flag1,flag2,flag3,flag4,flag5,database);\n",
    "[Cunosolid,CuOH,CuOH2s,CuOs,CuCO3s,tenorite,malachite,MASSERR]=CuOHCO2opentableaunosolid(pH,pe,PCO2,TOTALS',flag1,flag2,flag3,flag4,flag5,database);\n",
    "\n",
    "plot(log10(CuTplus),Emeas,'bo','markersize',8,'markerfacecolor','b')\n",
    "\n",
    "hold on\n",
    "possibleresults=[logCuonept logCuoneptmeasuredslope logCufullcalib logCulinearcalib logCulowslopecalib];\n",
    "mVAoriginals=mean(mVAoriginal)*ones(size(possibleresults));\n",
    "plot(possibleresults,mVAoriginals,'ko','markerfacecolor','w')\n",
    "\n",
    "paramTait=[m1 Eo1];\n",
    "logCuplot=-13:0.1:-3; Eplot=polyval(paramTait,logCuplot);\n",
    "plot(logCuplot,Eplot,'r-','linewidth',1)\n",
    "\n",
    "paramTait2=[m2 Eo2];\n",
    "logCuplot=-13:0.1:-3; Eplot=polyval(paramTait2,logCuplot);\n",
    "plot(logCuplot,Eplot,'r--','linewidth',1)\n",
    "\n",
    "logCuplot=-13:0.1:-3; Eplot=polyval(param2,logCuplot);\n",
    "plot(logCuplot,Eplot,'k--')\n",
    "\n",
    "logCuplot=-13:0.1:-3; Eplot=polyval(param3,logCuplot);\n",
    "plot(logCuplot,Eplot,'k:')\n",
    "\n",
    "logCuplot=-13:0.1:-3; Eplot=polyval(param4,logCuplot);\n",
    "plot(logCuplot,Eplot,'k-')\n",
    "\n",
    "set(gca,'linewidth',2)\n",
    "xlabel('log[Cu^{2+}]'); ylabel('E (mV)')\n",
    "hold on\n",
    "\n",
    "plot([log10(Cuall) log10(Cuall)],[min(mVAoriginal)-(max(Emeas)-mean(mVAoriginal))/4 max(Emeas)+0.2*max(Emeas)],'b--')\n",
    "plot([log10(Cunosolid) log10(Cunosolid)],[min(mVAoriginal)-(max(Emeas)-mean(mVAoriginal))/4 max(Emeas)+0.2*max(Emeas)],'b--'); hold on\n",
    "plot([log10(CuT) log10(CuT)],[min(mVAoriginal)-(max(Emeas)-mean(mVAoriginal))/4 max(Emeas)+0.2*max(Emeas)],'b--','linewidth',2)\n",
    "%plot([-9.576 -9.576],[-100 100],'b--')\n",
    "\n",
    "text(log10(Cunosolid)+0.1,max(Emeas)-(max(Emeas)-mean(mVAoriginal))/4,'model Cu^{2+}','rotation',90)\n",
    "text(log10(CuT)+0.1,max(Emeas)-(max(Emeas)-mean(mVAoriginal))/4,'Total Cu','rotation',90)\n",
    "\n",
    "\n",
    "xlabel('log([Cu^{2+}])')\n",
    "ylabel('Potential (mV)')\n",
    "set(gca,'LineWidth',2,'fontsize',12)\n",
    "\n",
    "axis([min(log10([Cunosolid Cuall]))-1 max(log10(CuTplus))+0.2 min(mVAoriginal)-(max(Emeas)-mean(mVAoriginal))/4 max(Emeas)+0.2*max(Emeas)])\n",
    "\n",
    "% nonlinear fit\n",
    "logx=min(possibleresults)-0.2:0.1:max(log10(CuTplus))+1;\n",
    "model=logisticfunction(pbest,logx);\n",
    "plot(logx,model,'m--','linewidth',2)\n",
    "\n",
    "logCunonlinear=-((log10((pbest(2)-pbest(1))/(mean(mVAoriginal)-pbest(1))-1))/pbest(4)-pbest(3))\n",
    "\n",
    "H=10.^-pH; logCuNE=log10(10.^((mean(mVAoriginal)-pbestNE(1))./pbestNE(2))-pbestNE(3)*H)\n",
    "\n",
    "plot(logCuNE,mean(mVAoriginal),'ko','markerfacecolor','c')\n",
    "plot(log10(CuTplus),NEmodel,'c-','linewidth',2)"
   ]
  },
  {
   "cell_type": "code",
   "execution_count": 627,
   "id": "286a9a21-0cfe-4aaa-a590-d0cbf6e0e293",
   "metadata": {},
   "outputs": [
    {
     "name": "stdout",
     "output_type": "stream",
     "text": [
      "various calibration results\n"
     ]
    },
    {
     "data": {
      "text/plain": [
       "logCuonept = -1.0887e+01\n"
      ]
     },
     "metadata": {},
     "output_type": "display_data"
    },
    {
     "data": {
      "text/plain": [
       "logCuoneptmeasuredslope = -1.1058e+01\n"
      ]
     },
     "metadata": {},
     "output_type": "display_data"
    },
    {
     "data": {
      "text/plain": [
       "logCufullcalib = -1.5457e+01\n"
      ]
     },
     "metadata": {},
     "output_type": "display_data"
    },
    {
     "data": {
      "text/plain": [
       "logCulinearcalib = -9.2639e+00\n"
      ]
     },
     "metadata": {},
     "output_type": "display_data"
    },
    {
     "data": {
      "text/plain": [
       "logCulowslopecalib = -3.0057e+01\n"
      ]
     },
     "metadata": {},
     "output_type": "display_data"
    },
    {
     "data": {
      "text/plain": [
       "logCuNE = -9.0237e+00\n"
      ]
     },
     "metadata": {},
     "output_type": "display_data"
    },
    {
     "name": "stdout",
     "output_type": "stream",
     "text": [
      "model results\n"
     ]
    },
    {
     "data": {
      "text/plain": [
       "ans = -1.2825e+01\n"
      ]
     },
     "metadata": {},
     "output_type": "display_data"
    },
    {
     "data": {
      "text/plain": [
       "ans = -1.2825e+01\n"
      ]
     },
     "metadata": {},
     "output_type": "display_data"
    }
   ],
   "source": [
    "disp('various calibration results')\n",
    "logCuonept\n",
    "logCuoneptmeasuredslope\n",
    "logCufullcalib\n",
    "logCulinearcalib\n",
    "logCulowslopecalib\n",
    "logCuNE\n",
    "disp('model results')\n",
    "log10(Cunosolid)\n",
    "log10(Cuall)"
   ]
  },
  {
   "cell_type": "code",
   "execution_count": null,
   "id": "9c1a81f3-9b2a-4c0a-bba6-269a37ee24d5",
   "metadata": {},
   "outputs": [],
   "source": []
  }
 ],
 "metadata": {
  "kernelspec": {
   "display_name": "Octave (xoctave)",
   "language": "Octave",
   "name": "xoctave"
  },
  "language_info": {
   "codemirror_mode": "octave",
   "file_extension": ".m",
   "mimetype": "text/x-octave",
   "name": "Octave",
   "nbconvert_exporter": "",
   "pygments_lexer": "octave",
   "version": "7.3.0"
  }
 },
 "nbformat": 4,
 "nbformat_minor": 5
}
