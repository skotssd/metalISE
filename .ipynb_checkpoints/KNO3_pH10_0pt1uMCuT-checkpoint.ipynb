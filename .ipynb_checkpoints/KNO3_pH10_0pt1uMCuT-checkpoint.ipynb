{
 "cells": [
  {
   "cell_type": "code",
   "execution_count": 133,
   "id": "5b91745d-be40-49bc-9645-49174473a1f2",
   "metadata": {},
   "outputs": [],
   "source": [
    "% setup environment\n",
    "% set path to equilibrium solver\n",
    "txt=pwd;\n",
    "n=length(txt);\n",
    "rootpath=txt; %txt(1:n-8);\n",
    "PHREEQCpath=[rootpath,'/runPHREEQC'];\n",
    "addpath(PHREEQCpath);\n",
    "JEQUILIBpath=[rootpath,'/JEQUILIB']; addpath(JEQUILIBpath);\n",
    "Cumodelspath=[rootpath,'/Cutableaus']; addpath(Cumodelspath);\n",
    "% clear data and number format\n",
    "clear; format short e\n",
    "% turn off warnings\n",
    "warning off\n",
    "graphics_toolkit (\"notebook\"); \n",
    "graphics_toolkit (\"plotly\"); "
   ]
  },
  {
   "cell_type": "code",
   "execution_count": 134,
   "id": "5ebebbe5-0fef-4c64-9602-676482133835",
   "metadata": {},
   "outputs": [],
   "source": [
    "% put in constants\n",
    "VT=0.05; %total volume\n",
    "stockCuconc=0.0152067;"
   ]
  },
  {
   "cell_type": "code",
   "execution_count": 135,
   "id": "7cab7aa9-4607-4224-89a8-0c7fc1b01d8e",
   "metadata": {
    "tags": []
   },
   "outputs": [],
   "source": [
    "% put in data\n",
    "data=[...\n",
    "%time hr\ttime min\ttime total\tcumulative  vol added\tpH\tmvA\tdelta\n",
    "%1\t17\t77\t0\t2.009\t78.1\t13.6285714285714\n",
    "%1\t23\t83\t0\t2.000\t73.8\t-0.716666666666666\n",
    "%1\t28\t88\t0\t1.999\t76\t0.440000000000001\n",
    "%1\t33\t93\t0\t1.999\t77.8\t0.359999999999999\n",
    "%1\t38\t98\t0\t1.995\t79.4\t0.320000000000002\n",
    "%1\t43\t103\t0\t1.996\t81.8\t0.479999999999998\n",
    "%1\t48\t108\t0\t1.995\t84\t0.440000000000001\n",
    "%1\t53\t113\t0\t2.005\t86\t0.4\n",
    "%1\t58\t118\t0\t2.006\t87.7\t0.340000000000001\n",
    "%2\t3\t123\t0\t2.008\t89.8\t0.419999999999999\n",
    "%2\t8\t128\t0\t2.009\t90.4\t0.120000000000002\n",
    "%2\t13\t133\t0\t2.006\t91\t0.119999999999999\n",
    "%2\t18\t138\t0\t2.006\t91.7\t0.140000000000001\n",
    "%2\t23\t143\t0\t2.005\t92.3\t0.119999999999999\n",
    "%2\t28\t148\t0\t2.004\t92.4\t0.0200000000000017\n",
    "%2\t33\t153\t0\t2.007\t93.4\t0.2\n",
    "%2\t38\t158\t0\t2.003\t93.9\t0.1\n",
    "%2\t43\t163\t0\t2.002\t95\t0.219999999999999\n",
    "%2\t48\t168\t0\t2.001\t95.4\t0.0800000000000011\n",
    "2\t53\t173\t0\t2.002\t95.6\t0.0399999999999977\n",
    "2\t58\t178\t0\t2.001\t95.6\t0\n",
    "%3\t0\t180\t50\t2.001\t97.9\t1.15000000000001\n",
    "%3\t5\t185\t50\t2\t102.8\t0.979999999999998\n",
    "%3\t10\t190\t50\t2\t103.8\t0.2\n",
    "%3\t22\t202\t50\t1.998\t105.2\t0.116666666666667\n",
    "%3\t32\t212\t50\t1.997\t106.2\t0.1\n",
    "%3\t37\t217\t50\t1.996\t107\t0.159999999999999\n",
    "%3\t42\t222\t50\t1.995\t106.6\t-0.0800000000000011\n",
    "%3\t47\t227\t50\t1.995\t107.2\t0.120000000000002\n",
    "%3\t52\t232\t50\t1.995\t107.6\t0.0799999999999983\n",
    "%3\t57\t237\t50\t1.996\t107.3\t-0.0599999999999994\n",
    "%4\t2\t242\t50\t2.021\t108.5\t0.240000000000001\n",
    "%4\t7\t247\t50\t2.021\t108.7\t0.0400000000000006\n",
    "4\t12\t252\t50\t2.021\t108.3\t-0.0800000000000011\n",
    "4\t17\t257\t50\t2.021\t108.8\t0.1\n",
    "%4\t19\t259\t150\t2.02\t110\t0.600000000000001\n",
    "%4\t24\t264\t150\t2.021\t115.7\t1.14\n",
    "%4\t29\t269\t150\t2.02\t117\t0.259999999999999\n",
    "%4\t34\t274\t150\t2.02\t115.5\t-0.3\n",
    "%4\t39\t279\t150\t2.02\t116.3\t0.159999999999999\n",
    "%4\t44\t284\t150\t2.019\t117.3\t0.2\n",
    "%4\t49\t289\t150\t2.019\t116.8\t-0.1\n",
    "%4\t54\t294\t150\t2.019\t118.5\t0.340000000000001\n",
    "%4\t59\t299\t150\t2.019\t118\t-0.1\n",
    "5\t4\t304\t150\t2.019\t118.1\t0.0199999999999989\n",
    "5\t14\t314\t150\t2.018\t118.4\t0.0300000000000011\n",
    "%5\t15\t315\t400\t2.02\t121.6\t3.19999999999999\n",
    "%5\t20\t320\t400\t2.019\t125.8\t0.840000000000001\n",
    "%5\t25\t325\t400\t2.019\t127.5\t0.340000000000001\n",
    "%5\t30\t330\t400\t2.019\t126.4\t-0.219999999999999\n",
    "%5\t35\t335\t400\t2.019\t127.8\t0.279999999999998\n",
    "5\t40\t340\t400\t2.019\t127.6\t-0.0400000000000006\n",
    "5\t45\t345\t400\t2.019\t127.4\t-0.0399999999999977\n",
    "%5\t46\t346\t900\t2.022\t129.9\t2.5\n",
    "%5\t51\t351\t900\t2.022\t135.3\t1.08\n",
    "%5\t56\t356\t900\t2.022\t135.9\t0.119999999999999\n",
    "%6\t1\t361\t900\t2.022\t136.8\t0.180000000000001\n",
    "%6\t6\t366\t900\t2.023\t137.1\t0.0599999999999966\n",
    "6\t11\t371\t900\t2.022\t137.4\t0.0600000000000023\n",
    "6\t16\t376\t900\t2.023\t137.3\t-0.0199999999999989\n",
    "%6\t17\t377\t1900\t2.029\t142\t4.69999999999999\n",
    "%6\t22\t382\t1900\t2.029\t144.5\t0.5\n",
    "%6\t27\t387\t1900\t2.029\t144.8\t0.0600000000000023\n",
    "%6\t32\t392\t1900\t2.028\t145.2\t0.0799999999999955\n",
    "%6\t37\t397\t1900\t2.028\t146.3\t0.220000000000005\n",
    "%6\t42\t402\t1900\t2.028\t146.7\t0.0799999999999955\n",
    "%6\t47\t407\t1900\t2.028\t147.4\t0.140000000000003\n",
    "6\t52\t412\t1900\t2.028\t147.2\t-0.0400000000000034\n",
    "6\t58\t418\t1900\t2.028\t145.9\t-0.216666666666664\n",
    "];\n",
    "\n",
    "addedCuvol=data(:,4)'*1e-6;\n",
    "\n",
    "originalsamplemVnpH=[...\n",
    "%time hr\ttime min\ttime total\tcumulative  vol added\tpH\tmvA\tdelta\n",
    "%0\t0\t0\t0\t10\t-29.6\t\n",
    "%0\t5\t5\t0\t9.928\t-26.9\t0.540000000000001\n",
    "%0\t15\t15\t0\t9.866\t-23.2\t0.37\n",
    "%0\t20\t20\t0\t9.855\t-23.3\t-0.0200000000000003\n",
    "%0\t25\t25\t0\t9.804\t-19.7\t0.72\n",
    "%0\t30\t30\t0\t9.791\t-20.4\t-0.14\n",
    "%0\t35\t35\t0\t9.782\t-19.8\t0.12\n",
    "%0\t40\t40\t0\t9.755\t-19.3\t0.1\n",
    "%50\t45\t45\t0\t9.741\t-17.4\t0.38\n",
    "%0\t55\t55\t0\t9.746\t-17.4\t0\n",
    "%1\t0\t60\t0\t9.729\t-17.7\t-0.0600000000000001\n",
    "1\t5\t65\t0\t9.697\t-17\t0.14\n",
    "1\t10\t70\t0\t9.709\t-17.3\t-0.0600000000000001\n",
    "];"
   ]
  },
  {
   "cell_type": "code",
   "execution_count": 136,
   "id": "95303175-0241-4e93-b215-1add113f0dbc",
   "metadata": {},
   "outputs": [
    {
     "data": {
      "text/plain": [
       "pH = 9.7030e+00\n"
      ]
     },
     "metadata": {},
     "output_type": "display_data"
    },
    {
     "data": {
      "text/html": [
       "<table><tr><th><i>param<i></th><th>1</th><th>2</th></tr><tr><th>1</th><td>24.254</td><td>224.168</td></tr></table>"
      ],
      "text/plain": [
       "param =    2.4254e+01   2.2417e+02\n"
      ]
     },
     "metadata": {},
     "output_type": "display_data"
    }
   ],
   "source": [
    "% process the data\n",
    "pH=mean(originalsamplemVnpH(:,5))\n",
    "mVAoriginal=mean(originalsamplemVnpH(:,6));\n",
    "mVAoriginal=(originalsamplemVnpH(:,6));\n",
    "\n",
    "mVA=data(:,6)'; Emeas=mVA; CuTmeas=1e-7; CuT=CuTmeas;\n",
    "%mest=mVA(3)-mVA(2)\n",
    "CuTplus=(CuTmeas*(VT)+addedCuvol*stockCuconc)./(VT+addedCuvol);\n",
    "\n",
    "%chlorocorrecxtion\n",
    "%BF1=2.49; BF2=1.14; BF3=0.9; ClT=4.9904e-4; %from Inorg. Chem. 1983. 22. 3323-3326.\n",
    "%CuTplus=CuTplus./(1+BF1*ClT+BF2*ClT^2+BF3*ClT^3);\n",
    "\n",
    "param=polyfit(log10(CuTplus(3:end)),Emeas(3:end),1)\n",
    "logCuToriginal=(Emeas(1:2)-param(2))/param(1);\n",
    "CuToriginal=(10.^logCuToriginal)*63.546*1e6;\n",
    "logCuoriginal=mean((mVAoriginal-param(2))/param(1));\n"
   ]
  },
  {
   "cell_type": "code",
   "execution_count": 137,
   "id": "95b795b3-7097-4460-94a9-edbec5fe72bd",
   "metadata": {},
   "outputs": [
    {
     "data": {
      "text/plain": [
       "logCuonept = -1.1655e+01\n"
      ]
     },
     "metadata": {},
     "output_type": "display_data"
    }
   ],
   "source": [
    "% try one point, assume Nernst slope\n",
    "m=59.2/2; Eacid=95.6; Eorig=-17.3; m=21.5; m=24.254; m=param(1);\n",
    "Eo=Eacid-(m)*log10(CuT);\n",
    "logCuonept=(Eorig-Eo)/m"
   ]
  },
  {
   "cell_type": "code",
   "execution_count": 138,
   "id": "190f3e51-5e9f-4eec-be48-9eae1ae0de54",
   "metadata": {},
   "outputs": [
    {
     "data": {
      "application/vnd.plotly.v1+json": {
       "data": [
        {
         "line": {
          "color": "rgb(0, 0, 0)",
          "width": 0.5
         },
         "marker": {
          "color": "rgb(0, 0, 0)",
          "line": {
           "color": "rgb(0, 0, 0)"
          },
          "size": 8,
          "symbol": "circle"
         },
         "mode": "markers",
         "name": "",
         "showlegend": false,
         "type": "scatter",
         "visibility": true,
         "x": [
          -7,
          -7,
          -4.815552507046849,
          -4.815552507046849,
          -4.341193761397771,
          -4.341193761397771,
          -3.917978720851003,
          -3.917978720851003,
          -3.5702816602444427,
          -3.5702816602444427,
          -3.2543036288356304,
          -3.2543036288356304
         ],
         "xaxis": "x",
         "y": [
          95.6,
          95.6,
          108.3,
          108.8,
          118.1,
          118.4,
          127.6,
          127.4,
          137.4,
          137.3,
          147.2,
          145.9
         ],
         "yaxis": "y"
        },
        {
         "line": {
          "color": "rgb(0, 0, 0)",
          "width": 0.5
         },
         "marker": {
          "color": "rgb(0, 0, 0)",
          "line": {
           "color": "rgb(0, 0, 0)"
          },
          "size": 6,
          "symbol": "circle"
         },
         "mode": "markers",
         "name": "",
         "showlegend": false,
         "type": "scatter",
         "visibility": true,
         "x": [
          -9.949595134585907
         ],
         "xaxis": "x",
         "y": [
          -17
         ],
         "yaxis": "y"
        },
        {
         "line": {
          "color": "rgb(0, 0, 0)",
          "width": 0.5
         },
         "marker": {
          "color": "rgb(0, 0, 0)",
          "line": {
           "color": "rgb(0, 0, 0)"
          },
          "size": 6,
          "symbol": "circle"
         },
         "mode": "markers",
         "name": "",
         "showlegend": false,
         "type": "scatter",
         "visibility": true,
         "x": [
          -9.949595134585907
         ],
         "xaxis": "x",
         "y": [
          -17.3
         ],
         "yaxis": "y"
        },
        {
         "line": {
          "color": "rgb(0, 0, 0)",
          "dash": "solid",
          "width": 0.5
         },
         "marker": {
          "color": "rgb(0, 0, 0)",
          "line": {
           "color": "rgb(0, 0, 0)"
          },
          "size": 6,
          "symbol": "none"
         },
         "mode": "lines",
         "name": "",
         "showlegend": false,
         "type": "scatter",
         "visibility": true,
         "x": [
          -13,
          -12.9,
          -12.8,
          -12.7,
          -12.6,
          -12.5,
          -12.4,
          -12.3,
          -12.2,
          -12.1,
          -12,
          -11.9,
          -11.8,
          -11.7,
          -11.6,
          -11.5,
          -11.4,
          -11.3,
          -11.2,
          -11.1,
          -11,
          -10.9,
          -10.8,
          -10.7,
          -10.6,
          -10.5,
          -10.4,
          -10.3,
          -10.2,
          -10.1,
          -10,
          -9.9,
          -9.8,
          -9.7,
          -9.6,
          -9.5,
          -9.4,
          -9.3,
          -9.2,
          -9.1,
          -9,
          -8.899999999999999,
          -8.8,
          -8.7,
          -8.6,
          -8.5,
          -8.399999999999999,
          -8.3,
          -8.2,
          -8.1,
          -8,
          -7.8999999999999995,
          -7.8,
          -7.699999999999999,
          -7.6,
          -7.5,
          -7.3999999999999995,
          -7.3,
          -7.199999999999999,
          -7.1,
          -7,
          -6.8999999999999995,
          -6.8,
          -6.699999999999999,
          -6.6,
          -6.5,
          -6.3999999999999995,
          -6.3,
          -6.199999999999999,
          -6.1,
          -6,
          -5.8999999999999995,
          -5.8,
          -5.699999999999999,
          -5.6,
          -5.5,
          -5.3999999999999995,
          -5.3,
          -5.199999999999999,
          -5.1,
          -5,
          -4.9,
          -4.799999999999999,
          -4.699999999999999,
          -4.6,
          -4.5,
          -4.4,
          -4.299999999999999,
          -4.199999999999999,
          -4.1,
          -4,
          -3.9000000000000004,
          -3.799999999999999,
          -3.6999999999999993,
          -3.5999999999999996,
          -3.5,
          -3.3999999999999986,
          -3.299999999999999,
          -3.1999999999999993,
          -3.0999999999999996,
          -3
         ],
         "xaxis": "x",
         "y": [
          -91.13456758872255,
          -88.70916601571926,
          -86.28376444271598,
          -83.85836286971264,
          -81.43296129670935,
          -79.00755972370607,
          -76.58215815070278,
          -74.1567565776995,
          -71.73135500469616,
          -69.30595343169287,
          -66.88055185868959,
          -64.4551502856863,
          -62.029748712683016,
          -59.604347139679675,
          -57.17894556667639,
          -54.753543993673105,
          -52.32814242066982,
          -49.902740847666536,
          -47.477339274663194,
          -45.05193770165991,
          -42.626536128656625,
          -40.20113455565328,
          -37.77573298265,
          -35.35033140964666,
          -32.92492983664337,
          -30.499528263640087,
          -28.074126690636803,
          -25.648725117633518,
          -23.223323544630176,
          -20.79792197162689,
          -18.372520398623607,
          -15.947118825620322,
          -13.521717252617037,
          -11.096315679613696,
          -8.670914106610411,
          -6.245512533607126,
          -3.820110960603813,
          -1.3947093876005283,
          1.0306921854028133,
          3.456093758406098,
          5.881495331409383,
          8.306896904412724,
          10.732298477415952,
          13.157700050419294,
          15.583101623422579,
          18.00850319642589,
          20.433904769429205,
          22.85930634243246,
          25.284707915435803,
          27.710109488439087,
          30.135511061442372,
          32.560912634445685,
          34.98631420744897,
          37.41171578045228,
          39.83711735345557,
          42.26251892645885,
          44.687920499462166,
          47.11332207246548,
          49.53872364546879,
          51.96412521847208,
          54.38952679147536,
          56.814928364478675,
          59.24032993748196,
          61.66573151048527,
          64.09113308348856,
          66.51653465649187,
          68.94193622949516,
          71.36733780249847,
          73.79273937550178,
          76.21814094850507,
          78.64354252150835,
          81.06894409451166,
          83.49434566751495,
          85.91974724051826,
          88.34514881352155,
          90.77055038652483,
          93.19595195952814,
          95.62135353253146,
          98.04675510553476,
          100.47215667853806,
          102.89755825154134,
          105.32295982454463,
          107.74836139754797,
          110.17376297055125,
          112.59916454355455,
          115.02456611655784,
          117.44996768956112,
          119.87536926256446,
          122.30077083556775,
          124.72617240857105,
          127.15157398157433,
          129.57697555457761,
          132.00237712758096,
          134.42777870058424,
          136.85318027358755,
          139.27858184659084,
          141.70398341959415,
          144.12938499259747,
          146.55478656560075,
          148.98018813860403,
          151.40558971160732
         ],
         "yaxis": "y"
        },
        {
         "line": {
          "color": "rgb(0,0,255)",
          "dash": "dash",
          "width": 0.5
         },
         "marker": {
          "color": "rgb(0,0,255)",
          "line": {
           "color": "rgb(0,0,255)"
          },
          "size": 6,
          "symbol": "none"
         },
         "mode": "lines",
         "name": "",
         "showlegend": false,
         "type": "scatter",
         "visibility": true,
         "x": [
          -12.824560491936811,
          -12.824560491936811
         ],
         "xaxis": "x",
         "y": [
          -100,
          100
         ],
         "yaxis": "y"
        },
        {
         "line": {
          "color": "rgb(0,0,255)",
          "dash": "dash",
          "width": 0.5
         },
         "marker": {
          "color": "rgb(0,0,255)",
          "line": {
           "color": "rgb(0,0,255)"
          },
          "size": 6,
          "symbol": "none"
         },
         "mode": "lines",
         "name": "",
         "showlegend": false,
         "type": "scatter",
         "visibility": true,
         "x": [
          -12.824560491936811,
          -12.824560491936811
         ],
         "xaxis": "x",
         "y": [
          -100,
          150
         ],
         "yaxis": "y"
        },
        {
         "line": {
          "color": "rgb(0,0,255)",
          "dash": "dash",
          "width": 0.5
         },
         "marker": {
          "color": "rgb(0,0,255)",
          "line": {
           "color": "rgb(0,0,255)"
          },
          "size": 6,
          "symbol": "none"
         },
         "mode": "lines",
         "name": "",
         "showlegend": false,
         "type": "scatter",
         "visibility": true,
         "x": [
          -7,
          -7
         ],
         "xaxis": "x",
         "y": [
          -100,
          150
         ],
         "yaxis": "y"
        },
        {
         "line": {
          "color": "rgb(255,0,0)",
          "width": 0.5
         },
         "marker": {
          "color": "rgb(255,0,0)",
          "line": {
           "color": "rgb(255,0,0)"
          },
          "size": 6,
          "symbol": "circle"
         },
         "mode": "markers",
         "name": "",
         "showlegend": false,
         "type": "scatter",
         "visibility": true,
         "x": [
          -11.654902284159316
         ],
         "xaxis": "x",
         "y": [
          -17.3
         ],
         "yaxis": "y"
        }
       ],
       "layout": {
        "annotations": [
         {
          "font": {
           "color": "rgb(0, 0, 0)",
           "size": 10
          },
          "showarrow": false,
          "text": "model Cu<sup>2+</sup>",
          "x": -12.724560491936812,
          "xanchor": "left",
          "xref": "x",
          "y": 50,
          "yanchor": "middle",
          "yref": "y"
         },
         {
          "font": {
           "color": "rgb(0, 0, 0)",
           "size": 10
          },
          "showarrow": false,
          "text": "Total Cu",
          "x": -6.8,
          "xanchor": "left",
          "xref": "x",
          "y": 60,
          "yanchor": "middle",
          "yref": "y"
         }
        ],
        "height": 420,
        "hovermode": "closest",
        "margin": {
         "b": 0,
         "l": 0,
         "r": 0,
         "t": 0
        },
        "plot_bgcolor": "rgba(0, 0, 0, 0)",
        "showlegend": false,
        "width": 560,
        "xaxis": {
         "anchor": "y",
         "autorange": false,
         "domain": [
          0.13,
          0.905
         ],
         "exponentformat": "none",
         "gridcolor": "rgba(38,38,38,0.15)",
         "gridwidth": 2,
         "linecolor": "rgb(38,38,38)",
         "linewidth": 2,
         "mirror": "ticks",
         "range": [
          -16,
          -3
         ],
         "showgrid": false,
         "showline": true,
         "side": "bottom",
         "spikedash": "solid",
         "spikemode": "across",
         "spikesides": false,
         "spikethickness": 1,
         "tickangle": 0,
         "tickcolor": "rgb(38,38,38)",
         "tickfont": {
          "color": "rgb(38,38,38)",
          "size": 12
         },
         "ticklen": 3,
         "ticks": "inside",
         "ticktext": [
          "-16",
          "-14",
          "-12",
          "-10",
          "-8",
          "-6",
          "-4"
         ],
         "tickvals": [
          -16,
          -14,
          -12,
          -10,
          -8,
          -6,
          -4
         ],
         "title": {
          "font": {
           "color": "rgb(38,38,38)",
           "size": 13.200000000000001
          },
          "text": "log([Cu<sup>2+</sup>])"
         },
         "type": "linear",
         "visible": true,
         "zeroline": false
        },
        "yaxis": {
         "anchor": "x",
         "autorange": false,
         "domain": [
          0.11,
          0.9249999999999999
         ],
         "exponentformat": "none",
         "gridcolor": "rgba(38,38,38,0.15)",
         "gridwidth": 2,
         "linecolor": "rgb(38,38,38)",
         "linewidth": 2,
         "mirror": "ticks",
         "range": [
          -40,
          150
         ],
         "showgrid": false,
         "showline": true,
         "side": "left",
         "spikedash": "solid",
         "spikemode": "across",
         "spikesides": false,
         "spikethickness": 1,
         "tickangle": 0,
         "tickcolor": "rgb(38,38,38)",
         "tickfont": {
          "color": "rgb(38,38,38)",
          "size": 12
         },
         "ticklen": 3,
         "ticks": "inside",
         "ticktext": [
          "0",
          "50",
          "100",
          "150"
         ],
         "tickvals": [
          0,
          50,
          100,
          150
         ],
         "title": {
          "font": {
           "color": "rgb(38,38,38)",
           "size": 13.200000000000001
          },
          "text": "Potential (mV)"
         },
         "type": "linear",
         "visible": true,
         "zeroline": false
        }
       }
      },
      "image/png": "[encoded data removed]"
     },
     "metadata": {},
     "output_type": "display_data"
    },
    {
     "data": {
      "text/plain": [
       "logCunosolid = -1.2825e+01\n"
      ]
     },
     "metadata": {},
     "output_type": "display_data"
    },
    {
     "data": {
      "text/plain": [
       "logCuoriginalsample = -9.9496e+00\n"
      ]
     },
     "metadata": {},
     "output_type": "display_data"
    },
    {
     "data": {
      "text/plain": [
       "logCuonept = -1.1655e+01\n"
      ]
     },
     "metadata": {},
     "output_type": "display_data"
    }
   ],
   "source": [
    "% MODEL FOR COMPARISON\n",
    "\n",
    "%model with just inorganic speciation\n",
    "%geochemical model\n",
    "% input the constants and solution chemistry\n",
    "\n",
    "flag1=2; %flag1 for concentration based search vector (1) or for log based search vector (2).\n",
    "flag2=1; %flag2 for numerical derivatives (2) or analtyical derivatives (1)\n",
    "database=[]; \n",
    "flag3=0; % flag3 1 for show warnings. 0 no warnings\n",
    "flag4=0; %if=1 solve tableau one line at a time to get a good initial guess (no solids). really challenging probs only\n",
    "flag5=0; %if=1 use stored initial guess for including solids\n",
    "\n",
    "CuT=CuTmeas; inorganicTOTALS=[CuT];\n",
    "inorganicTOTALS(inorganicTOTALS==0)=1e-16; % get rid of zero values, b/c div by zero error\n",
    "TOTALS=[inorganicTOTALS]; %TOTALS=inorganicTOTALS;\n",
    "pe=20.75-pH; PCO2=10^-3.5;\n",
    "[Cuall,CuOH,CuOH2s,CuOs,CuCO3s,tenorite,malachite,MASSERR]=CuOHCO2opentableauallsolids(pH,pe,PCO2,TOTALS',flag1,flag2,flag3,flag4,flag5,database);\n",
    "[CuwithCuOs,CuOH,CuOH2s,CuOs,CuCO3s,tenorite,malachite,MASSERR]=CuOHCO2opentableauCuOs(pH,pe,PCO2,TOTALS',flag1,flag2,flag3,flag4,flag5,database);\n",
    "[Cunosolid,CuOH,CuOH2s,CuOs,CuCO3s,tenorite,malachite,MASSERR]=CuOHCO2opentableaunosolid(pH,pe,PCO2,TOTALS',flag1,flag2,flag3,flag4,flag5,database);\n",
    "\n",
    "plot(log10(CuTplus),Emeas,'ko','markersize',8)\n",
    "\n",
    "hold on\n",
    "plot([logCuoriginal'],[mVAoriginal'],'ko')\n",
    "logCuplot=-13:0.1:-3; Eplot=polyval(param,logCuplot);\n",
    "plot(logCuplot,Eplot,'k-')\n",
    "set(gca,'linewidth',2)\n",
    "xlabel('log[Cu^{2+}]'); ylabel('E (mV)')\n",
    "hold on\n",
    "\n",
    "plot([log10(Cuall) log10(Cuall)],[-100 100],'b--')\n",
    "plot([log10(Cunosolid) log10(Cunosolid)],[-100 150],'b--'); hold on\n",
    "plot([log10(CuT) log10(CuT)],[-100 150],'b--')\n",
    "%plot([-9.576 -9.576],[-100 100],'b--')\n",
    "\n",
    "text(log10(Cunosolid)+0.1,50,'model Cu^{2+}','rotation',90)\n",
    "text(log10(CuT)+0.2,60,'Total Cu','rotation',90)\n",
    "\n",
    "\n",
    "xlabel('log([Cu^{2+}])')\n",
    "ylabel('Potential (mV)')\n",
    "set(gca,'LineWidth',2,'fontsize',12)\n",
    "\n",
    "logCunosolid=log10(Cunosolid)\n",
    "logCuoriginalsample=mean((mVAoriginal-param(2))/param(1))\n",
    "logCuonept\n",
    "\n",
    "axis([-16 -3 -40 150])\n",
    "\n",
    "plot(logCuonept,Eorig,'ro','markerfacecolor','r')\n"
   ]
  },
  {
   "cell_type": "code",
   "execution_count": null,
   "id": "286a9a21-0cfe-4aaa-a590-d0cbf6e0e293",
   "metadata": {},
   "outputs": [],
   "source": []
  }
 ],
 "metadata": {
  "kernelspec": {
   "display_name": "Octave (xoctave)",
   "language": "Octave",
   "name": "xoctave"
  },
  "language_info": {
   "codemirror_mode": "octave",
   "file_extension": ".m",
   "mimetype": "text/x-octave",
   "name": "Octave",
   "nbconvert_exporter": "",
   "pygments_lexer": "octave",
   "version": "7.3.0"
  }
 },
 "nbformat": 4,
 "nbformat_minor": 5
}
