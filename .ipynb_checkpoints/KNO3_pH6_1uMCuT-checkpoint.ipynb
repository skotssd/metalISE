{
 "cells": [
  {
   "cell_type": "code",
   "execution_count": 146,
   "id": "5b91745d-be40-49bc-9645-49174473a1f2",
   "metadata": {},
   "outputs": [],
   "source": [
    "% setup environment\n",
    "% set path to equilibrium solver\n",
    "txt=pwd;\n",
    "n=length(txt);\n",
    "rootpath=txt; %txt(1:n-8);\n",
    "PHREEQCpath=[rootpath,'/runPHREEQC'];\n",
    "addpath(PHREEQCpath);\n",
    "JEQUILIBpath=[rootpath,'/JEQUILIB']; addpath(JEQUILIBpath);\n",
    "Cumodelspath=[rootpath,'/Cutableaus']; addpath(Cumodelspath);\n",
    "% clear data and number format\n",
    "clear; format short e\n",
    "% turn off warnings\n",
    "warning off\n",
    "graphics_toolkit (\"notebook\"); \n",
    "graphics_toolkit (\"plotly\"); "
   ]
  },
  {
   "cell_type": "code",
   "execution_count": 147,
   "id": "5ebebbe5-0fef-4c64-9602-676482133835",
   "metadata": {},
   "outputs": [],
   "source": [
    "% put in constants\n",
    "VT=0.05; %total volume\n",
    "stockCuconc=0.0152067;"
   ]
  },
  {
   "cell_type": "code",
   "execution_count": 148,
   "id": "7cab7aa9-4607-4224-89a8-0c7fc1b01d8e",
   "metadata": {
    "tags": []
   },
   "outputs": [],
   "source": [
    "% put in data\n",
    "data=[...\n",
    "%time hr\ttime min\ttime total\tcumulative  vol added\tpH\tmvA\tdelta\n",
    "%0\t35\t35\t0\t2.06\t88.3\t0.159999999999999\n",
    "%0\t40\t40\t0\t2.053\t88.3\t0\n",
    "%0\t45\t45\t0\t2.056\t89.2\t0.180000000000001\n",
    "%0\t50\t50\t0\t2.055\t88.9\t-0.0599999999999994\n",
    "%0\t55\t55\t0\t2.056\t89.2\t0.0599999999999994\n",
    "%1\t0\t60\t0\t2.056\t91\t0.359999999999999\n",
    "1\t18\t78\t0\t2.056\t87.5\t-0.194444444444444\n",
    "%1\t19\t79\t50\t2.058\t87.4\t-0.0999999999999943\n",
    "%1\t25\t85\t50\t2.054\t93.1\t0.949999999999998\n",
    "%1\t30\t90\t50\t2.057\t96.3\t0.640000000000001\n",
    "%1\t35\t95\t50\t2.054\t94.7\t-0.319999999999999\n",
    "%1\t40\t100\t50\t2.056\t97\t0.459999999999999\n",
    "%1\t45\t105\t50\t2.052\t97.6\t0.119999999999999\n",
    "%1\t55\t115\t50\t2.049\t97.4\t-0.0199999999999989\n",
    "%2\t0\t120\t50\t2.053\t98\t0.119999999999999\n",
    "%2\t5\t125\t50\t2.053\t99.4\t0.280000000000001\n",
    "%2\t10\t130\t50\t2.044\t98.4\t-0.2\n",
    "%2\t15\t135\t50\t2.045\t97.6\t-0.160000000000002\n",
    "2\t20\t140\t50\t2.042\t97.4\t-0.0399999999999977\n",
    "2\t25\t145\t50\t2.018\t97.7\t0.0599999999999994\n",
    "%2\t30\t147\t150\t2.019\t98.2\t0.25\n",
    "%2\t32\t152\t150\t2.016\t103\t0.959999999999999\n",
    "%2\t37\t157\t150\t2.018\t104\t0.2\n",
    "%2\t42\t162\t150\t2.015\t105.1\t0.219999999999999\n",
    "%2\t47\t167\t150\t2.014\t104.5\t-0.119999999999999\n",
    "%2\t52\t172\t150\t2.014\t103.5\t-0.2\n",
    "%2\t57\t177\t150\t2.011\t104\t0.1\n",
    "%3\t2\t182\t150\t2.011\t106.3\t0.459999999999999\n",
    "%3\t7\t187\t150\t2.009\t105.5\t-0.159999999999999\n",
    "%3\t12\t192\t150\t2.01\t107\t0.3\n",
    "%3\t17\t197\t150\t2.009\t106.5\t-0.1\n",
    "3\t22\t202\t150\t2.009\t106.4\t-0.0199999999999989\n",
    "3\t27\t207\t150\t2.011\t106.6\t0.0399999999999977\n",
    "%3\t30\t210\t400\t2.011\t111\t1.46666666666667\n",
    "%3\t35\t215\t400\t2.011\t114.9\t0.780000000000001\n",
    "%3\t40\t220\t400\t2.012\t115.2\t0.0599999999999994\n",
    "%3\t50\t230\t400\t2.01\t117.8\t0.259999999999999\n",
    "%3\t55\t235\t400\t2.01\t118.3\t0.1\n",
    "%4\t0\t240\t400\t2.009\t118.5\t0.0400000000000006\n",
    "%4\t5\t245\t400\t2.009\t118.7\t0.0400000000000006\n",
    "%4\t10\t250\t400\t2.008\t117.1\t-0.320000000000002\n",
    "%4\t15\t255\t400\t2.008\t118\t0.180000000000001\n",
    "4\t20\t260\t400\t2.008\t116.7\t-0.259999999999999\n",
    "4\t25\t265\t400\t2.007\t116.6\t-0.0200000000000017\n",
    "%4\t27\t267\t900\t2.011\t119\t1.2\n",
    "%4\t32\t272\t900\t2.011\t123.7\t0.940000000000001\n",
    "%4\t37\t277\t900\t2.01\t124.7\t0.2\n",
    "%4\t42\t282\t900\t2.011\t126.2\t0.3\n",
    "%4\t47\t287\t900\t2.011\t126.1\t-0.0200000000000017\n",
    "4\t52\t292\t900\t2.01\t126.3\t0.0400000000000006\n",
    "4\t57\t297\t900\t2.011\t126.2\t-0.0199999999999989\n",
    "%5\t0\t300\t1900\t2.018\t131.8\t1.86666666666667\n",
    "%5\t5\t305\t1900\t2.017\t134.3\t0.5\n",
    "%5\t10\t310\t1900\t2.018\t135.6\t0.259999999999997\n",
    "%5\t15\t315\t1900\t2.018\t134.7\t-0.180000000000001\n",
    "%5\t20\t320\t1900\t2.018\t135.4\t0.140000000000003\n",
    "%5\t25\t325\t1900\t2.019\t135\t-0.0800000000000011\n",
    "%5\t30\t330\t1900\t2.018\t136.4\t0.280000000000001\n",
    "5\t35\t335\t1900\t2.018\t136.5\t0.0199999999999989\n",
    "5\t40\t340\t1900\t2.018\t135.5\t-0.2\n",
    "];\n",
    "\n",
    "addedCuvol=data(:,4)'*1e-6;\n",
    "\n",
    "originalsamplemVnpH=[...\n",
    "%time hr\ttime min\ttime total\tcumulative  vol added\tpH\tmvA\tdelta\n",
    "%0\t0\t0\t0\t6.097\t57.3\t\n",
    "%0\t5\t5\t0\t6.051\t80.8\t4.7\n",
    "%0\t10\t10\t0\t6.071\t83.8\t0.6\n",
    "%0\t15\t15\t0\t6.093\t87.7\t0.780000000000001\n",
    "%0\t20\t20\t0\t6.101\t87.7\t0\n",
    "0\t25\t25\t0\t6.079\t87.8\t0.0199999999999989\n",
    "0\t30\t30\t0\t6.095\t87.5\t-0.0599999999999994\n",
    "];"
   ]
  },
  {
   "cell_type": "code",
   "execution_count": 149,
   "id": "95303175-0241-4e93-b215-1add113f0dbc",
   "metadata": {},
   "outputs": [
    {
     "data": {
      "text/plain": [
       "pH = 6.0870e+00\n"
      ]
     },
     "metadata": {},
     "output_type": "display_data"
    },
    {
     "data": {
      "text/html": [
       "<table><tr><th><i>param<i></th><th>1</th><th>2</th></tr><tr><th>1</th><td>28.3517</td><td>227.393</td></tr></table>"
      ],
      "text/plain": [
       "param =    2.8352e+01   2.2739e+02\n"
      ]
     },
     "metadata": {},
     "output_type": "display_data"
    },
    {
     "data": {
      "text/html": [
       "<table><tr><th><i>paramlinear<i></th><th>1</th><th>2</th></tr><tr><th>1</th><td>28.3517</td><td>227.393</td></tr></table>"
      ],
      "text/plain": [
       "paramlinear =    2.8352e+01   2.2739e+02\n"
      ]
     },
     "metadata": {},
     "output_type": "display_data"
    }
   ],
   "source": [
    "% process the data\n",
    "pH=mean(originalsamplemVnpH(:,5))\n",
    "mVAoriginal=mean(originalsamplemVnpH(:,6));\n",
    "mVAoriginal=(originalsamplemVnpH(:,6));\n",
    "\n",
    "mVA=data(:,6)'; Emeas=mVA; CuTmeas=1e-6; CuT=CuTmeas;\n",
    "%mest=mVA(3)-mVA(2)\n",
    "CuTplus=(CuTmeas*(VT)+addedCuvol*stockCuconc)./(VT+addedCuvol);\n",
    "\n",
    "%chlorocorrecxtion\n",
    "%BF1=2.49; BF2=1.14; BF3=0.9; ClT=4.9904e-4; %from Inorg. Chem. 1983. 22. 3323-3326.\n",
    "%CuTplus=CuTplus./(1+BF1*ClT+BF2*ClT^2+BF3*ClT^3);\n",
    "\n",
    "param=polyfit(log10(CuTplus(2:end)),Emeas(2:end),1)\n",
    "paramlinear=polyfit(log10(CuTplus(2:end)),Emeas(2:end),1)\n",
    "logCuToriginal=(Emeas(1:2)-param(2))/param(1);\n",
    "CuToriginal=(10.^logCuToriginal)*63.546*1e6;\n",
    "logCuoriginal=mean((mVAoriginal-param(2))/param(1));\n"
   ]
  },
  {
   "cell_type": "code",
   "execution_count": 150,
   "id": "0a2f8cd0-9433-4065-b276-adae336e8104",
   "metadata": {},
   "outputs": [
    {
     "data": {
      "text/plain": [
       "logCuonept = -5.1693e+00\n"
      ]
     },
     "metadata": {},
     "output_type": "display_data"
    }
   ],
   "source": [
    "% try one point, assume Nernst slope\n",
    "m=59.2/2; Eacid=mean(Emeas(1:2)); Eorig=mean(mVAoriginal); m=paramlinear(1);\n",
    "Eo=Eacid-(m)*log10(CuT);\n",
    "logCuonept=(Eorig-Eo)/m"
   ]
  },
  {
   "cell_type": "code",
   "execution_count": 151,
   "id": "190f3e51-5e9f-4eec-be48-9eae1ae0de54",
   "metadata": {},
   "outputs": [
    {
     "data": {
      "application/vnd.plotly.v1+json": {
       "data": [
        {
         "line": {
          "color": "rgb(0, 0, 0)",
          "width": 0.5
         },
         "marker": {
          "color": "rgb(0, 0, 0)",
          "line": {
           "color": "rgb(0, 0, 0)"
          },
          "size": 8,
          "symbol": "circle"
         },
         "mode": "markers",
         "name": "",
         "showlegend": false,
         "type": "scatter",
         "visibility": true,
         "x": [
          -5,
          -4.598918084861178,
          -4.598918084861178,
          -4.256069167668668,
          -4.256069167668668,
          -3.8840277929457434,
          -3.8840277929457434,
          -3.554856908396171,
          -3.554856908396171,
          -3.246927432583145,
          -3.246927432583145
         ],
         "xaxis": "x",
         "y": [
          87.5,
          97.4,
          97.7,
          106.4,
          106.6,
          116.7,
          116.6,
          126.3,
          126.2,
          136.5,
          135.5
         ],
         "yaxis": "y"
        },
        {
         "line": {
          "color": "rgb(0, 0, 0)",
          "width": 0.5
         },
         "marker": {
          "color": "rgb(0, 0, 0)",
          "line": {
           "color": "rgb(0, 0, 0)"
          },
          "size": 6,
          "symbol": "circle"
         },
         "mode": "markers",
         "name": "",
         "showlegend": false,
         "type": "scatter",
         "visibility": true,
         "x": [
          -4.928908237998824
         ],
         "xaxis": "x",
         "y": [
          87.8
         ],
         "yaxis": "y"
        },
        {
         "line": {
          "color": "rgb(0, 0, 0)",
          "width": 0.5
         },
         "marker": {
          "color": "rgb(0, 0, 0)",
          "line": {
           "color": "rgb(0, 0, 0)"
          },
          "size": 6,
          "symbol": "circle"
         },
         "mode": "markers",
         "name": "",
         "showlegend": false,
         "type": "scatter",
         "visibility": true,
         "x": [
          -4.928908237998824
         ],
         "xaxis": "x",
         "y": [
          87.5
         ],
         "yaxis": "y"
        },
        {
         "line": {
          "color": "rgb(0, 0, 0)",
          "dash": "solid",
          "width": 0.5
         },
         "marker": {
          "color": "rgb(0, 0, 0)",
          "line": {
           "color": "rgb(0, 0, 0)"
          },
          "size": 6,
          "symbol": "none"
         },
         "mode": "lines",
         "name": "",
         "showlegend": false,
         "type": "scatter",
         "visibility": true,
         "x": [
          -12,
          -11.9,
          -11.8,
          -11.7,
          -11.6,
          -11.5,
          -11.4,
          -11.3,
          -11.2,
          -11.1,
          -11,
          -10.9,
          -10.8,
          -10.7,
          -10.6,
          -10.5,
          -10.4,
          -10.3,
          -10.2,
          -10.1,
          -10,
          -9.9,
          -9.8,
          -9.7,
          -9.6,
          -9.5,
          -9.4,
          -9.3,
          -9.2,
          -9.1,
          -9,
          -8.9,
          -8.8,
          -8.7,
          -8.6,
          -8.5,
          -8.4,
          -8.3,
          -8.2,
          -8.1,
          -8,
          -7.8999999999999995,
          -7.8,
          -7.7,
          -7.6,
          -7.5,
          -7.3999999999999995,
          -7.3,
          -7.199999999999999,
          -7.1,
          -7,
          -6.8999999999999995,
          -6.8,
          -6.699999999999999,
          -6.6,
          -6.5,
          -6.3999999999999995,
          -6.3,
          -6.199999999999999,
          -6.1,
          -6,
          -5.8999999999999995,
          -5.8,
          -5.699999999999999,
          -5.6,
          -5.5,
          -5.3999999999999995,
          -5.3,
          -5.199999999999999,
          -5.1,
          -5,
          -4.8999999999999995,
          -4.8,
          -4.699999999999999,
          -4.6,
          -4.5,
          -4.3999999999999995,
          -4.3,
          -4.199999999999999,
          -4.1,
          -4,
          -3.9000000000000004,
          -3.799999999999999,
          -3.6999999999999993,
          -3.5999999999999996,
          -3.5,
          -3.4000000000000004,
          -3.299999999999999,
          -3.1999999999999993,
          -3.0999999999999996,
          -3
         ],
         "xaxis": "x",
         "y": [
          -112.82780968309089,
          -109.99263491191311,
          -107.15746014073528,
          -104.32228536955739,
          -101.48711059837962,
          -98.65193582720178,
          -95.81676105602395,
          -92.98158628484617,
          -90.14641151366828,
          -87.31123674249045,
          -84.47606197131267,
          -81.64088720013484,
          -78.80571242895701,
          -75.97053765777918,
          -73.13536288660134,
          -70.30018811542351,
          -67.46501334424573,
          -64.6298385730679,
          -61.79466380189001,
          -58.959489030712234,
          -56.1243142595344,
          -53.28913948835657,
          -50.453964717178735,
          -47.6187899460009,
          -44.78361517482307,
          -41.94844040364529,
          -39.11326563246746,
          -36.27809086128963,
          -33.442916090111794,
          -30.60774131893396,
          -27.772566547756128,
          -24.937391776578323,
          -22.10221700540052,
          -19.26704223422263,
          -16.431867463044824,
          -13.59669269186702,
          -10.761517920689187,
          -7.926343149511382,
          -5.091168378333521,
          -2.2559936071556876,
          0.579181164022117,
          3.41435593519995,
          6.249530706377783,
          9.084705477555588,
          11.91988024873342,
          14.755055019911254,
          17.590229791089087,
          20.42540456226689,
          23.260579333444753,
          26.095754104622557,
          28.93092887580036,
          31.766103646978223,
          34.60127841815603,
          37.43645318933386,
          40.271627960511694,
          43.1068027316895,
          45.94197750286733,
          48.777152274045164,
          51.612327045223,
          54.4475018164008,
          57.282676587578635,
          60.11785135875647,
          62.95302612993427,
          65.78820090111213,
          68.62337567228994,
          71.45855044346774,
          74.2937252146456,
          77.12889998582341,
          79.96407475700124,
          82.79924952817908,
          85.63442429935688,
          88.46959907053471,
          91.30477384171255,
          94.13994861289038,
          96.97512338406818,
          99.81029815524602,
          102.64547292642385,
          105.48064769760167,
          108.3158224687795,
          111.15099723995732,
          113.98617201113514,
          116.82134678231296,
          119.65652155349082,
          122.49169632466864,
          125.32687109584646,
          128.16204586702426,
          130.99722063820207,
          133.83239540937996,
          136.66757018055776,
          139.50274495173556,
          142.3379197229134
         ],
         "yaxis": "y"
        },
        {
         "line": {
          "color": "rgb(255,0,0)",
          "dash": "dash",
          "width": 0.5
         },
         "marker": {
          "color": "rgb(255,0,0)",
          "line": {
           "color": "rgb(255,0,0)"
          },
          "size": 6,
          "symbol": "none"
         },
         "mode": "lines",
         "name": "",
         "showlegend": false,
         "type": "scatter",
         "visibility": true,
         "x": [
          -5.016213388401205,
          -5.016213388401205
         ],
         "xaxis": "x",
         "y": [
          -100,
          100
         ],
         "yaxis": "y"
        },
        {
         "line": {
          "color": "rgb(255,0,255)",
          "dash": "dash",
          "width": 0.5
         },
         "marker": {
          "color": "rgb(255,0,255)",
          "line": {
           "color": "rgb(255,0,255)"
          },
          "size": 6,
          "symbol": "none"
         },
         "mode": "lines",
         "name": "",
         "showlegend": false,
         "type": "scatter",
         "visibility": true,
         "x": [
          -5.016213388401205,
          -5.016213388401205
         ],
         "xaxis": "x",
         "y": [
          -100,
          150
         ],
         "yaxis": "y"
        },
        {
         "line": {
          "color": "rgb(0,255,0)",
          "dash": "dash",
          "width": 0.5
         },
         "marker": {
          "color": "rgb(0,255,0)",
          "line": {
           "color": "rgb(0,255,0)"
          },
          "size": 6,
          "symbol": "none"
         },
         "mode": "lines",
         "name": "",
         "showlegend": false,
         "type": "scatter",
         "visibility": true,
         "x": [
          -5.016213388401205,
          -5.016213388401205
         ],
         "xaxis": "x",
         "y": [
          -100,
          150
         ],
         "yaxis": "y"
        },
        {
         "line": {
          "color": "rgb(0,0,255)",
          "dash": "dash",
          "width": 0.5
         },
         "marker": {
          "color": "rgb(0,0,255)",
          "line": {
           "color": "rgb(0,0,255)"
          },
          "size": 6,
          "symbol": "none"
         },
         "mode": "lines",
         "name": "",
         "showlegend": false,
         "type": "scatter",
         "visibility": true,
         "x": [
          -5,
          -5
         ],
         "xaxis": "x",
         "y": [
          -100,
          150
         ],
         "yaxis": "y"
        },
        {
         "line": {
          "color": "rgb(255,0,0)",
          "width": 0.5
         },
         "marker": {
          "color": "rgb(255,0,0)",
          "line": {
           "color": "rgb(255,0,0)"
          },
          "size": 6,
          "symbol": "circle"
         },
         "mode": "markers",
         "name": "",
         "showlegend": false,
         "type": "scatter",
         "visibility": true,
         "x": [
          -5.1693017322528565
         ],
         "xaxis": "x",
         "y": [
          87.65
         ],
         "yaxis": "y"
        }
       ],
       "layout": {
        "annotations": [
         {
          "font": {
           "color": "rgb(0, 0, 0)",
           "size": 10
          },
          "showarrow": false,
          "text": "model Cu<sup>2+</sup>",
          "x": -4.916213388401205,
          "xanchor": "left",
          "xref": "x",
          "y": 50,
          "yanchor": "middle",
          "yref": "y"
         },
         {
          "font": {
           "color": "rgb(0, 0, 0)",
           "size": 10
          },
          "showarrow": false,
          "text": "Total Cu",
          "x": -4.8,
          "xanchor": "left",
          "xref": "x",
          "y": 40,
          "yanchor": "middle",
          "yref": "y"
         }
        ],
        "height": 420,
        "hovermode": "closest",
        "margin": {
         "b": 0,
         "l": 0,
         "r": 0,
         "t": 0
        },
        "plot_bgcolor": "rgba(0, 0, 0, 0)",
        "showlegend": false,
        "width": 560,
        "xaxis": {
         "anchor": "y",
         "autorange": false,
         "domain": [
          0.13,
          0.905
         ],
         "exponentformat": "none",
         "gridcolor": "rgba(38,38,38,0.15)",
         "gridwidth": 2,
         "linecolor": "rgb(38,38,38)",
         "linewidth": 2,
         "mirror": "ticks",
         "range": [
          -12,
          -2
         ],
         "showgrid": false,
         "showline": true,
         "side": "bottom",
         "spikedash": "solid",
         "spikemode": "across",
         "spikesides": false,
         "spikethickness": 1,
         "tickangle": 0,
         "tickcolor": "rgb(38,38,38)",
         "tickfont": {
          "color": "rgb(38,38,38)",
          "size": 12
         },
         "ticklen": 3,
         "ticks": "inside",
         "ticktext": [
          "-12",
          "-10",
          "-8",
          "-6",
          "-4",
          "-2"
         ],
         "tickvals": [
          -12,
          -10,
          -8,
          -6,
          -4,
          -2
         ],
         "title": {
          "font": {
           "color": "rgb(38,38,38)",
           "size": 13.200000000000001
          },
          "text": "log([Cu<sup>2+</sup>])"
         },
         "type": "linear",
         "visible": true,
         "zeroline": false
        },
        "yaxis": {
         "anchor": "x",
         "autorange": false,
         "domain": [
          0.11,
          0.9249999999999999
         ],
         "exponentformat": "none",
         "gridcolor": "rgba(38,38,38,0.15)",
         "gridwidth": 2,
         "linecolor": "rgb(38,38,38)",
         "linewidth": 2,
         "mirror": "ticks",
         "range": [
          -150,
          150
         ],
         "showgrid": false,
         "showline": true,
         "side": "left",
         "spikedash": "solid",
         "spikemode": "across",
         "spikesides": false,
         "spikethickness": 1,
         "tickangle": 0,
         "tickcolor": "rgb(38,38,38)",
         "tickfont": {
          "color": "rgb(38,38,38)",
          "size": 12
         },
         "ticklen": 3,
         "ticks": "inside",
         "ticktext": [
          "-150",
          "-100",
          "-50",
          "0",
          "50",
          "100",
          "150"
         ],
         "tickvals": [
          -150,
          -100,
          -50,
          0,
          50,
          100,
          150
         ],
         "title": {
          "font": {
           "color": "rgb(38,38,38)",
           "size": 13.200000000000001
          },
          "text": "Potential (mV)"
         },
         "type": "linear",
         "visible": true,
         "zeroline": false
        }
       }
      },
      "image/png": "[encoded data removed]"
     },
     "metadata": {},
     "output_type": "display_data"
    },
    {
     "data": {
      "text/plain": [
       "logCunosolid = -5.0162e+00\n"
      ]
     },
     "metadata": {},
     "output_type": "display_data"
    },
    {
     "data": {
      "text/plain": [
       "logCuoriginalsample = -4.9289e+00\n"
      ]
     },
     "metadata": {},
     "output_type": "display_data"
    },
    {
     "data": {
      "text/plain": [
       "logCuonept = -5.1693e+00\n"
      ]
     },
     "metadata": {},
     "output_type": "display_data"
    }
   ],
   "source": [
    "% MODEL FOR COMPARISON\n",
    "\n",
    "%model with just inorganic speciation\n",
    "%geochemical model\n",
    "% input the constants and solution chemistry\n",
    "\n",
    "flag1=2; %flag1 for concentration based search vector (1) or for log based search vector (2).\n",
    "flag2=1; %flag2 for numerical derivatives (2) or analtyical derivatives (1)\n",
    "database=[]; \n",
    "flag3=0; % flag3 1 for show warnings. 0 no warnings\n",
    "flag4=0; %if=1 solve tableau one line at a time to get a good initial guess (no solids). really challenging probs only\n",
    "flag5=0; %if=1 use stored initial guess for including solids\n",
    "\n",
    "CuT=CuTmeas; inorganicTOTALS=[CuT];\n",
    "inorganicTOTALS(inorganicTOTALS==0)=1e-16; % get rid of zero values, b/c div by zero error\n",
    "TOTALS=[inorganicTOTALS]; %TOTALS=inorganicTOTALS;\n",
    "pe=20.75-pH; PCO2=10^-3.5;\n",
    "[Cuall,CuOH,CuOH2s,CuOs,CuCO3s,tenorite,malachite,MASSERR]=CuOHCO2opentableauallsolids(pH,pe,PCO2,TOTALS',flag1,flag2,flag3,flag4,flag5,database);\n",
    "[CuwithCuOs,CuOH,CuOH2s,CuOs,CuCO3s,tenorite,malachite,MASSERR]=CuOHCO2opentableauCuOs(pH,pe,PCO2,TOTALS',flag1,flag2,flag3,flag4,flag5,database);\n",
    "[Cunosolid,CuOH,CuOH2s,CuOs,CuCO3s,tenorite,malachite,MASSERR]=CuOHCO2opentableaunosolid(pH,pe,PCO2,TOTALS',flag1,flag2,flag3,flag4,flag5,database);\n",
    "\n",
    "plot(log10(CuTplus),Emeas,'ko','markersize',8)\n",
    "\n",
    "hold on\n",
    "plot([logCuoriginal'],[mVAoriginal'],'ko')\n",
    "logCuplot=-12:0.1:-3; Eplot=polyval(param,logCuplot);\n",
    "plot(logCuplot,Eplot,'k-')\n",
    "set(gca,'linewidth',2)\n",
    "xlabel('log[Cu^{2+}]'); ylabel('E (mV)')\n",
    "hold on\n",
    "\n",
    "plot([log10(Cuall) log10(Cuall)],[-100 100],'r--')\n",
    "plot([log10(Cunosolid) log10(Cunosolid)],[-100 150],'m--'); hold on\n",
    "plot([log10(CuwithCuOs) log10(CuwithCuOs)],[-100 150],'g--'); hold on\n",
    "plot([log10(CuT) log10(CuT)],[-100 150],'b--')\n",
    "%plot([-9.576 -9.576],[-100 100],'b--')\n",
    "\n",
    "text(log10(Cunosolid)+0.1,50,'model Cu^{2+}','rotation',90)\n",
    "text(log10(CuT)+0.2,40,'Total Cu','rotation',90)\n",
    "\n",
    "\n",
    "xlabel('log([Cu^{2+}])')\n",
    "ylabel('Potential (mV)')\n",
    "set(gca,'LineWidth',2,'fontsize',12)\n",
    "\n",
    "logCunosolid=log10(Cunosolid)\n",
    "logCuoriginalsample=mean((mVAoriginal-param(2))/param(1))\n",
    "logCuonept\n",
    "\n",
    "plot(logCuonept,Eorig,'ro','markerfacecolor','r')\n"
   ]
  },
  {
   "cell_type": "code",
   "execution_count": null,
   "id": "286a9a21-0cfe-4aaa-a590-d0cbf6e0e293",
   "metadata": {},
   "outputs": [],
   "source": []
  }
 ],
 "metadata": {
  "kernelspec": {
   "display_name": "Octave (xoctave)",
   "language": "Octave",
   "name": "xoctave"
  },
  "language_info": {
   "codemirror_mode": "octave",
   "file_extension": ".m",
   "mimetype": "text/x-octave",
   "name": "Octave",
   "nbconvert_exporter": "",
   "pygments_lexer": "octave",
   "version": "7.3.0"
  }
 },
 "nbformat": 4,
 "nbformat_minor": 5
}
