{
 "cells": [
  {
   "cell_type": "code",
   "execution_count": 187,
   "id": "5b91745d-be40-49bc-9645-49174473a1f2",
   "metadata": {},
   "outputs": [],
   "source": [
    "% setup environment\n",
    "% set path to equilibrium solver\n",
    "txt=pwd;\n",
    "n=length(txt);\n",
    "rootpath=txt; %txt(1:n-8);\n",
    "PHREEQCpath=[rootpath,'/runPHREEQC'];\n",
    "addpath(PHREEQCpath);\n",
    "JEQUILIBpath=[rootpath,'/JEQUILIB']; addpath(JEQUILIBpath);\n",
    "Cumodelspath=[rootpath,'/Cutableaus']; addpath(Cumodelspath);\n",
    "% clear data and number format\n",
    "clear; format short e\n",
    "% turn off warnings\n",
    "warning off\n",
    "graphics_toolkit (\"notebook\"); \n",
    "graphics_toolkit (\"plotly\"); "
   ]
  },
  {
   "cell_type": "code",
   "execution_count": 188,
   "id": "5ebebbe5-0fef-4c64-9602-676482133835",
   "metadata": {},
   "outputs": [],
   "source": [
    "% put in constants\n",
    "VT=0.05; %total volume\n",
    "stockCuconc=0.0152067;"
   ]
  },
  {
   "cell_type": "code",
   "execution_count": 189,
   "id": "7cab7aa9-4607-4224-89a8-0c7fc1b01d8e",
   "metadata": {
    "tags": []
   },
   "outputs": [],
   "source": [
    "% put in data\n",
    "data=[...\n",
    "%time hr\ttime min\ttime total\tcumulative  vol added\tpH\tmvA\tdelta\n",
    "%2\t15\t135\t0\t2.013\t86.4\t6.88\n",
    "%2\t20\t140\t0\t2.014\t92.2\t1.16\n",
    "%2\t25\t145\t0\t2.011\t96.6\t0.879999999999998\n",
    "%2\t30\t150\t0\t2.011\t101.2\t0.920000000000002\n",
    "%2\t40\t160\t0\t2.01\t104.2\t0.3\n",
    "%2\t50\t170\t0\t2.009\t104.4\t0.0200000000000003\n",
    "%2\t55\t175\t0\t2.009\t106.6\t0.439999999999998\n",
    "%3\t0\t180\t0\t2.009\t108\t0.280000000000001\n",
    "%3\t5\t185\t0\t2.009\t108.7\t0.140000000000001\n",
    "%3\t10\t190\t0\t2.009\t108.6\t-0.0200000000000017\n",
    "%3\t15\t195\t0\t2.008\t108.8\t0.0400000000000006\n",
    "%3\t20\t200\t0\t2.007\t109.7\t0.180000000000001\n",
    "%3\t25\t205\t0\t2.007\t109.9\t0.0400000000000006\n",
    "%3\t30\t210\t0\t2.005\t107.8\t-0.420000000000002\n",
    "%3\t40\t220\t0\t2.004\t110.5\t0.27\n",
    "%3\t45\t225\t0\t2.004\t111.4\t0.180000000000001\n",
    "%3\t50\t230\t0\t2.003\t111.9\t0.1\n",
    "%3\t55\t235\t0\t2.003\t112.7\t0.159999999999999\n",
    "%4\t0\t240\t0\t2.004\t113.9\t0.240000000000001\n",
    "%4\t5\t245\t0\t2.004\t115.8\t0.379999999999998\n",
    "%4\t10\t250\t0\t2.004\t114.8\t-0.2\n",
    "%4\t15\t255\t0\t2.002\t115.6\t0.159999999999999\n",
    "%4\t20\t260\t0\t2.002\t116.4\t0.160000000000002\n",
    "%4\t30\t270\t0\t2.001\t114.1\t-0.230000000000001\n",
    "4\t35\t275\t0\t2.001\t115.1\t0.2\n",
    "4\t50\t290\t0\t1.999\t115\t-0.00666666666666629\n",
    "%4\t55\t295\t50\t1.998\t116.1\t0.219999999999999\n",
    "%5\t5\t305\t50\t1.998\t117.4\t0.130000000000001\n",
    "%5\t10\t310\t50\t1.998\t117.1\t-0.0600000000000023\n",
    "%5\t15\t315\t50\t1.997\t116.8\t-0.0599999999999994\n",
    "%5\t20\t320\t50\t1.997\t117.7\t0.180000000000001\n",
    "%5\t25\t325\t50\t1.996\t117.2\t-0.1\n",
    "%5\t30\t330\t50\t1.996\t119\t0.359999999999999\n",
    "%5\t35\t335\t50\t1.995\t118.8\t-0.0400000000000006\n",
    "%5\t40\t340\t50\t1.995\t119.1\t0.0599999999999994\n",
    "5\t45\t345\t50\t1.995\t119.6\t0.1\n",
    "5\t50\t350\t50\t1.994\t118.6\t-0.2\n",
    "%5\t55\t355\t150\t1.995\t120.6\t0.4\n",
    "%6\t0\t360\t150\t1.995\t120.1\t-0.1\n",
    "%6\t5\t365\t150\t1.995\t121.8\t0.340000000000001\n",
    "%6\t10\t370\t150\t1.995\t121.4\t-0.0799999999999983\n",
    "%6\t15\t375\t150\t1.996\t121.9\t0.1\n",
    "%6\t20\t380\t150\t1.995\t122\t0.0199999999999989\n",
    "%6\t25\t385\t150\t1.995\t123.1\t0.219999999999999\n",
    "%6\t30\t390\t150\t1.994\t122.4\t-0.139999999999998\n",
    "6\t35\t395\t150\t1.994\t122.9\t0.1\n",
    "6\t40\t400\t150\t1.994\t122.2\t-0.140000000000001\n",
    "%6\t45\t405\t400\t1.995\t124.7\t0.5\n",
    "%6\t50\t410\t400\t1.995\t125\t0.0599999999999994\n",
    "%6\t55\t415\t400\t1.996\t125.1\t0.0199999999999989\n",
    "%7\t0\t420\t400\t1.996\t125.8\t0.140000000000001\n",
    "%7\t5\t425\t400\t1.996\t126.5\t0.140000000000001\n",
    "%7\t10\t430\t400\t1.996\t126.2\t-0.0599999999999994\n",
    "7\t15\t435\t400\t1.996\t126.2\t0\n",
    "7\t20\t440\t400\t1.995\t126.4\t0.0400000000000006\n",
    "%7\t25\t445\t900\t1.998\t130.5\t0.819999999999999\n",
    "7\t30\t450\t900\t1.998\t129.6\t-0.180000000000001\n",
    "7\t35\t455\t900\t1.997\t130.8\t0.240000000000003\n",
    "];\n",
    "\n",
    "addedCuvol=data(:,4)'*1e-6;\n",
    "\n",
    "originalsamplemVnpH=[...\n",
    "%time hr\ttime min\ttime total\tcumulative  vol added\tpH\tmvA\tdelta\n",
    "%0\t0\t0\t0\t8.041\t53.6\t\n",
    "%0\t5\t5\t0\t8.085\t50\t-0.72\n",
    "%0\t10\t10\t0\t7.969\t53\t0.6\n",
    "%0\t15\t15\t0\t8.031\t49.8\t-0.640000000000001\n",
    "%0\t20\t20\t0\t7.999\t51\t0.240000000000001\n",
    "%0\t25\t25\t0\t8.004\t50.1\t-0.18\n",
    "%0\t30\t30\t0\t8.014\t50.5\t0.0799999999999997\n",
    "%0\t35\t35\t0\t7.992\t50.5\t0\n",
    "%0\t40\t40\t0\t8\t51.4\t0.18\n",
    "%0\t45\t45\t0\t8.001\t52\t0.12\n",
    "%0\t50\t50\t0\t8.008\t51.1\t-0.18\n",
    "%0\t55\t55\t0\t8.006\t51.3\t0.0399999999999992\n",
    "%1\t0\t60\t0\t8.001\t51.3\t0\n",
    "%1\t5\t65\t0\t7.986\t52.6\t0.260000000000001\n",
    "%1\t10\t70\t0\t7.978\t52.3\t-0.0600000000000009\n",
    "%1\t15\t75\t0\t7.991\t52\t-0.0599999999999994\n",
    "%1\t20\t80\t0\t7.984\t50.3\t-0.340000000000001\n",
    "%1\t25\t85\t0\t7.979\t50.7\t0.0800000000000011\n",
    "%1\t30\t90\t0\t7.972\t53.7\t0.6\n",
    "%1\t35\t95\t0\t7.971\t52.7\t-0.2\n",
    "%1\t40\t100\t0\t7.966\t52.3\t-0.0800000000000011\n",
    "%1\t45\t105\t0\t7.964\t53.2\t0.180000000000001\n",
    "%1\t50\t110\t0\t8.058\t53.6\t0.0799999999999997\n",
    "1\t55\t115\t0\t8.029\t53.7\t0.0200000000000003\n",
    "2\t10\t130\t0\t8.017\t52\t-0.113333333333334\n",
    "];"
   ]
  },
  {
   "cell_type": "code",
   "execution_count": 190,
   "id": "95303175-0241-4e93-b215-1add113f0dbc",
   "metadata": {},
   "outputs": [
    {
     "data": {
      "text/plain": [
       "pH = 8.0230e+00\n"
      ]
     },
     "metadata": {},
     "output_type": "display_data"
    },
    {
     "data": {
      "text/html": [
       "<table><tr><th><i>param<i></th><th>1</th><th>2</th></tr><tr><th>1</th><td>8.85072</td><td>161.368</td></tr></table>"
      ],
      "text/plain": [
       "param =    8.8507e+00   1.6137e+02\n"
      ]
     },
     "metadata": {},
     "output_type": "display_data"
    },
    {
     "data": {
      "text/html": [
       "<table><tr><th><i>paramlinear<i></th><th>1</th><th>2</th></tr><tr><th>1</th><td>8.85072</td><td>161.368</td></tr></table>"
      ],
      "text/plain": [
       "paramlinear =    8.8507e+00   1.6137e+02\n"
      ]
     },
     "metadata": {},
     "output_type": "display_data"
    }
   ],
   "source": [
    "% process the data\n",
    "pH=mean(originalsamplemVnpH(:,5))\n",
    "mVAoriginal=mean(originalsamplemVnpH(:,6));\n",
    "mVAoriginal=(originalsamplemVnpH(:,6));\n",
    "\n",
    "mVA=data(:,6)'; Emeas=mVA; CuTmeas=1e-7; CuT=CuTmeas;\n",
    "%mest=mVA(3)-mVA(2)\n",
    "CuTplus=(CuTmeas*(VT)+addedCuvol*stockCuconc)./(VT+addedCuvol);\n",
    "\n",
    "%chlorocorrecxtion\n",
    "%BF1=2.49; BF2=1.14; BF3=0.9; ClT=4.9904e-4; %from Inorg. Chem. 1983. 22. 3323-3326.\n",
    "%CuTplus=CuTplus./(1+BF1*ClT+BF2*ClT^2+BF3*ClT^3);\n",
    "\n",
    "param=polyfit(log10(CuTplus(3:end)),Emeas(3:end),1)\n",
    "paramlinear=polyfit(log10(CuTplus(3:end)),Emeas(3:end),1)\n",
    "logCuToriginal=(Emeas(1:2)-param(2))/param(1);\n",
    "CuToriginal=(10.^logCuToriginal)*63.546*1e6;\n",
    "logCuoriginal=mean((mVAoriginal-param(2))/param(1));\n"
   ]
  },
  {
   "cell_type": "code",
   "execution_count": 191,
   "id": "97cb0066-1921-4527-a493-c24ef48f26f6",
   "metadata": {},
   "outputs": [
    {
     "data": {
      "text/plain": [
       "logCuonept = -1.4118e+01\n"
      ]
     },
     "metadata": {},
     "output_type": "display_data"
    }
   ],
   "source": [
    "% try one point, assume Nernst slope\n",
    "m=59.2/2; Eacid=115; Eorig=52; m=21.5; m=paramlinear(1); %m=24.25;\n",
    "Eo=Eacid-(m)*log10(CuT);\n",
    "logCuonept=(Eorig-Eo)/m"
   ]
  },
  {
   "cell_type": "code",
   "execution_count": 192,
   "id": "190f3e51-5e9f-4eec-be48-9eae1ae0de54",
   "metadata": {},
   "outputs": [
    {
     "data": {
      "application/vnd.plotly.v1+json": {
       "data": [
        {
         "line": {
          "color": "rgb(0, 0, 0)",
          "width": 0.5
         },
         "marker": {
          "color": "rgb(0, 0, 0)",
          "line": {
           "color": "rgb(0, 0, 0)"
          },
          "size": 8,
          "symbol": "circle"
         },
         "mode": "markers",
         "name": "",
         "showlegend": false,
         "type": "scatter",
         "visibility": true,
         "x": [
          -7,
          -7,
          -4.815552507046849,
          -4.815552507046849,
          -4.341193761397771,
          -4.341193761397771,
          -3.917978720851003,
          -3.917978720851003,
          -3.5702816602444427,
          -3.5702816602444427
         ],
         "xaxis": "x",
         "y": [
          115.1,
          115,
          119.6,
          118.6,
          122.9,
          122.2,
          126.2,
          126.4,
          129.6,
          130.8
         ],
         "yaxis": "y"
        },
        {
         "line": {
          "color": "rgb(0, 0, 0)",
          "width": 0.5
         },
         "marker": {
          "color": "rgb(0, 0, 0)",
          "line": {
           "color": "rgb(0, 0, 0)"
          },
          "size": 6,
          "symbol": "circle"
         },
         "mode": "markers",
         "name": "",
         "showlegend": false,
         "type": "scatter",
         "visibility": true,
         "x": [
          -12.260875671421964
         ],
         "xaxis": "x",
         "y": [
          53.7
         ],
         "yaxis": "y"
        },
        {
         "line": {
          "color": "rgb(0, 0, 0)",
          "width": 0.5
         },
         "marker": {
          "color": "rgb(0, 0, 0)",
          "line": {
           "color": "rgb(0, 0, 0)"
          },
          "size": 6,
          "symbol": "circle"
         },
         "mode": "markers",
         "name": "",
         "showlegend": false,
         "type": "scatter",
         "visibility": true,
         "x": [
          -12.260875671421964
         ],
         "xaxis": "x",
         "y": [
          52
         ],
         "yaxis": "y"
        },
        {
         "line": {
          "color": "rgb(0, 0, 0)",
          "dash": "solid",
          "width": 0.5
         },
         "marker": {
          "color": "rgb(0, 0, 0)",
          "line": {
           "color": "rgb(0, 0, 0)"
          },
          "size": 6,
          "symbol": "none"
         },
         "mode": "lines",
         "name": "",
         "showlegend": false,
         "type": "scatter",
         "visibility": true,
         "x": [
          -13,
          -12.9,
          -12.8,
          -12.7,
          -12.6,
          -12.5,
          -12.4,
          -12.3,
          -12.2,
          -12.1,
          -12,
          -11.9,
          -11.8,
          -11.7,
          -11.6,
          -11.5,
          -11.4,
          -11.3,
          -11.2,
          -11.1,
          -11,
          -10.9,
          -10.8,
          -10.7,
          -10.6,
          -10.5,
          -10.4,
          -10.3,
          -10.2,
          -10.1,
          -10,
          -9.9,
          -9.8,
          -9.7,
          -9.6,
          -9.5,
          -9.4,
          -9.3,
          -9.2,
          -9.1,
          -9,
          -8.899999999999999,
          -8.8,
          -8.7,
          -8.6,
          -8.5,
          -8.399999999999999,
          -8.3,
          -8.2,
          -8.1,
          -8,
          -7.8999999999999995,
          -7.8,
          -7.699999999999999,
          -7.6,
          -7.5,
          -7.3999999999999995,
          -7.3,
          -7.199999999999999,
          -7.1,
          -7,
          -6.8999999999999995,
          -6.8,
          -6.699999999999999,
          -6.6,
          -6.5,
          -6.3999999999999995,
          -6.3,
          -6.199999999999999,
          -6.1,
          -6,
          -5.8999999999999995,
          -5.8,
          -5.699999999999999,
          -5.6,
          -5.5,
          -5.3999999999999995,
          -5.3,
          -5.199999999999999,
          -5.1,
          -5,
          -4.9,
          -4.799999999999999,
          -4.699999999999999,
          -4.6,
          -4.5,
          -4.4,
          -4.299999999999999,
          -4.199999999999999,
          -4.1,
          -4,
          -3.9000000000000004,
          -3.799999999999999,
          -3.6999999999999993,
          -3.5999999999999996,
          -3.5,
          -3.3999999999999986,
          -3.299999999999999,
          -3.1999999999999993,
          -3.0999999999999996,
          -3
         ],
         "xaxis": "x",
         "y": [
          46.30821790668057,
          47.193289854711935,
          48.0783618027433,
          48.9634337507747,
          49.848505698806065,
          50.73357764683743,
          51.6186495948688,
          52.503721542900166,
          53.38879349093155,
          54.273865438962915,
          55.158937386994296,
          56.04400933502566,
          56.92908128305703,
          57.81415323108841,
          58.69922517911978,
          59.584297127151146,
          60.46936907518251,
          61.35444102321388,
          62.239512971245276,
          63.12458491927664,
          64.00965686730801,
          64.89472881533938,
          65.77980076337074,
          66.66487271140213,
          67.54994465943349,
          68.43501660746487,
          69.32008855549624,
          70.20516050352761,
          71.09023245155899,
          71.97530439959036,
          72.86037634762172,
          73.74544829565309,
          74.63052024368446,
          75.51559219171585,
          76.40066413974722,
          77.28573608777859,
          78.17080803580996,
          79.05587998384132,
          79.9409519318727,
          80.82602387990408,
          81.71109582793545,
          82.59616777596683,
          83.48123972399819,
          84.36631167202957,
          85.25138362006093,
          86.1364555680923,
          87.0215275161237,
          87.90659946415505,
          88.79167141218643,
          89.6767433602178,
          90.56181530824917,
          91.44688725628055,
          92.33195920431191,
          93.21703115234328,
          94.10210310037466,
          94.98717504840603,
          95.8722469964374,
          96.75731894446876,
          97.64239089250015,
          98.52746284053151,
          99.41253478856288,
          100.29760673659426,
          101.18267868462563,
          102.06775063265701,
          102.95282258068838,
          103.83789452871974,
          104.72296647675111,
          105.60803842478249,
          106.49311037281387,
          107.37818232084524,
          108.26325426887661,
          109.14832621690798,
          110.03339816493934,
          110.91847011297072,
          111.8035420610021,
          112.68861400903347,
          113.57368595706484,
          114.4587579050962,
          115.34382985312759,
          116.22890180115895,
          117.11397374919032,
          117.99904569722169,
          118.88411764525307,
          119.76918959328444,
          120.6542615413158,
          121.53933348934719,
          122.42440543737855,
          123.30947738540993,
          124.1945493334413,
          125.07962128147267,
          125.96469322950404,
          126.8497651775354,
          127.7348371255668,
          128.61990907359817,
          129.50498102162953,
          130.3900529696609,
          131.2751249176923,
          132.16019686572366,
          133.04526881375503,
          133.9303407617864,
          134.81541270981776
         ],
         "yaxis": "y"
        },
        {
         "line": {
          "color": "rgb(0,0,255)",
          "dash": "dash",
          "width": 0.5
         },
         "marker": {
          "color": "rgb(0,0,255)",
          "line": {
           "color": "rgb(0,0,255)"
          },
          "size": 6,
          "symbol": "none"
         },
         "mode": "lines",
         "name": "",
         "showlegend": false,
         "type": "scatter",
         "visibility": true,
         "x": [
          -8.285414037539766,
          -8.285414037539766
         ],
         "xaxis": "x",
         "y": [
          -100,
          100
         ],
         "yaxis": "y"
        },
        {
         "line": {
          "color": "rgb(0,0,255)",
          "dash": "dash",
          "width": 0.5
         },
         "marker": {
          "color": "rgb(0,0,255)",
          "line": {
           "color": "rgb(0,0,255)"
          },
          "size": 6,
          "symbol": "none"
         },
         "mode": "lines",
         "name": "",
         "showlegend": false,
         "type": "scatter",
         "visibility": true,
         "x": [
          -8.09871647101527,
          -8.09871647101527
         ],
         "xaxis": "x",
         "y": [
          -100,
          150
         ],
         "yaxis": "y"
        },
        {
         "line": {
          "color": "rgb(0,0,255)",
          "dash": "dash",
          "width": 0.5
         },
         "marker": {
          "color": "rgb(0,0,255)",
          "line": {
           "color": "rgb(0,0,255)"
          },
          "size": 6,
          "symbol": "none"
         },
         "mode": "lines",
         "name": "",
         "showlegend": false,
         "type": "scatter",
         "visibility": true,
         "x": [
          -7,
          -7
         ],
         "xaxis": "x",
         "y": [
          -100,
          150
         ],
         "yaxis": "y"
        },
        {
         "line": {
          "color": "rgb(255,0,0)",
          "width": 0.5
         },
         "marker": {
          "color": "rgb(255,0,0)",
          "line": {
           "color": "rgb(255,0,0)"
          },
          "size": 6,
          "symbol": "circle"
         },
         "mode": "markers",
         "name": "",
         "showlegend": false,
         "type": "scatter",
         "visibility": true,
         "x": [
          -14.118065388935696
         ],
         "xaxis": "x",
         "y": [
          52
         ],
         "yaxis": "y"
        }
       ],
       "layout": {
        "annotations": [
         {
          "font": {
           "color": "rgb(0, 0, 0)",
           "size": 10
          },
          "showarrow": false,
          "text": "model Cu<sup>2+</sup>",
          "x": -7.998716471015271,
          "xanchor": "left",
          "xref": "x",
          "y": 50,
          "yanchor": "middle",
          "yref": "y"
         },
         {
          "font": {
           "color": "rgb(0, 0, 0)",
           "size": 10
          },
          "showarrow": false,
          "text": "Total Cu",
          "x": -6.8,
          "xanchor": "left",
          "xref": "x",
          "y": 60,
          "yanchor": "middle",
          "yref": "y"
         }
        ],
        "height": 420,
        "hovermode": "closest",
        "margin": {
         "b": 0,
         "l": 0,
         "r": 0,
         "t": 0
        },
        "plot_bgcolor": "rgba(0, 0, 0, 0)",
        "showlegend": false,
        "width": 560,
        "xaxis": {
         "anchor": "y",
         "autorange": false,
         "domain": [
          0.13,
          0.905
         ],
         "exponentformat": "none",
         "gridcolor": "rgba(38,38,38,0.15)",
         "gridwidth": 2,
         "linecolor": "rgb(38,38,38)",
         "linewidth": 2,
         "mirror": "ticks",
         "range": [
          -16,
          -3
         ],
         "showgrid": false,
         "showline": true,
         "side": "bottom",
         "spikedash": "solid",
         "spikemode": "across",
         "spikesides": false,
         "spikethickness": 1,
         "tickangle": 0,
         "tickcolor": "rgb(38,38,38)",
         "tickfont": {
          "color": "rgb(38,38,38)",
          "size": 12
         },
         "ticklen": 3,
         "ticks": "inside",
         "ticktext": [
          "-16",
          "-14",
          "-12",
          "-10",
          "-8",
          "-6",
          "-4"
         ],
         "tickvals": [
          -16,
          -14,
          -12,
          -10,
          -8,
          -6,
          -4
         ],
         "title": {
          "font": {
           "color": "rgb(38,38,38)",
           "size": 13.200000000000001
          },
          "text": "log([Cu<sup>2+</sup>])"
         },
         "type": "linear",
         "visible": true,
         "zeroline": false
        },
        "yaxis": {
         "anchor": "x",
         "autorange": false,
         "domain": [
          0.11,
          0.9249999999999999
         ],
         "exponentformat": "none",
         "gridcolor": "rgba(38,38,38,0.15)",
         "gridwidth": 2,
         "linecolor": "rgb(38,38,38)",
         "linewidth": 2,
         "mirror": "ticks",
         "range": [
          40,
          150
         ],
         "showgrid": false,
         "showline": true,
         "side": "left",
         "spikedash": "solid",
         "spikemode": "across",
         "spikesides": false,
         "spikethickness": 1,
         "tickangle": 0,
         "tickcolor": "rgb(38,38,38)",
         "tickfont": {
          "color": "rgb(38,38,38)",
          "size": 12
         },
         "ticklen": 3,
         "ticks": "inside",
         "ticktext": [
          "40",
          "60",
          "80",
          "100",
          "120",
          "140"
         ],
         "tickvals": [
          40,
          60,
          80,
          100,
          120,
          140
         ],
         "title": {
          "font": {
           "color": "rgb(38,38,38)",
           "size": 13.200000000000001
          },
          "text": "Potential (mV)"
         },
         "type": "linear",
         "visible": true,
         "zeroline": false
        }
       }
      },
      "image/png": "[encoded data removed]"
     },
     "metadata": {},
     "output_type": "display_data"
    },
    {
     "data": {
      "text/plain": [
       "logCunosolid = -8.0987e+00\n"
      ]
     },
     "metadata": {},
     "output_type": "display_data"
    },
    {
     "data": {
      "text/plain": [
       "logCuoriginalsample = -1.2261e+01\n"
      ]
     },
     "metadata": {},
     "output_type": "display_data"
    },
    {
     "data": {
      "text/plain": [
       "logCuonept = -1.4118e+01\n"
      ]
     },
     "metadata": {},
     "output_type": "display_data"
    }
   ],
   "source": [
    "% MODEL FOR COMPARISON\n",
    "\n",
    "%model with just inorganic speciation\n",
    "%geochemical model\n",
    "% input the constants and solution chemistry\n",
    "\n",
    "flag1=2; %flag1 for concentration based search vector (1) or for log based search vector (2).\n",
    "flag2=1; %flag2 for numerical derivatives (2) or analtyical derivatives (1)\n",
    "database=[]; \n",
    "flag3=0; % flag3 1 for show warnings. 0 no warnings\n",
    "flag4=0; %if=1 solve tableau one line at a time to get a good initial guess (no solids). really challenging probs only\n",
    "flag5=0; %if=1 use stored initial guess for including solids\n",
    "\n",
    "CuT=CuTmeas; inorganicTOTALS=[CuT];\n",
    "inorganicTOTALS(inorganicTOTALS==0)=1e-16; % get rid of zero values, b/c div by zero error\n",
    "TOTALS=[inorganicTOTALS]; %TOTALS=inorganicTOTALS;\n",
    "pH=8.023; pe=20.75-pH; PCO2=10^-3.5;\n",
    "[Cuall,CuOH,CuOH2s,CuOs,CuCO3s,tenorite,malachite,MASSERR]=CuOHCO2opentableauallsolids(pH,pe,PCO2,TOTALS',flag1,flag2,flag3,flag4,flag5,database);\n",
    "[CuwithCuOs,CuOH,CuOH2s,CuOs,CuCO3s,tenorite,malachite,MASSERR]=CuOHCO2opentableauCuOs(pH,pe,PCO2,TOTALS',flag1,flag2,flag3,flag4,flag5,database);\n",
    "[Cunosolid,CuOH,CuOH2s,CuOs,CuCO3s,tenorite,malachite,MASSERR]=CuOHCO2opentableaunosolid(pH,pe,PCO2,TOTALS',flag1,flag2,flag3,flag4,flag5,database);\n",
    "\n",
    "plot(log10(CuTplus),Emeas,'ko','markersize',8)\n",
    "\n",
    "hold on\n",
    "plot([logCuoriginal'],[mVAoriginal'],'ko')\n",
    "logCuplot=-13:0.1:-3; Eplot=polyval(param,logCuplot);\n",
    "plot(logCuplot,Eplot,'k-')\n",
    "set(gca,'linewidth',2)\n",
    "xlabel('log[Cu^{2+}]'); ylabel('E (mV)')\n",
    "hold on\n",
    "\n",
    "plot([log10(Cuall) log10(Cuall)],[-100 100],'b--')\n",
    "plot([log10(Cunosolid) log10(Cunosolid)],[-100 150],'b--'); hold on\n",
    "plot([log10(CuT) log10(CuT)],[-100 150],'b--')\n",
    "%plot([-9.576 -9.576],[-100 100],'b--')\n",
    "\n",
    "text(log10(Cunosolid)+0.1,50,'model Cu^{2+}','rotation',90)\n",
    "text(log10(CuT)+0.2,60,'Total Cu','rotation',90)\n",
    "\n",
    "\n",
    "xlabel('log([Cu^{2+}])')\n",
    "ylabel('Potential (mV)')\n",
    "set(gca,'LineWidth',2,'fontsize',12)\n",
    "\n",
    "logCunosolid=log10(Cunosolid)\n",
    "logCuoriginalsample=mean((mVAoriginal-param(2))/param(1))\n",
    "logCuonept\n",
    "\n",
    "axis([-16 -3 40 150])\n",
    "\n",
    "plot(logCuonept,Eorig,'ro','markerfacecolor','r')\n"
   ]
  },
  {
   "cell_type": "code",
   "execution_count": null,
   "id": "286a9a21-0cfe-4aaa-a590-d0cbf6e0e293",
   "metadata": {},
   "outputs": [],
   "source": []
  }
 ],
 "metadata": {
  "kernelspec": {
   "display_name": "Octave (xoctave)",
   "language": "Octave",
   "name": "xoctave"
  },
  "language_info": {
   "codemirror_mode": "octave",
   "file_extension": ".m",
   "mimetype": "text/x-octave",
   "name": "Octave",
   "nbconvert_exporter": "",
   "pygments_lexer": "octave",
   "version": "7.3.0"
  }
 },
 "nbformat": 4,
 "nbformat_minor": 5
}
