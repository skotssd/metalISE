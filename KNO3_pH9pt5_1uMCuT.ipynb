{
 "cells": [
  {
   "cell_type": "code",
   "execution_count": 53,
   "id": "5b91745d-be40-49bc-9645-49174473a1f2",
   "metadata": {},
   "outputs": [],
   "source": [
    "% setup environment\n",
    "% set path to equilibrium solver\n",
    "txt=pwd;\n",
    "n=length(txt);\n",
    "rootpath=txt; %txt(1:n-8);\n",
    "PHREEQCpath=[rootpath,'/runPHREEQC'];\n",
    "addpath(PHREEQCpath);\n",
    "JEQUILIBpath=[rootpath,'/JEQUILIB']; addpath(JEQUILIBpath);\n",
    "Cumodelspath=[rootpath,'/Cutableaus']; addpath(Cumodelspath);\n",
    "% clear data and number format\n",
    "clear; format short e\n",
    "% turn off warnings\n",
    "warning off\n",
    "graphics_toolkit (\"notebook\"); \n",
    "graphics_toolkit (\"plotly\"); "
   ]
  },
  {
   "cell_type": "code",
   "execution_count": 54,
   "id": "5ebebbe5-0fef-4c64-9602-676482133835",
   "metadata": {},
   "outputs": [],
   "source": [
    "% put in constants\n",
    "VT=0.05; %total volume\n",
    "stockCuconc=0.0152067;"
   ]
  },
  {
   "cell_type": "code",
   "execution_count": 55,
   "id": "7cab7aa9-4607-4224-89a8-0c7fc1b01d8e",
   "metadata": {
    "jupyter": {
     "source_hidden": true
    },
    "tags": []
   },
   "outputs": [],
   "source": [
    "% put in data\n",
    "data=[...\n",
    "%time hr\ttime min\ttime total\t\"cumulative vol added\"\tpH\tmvA\tdelta\n",
    "% 1\t30\t90\t0\t2.029\t73.3\t9.97\n",
    "% 1\t35\t95\t0\t2.023\t73.4\t0.02\n",
    "% 1\t40\t100\t0\t2.022\t76.8\t0.68\n",
    "% 1\t45\t105\t0\t2.002\t77.8\t0.2\n",
    "% 1\t55\t115\t0\t2.004\t74.9\t-0.29\n",
    "% 2\t5\t125\t0\t2.002\t74.5\t-0.04\n",
    "%2\t10\t130\t0\t2.002\t74.6\t0.02\n",
    "2\t15\t135\t0\t2.002\t74.8\t0.04\n",
    "2\t17\t137\t0\t2.002\t79.3\t2.25\n",
    "% 2\t22\t142\t50\t2.002\t90\t2.14\n",
    "% 2\t27\t147\t50\t2.001\t93.5\t0.7\n",
    "% 2\t32\t152\t50\t2.002\t96.3\t0.56\n",
    "% 2\t37\t157\t50\t2.001\t95.8\t-0.1\n",
    "%2\t42\t162\t50\t2.002\t91.4\t-0.88\n",
    "%2\t47\t167\t50\t2\t91\t-0.08\n",
    "%2\t52\t172\t50\t2.001\t90.6\t-0.08\n",
    "% 2\t57\t177\t150\t2.000\t90.6\t0\n",
    "% 2\t58\t178\t150\t2.001\t94.4\t3.8\n",
    "% 3\t3\t183\t150\t2.002\t100\t1.12\n",
    "% 3\t8\t188\t150\t2\t101.3\t0.26\n",
    "% 3\t13\t193\t150\t2.001\t107.5\t1.24\n",
    "% 3\t18\t198\t150\t2\t108.7\t0.24\n",
    "% 3\t23\t203\t150\t2.002\t108.6\t-0.02\n",
    "%3\t28\t208\t150\t2.001\t109\t0.08\n",
    "%3\t33\t213\t150\t2\t108.8\t-0.04\n",
    "3\t38\t218\t150\t2.001\t108.4\t-0.08\n",
    "% 3\t43\t223\t400\t1.999\t108.4\t0\n",
    "% 3\t44\t224\t400\t2.001\t114.1\t5.7\n",
    "% 3\t49\t229\t400\t2.003\t118.4\t0.86\n",
    "% 3\t54\t234\t400\t2.001\t118.2\t-0.04\n",
    "%3\t59\t239\t400\t2.002\t118\t-0.04\n",
    "4\t4\t244\t400\t2.002\t118.4\t0.08\n",
    "% 4\t5\t245\t900\t2.005\t122.1\t3.7\n",
    "% 4\t10\t250\t900\t2.005\t126.6\t0.9\n",
    "% 4\t15\t255\t900\t2.005\t128\t0.28\n",
    "%4\t20\t260\t900\t2.005\t128.5\t0.1\n",
    "%4\t25\t265\t900\t2.006\t128.2\t-0.06\n",
    "4\t30\t270\t900\t2.004\t127.8\t-0.08\n",
    "% 4\t31\t271\t1900\t2.011\t133\t5.2\n",
    "% 4\t36\t276\t1900\t2.012\t136.5\t0.7\n",
    "% 4\t41\t281\t1900\t2.011\t137.2\t0.14\n",
    "% 4\t46\t286\t1900\t2.011\t137.4\t0.04\n",
    "%4\t51\t291\t1900\t2.01\t136.8\t-0.12\n",
    "4\t56\t296\t1900\t2.011\t137.2\t0.08\n",
    "% 5\t1\t301\t3400\t2.011\t136.8\t-0.08\n",
    "% 5\t3\t303\t3400\t2.02\t142.5\t2.85\n",
    "% 5\t8\t308\t3400\t2.022\t143.2\t0.14\n",
    "% 5\t13\t313\t3400\t2.021\t143.4\t0.04\n",
    "% 5\t18\t318\t3400\t2.022\t143.1\t-0.06\n",
    "% 5\t23\t323\t3400\t2.021\t142\t-0.22\n",
    "% 5\t28\t328\t3400\t2.021\t142.4\t0.08\n",
    "% 5\t33\t333\t3400\t2.021\t142\t-0.08\n",
    "%5\t38\t338\t3400\t2.019\t141.1\t-0.18\n",
    "5\t43\t343\t3400\t2.019\t142.2\t0.22\n",
    "];\n",
    "\n",
    "addedCuvol=data(:,4)'*1e-6;\n",
    "\n",
    "originalsamplemVnpH=[...\n",
    "%time hr\ttime min\ttime total\tcumulative vol added\tpH\tmvA\tdelta\tmVB\tdeltaB\tcomments\n",
    "% 0\t0\t0\t0\t9.625\t60.9\t\n",
    "% 0\t5\t5\t0\t9.657\t47.3\t-2.72\n",
    "% 0\t15\t15\t0\t9.574\t-34.7\t-8.2\n",
    "% 0\t20\t20\t0\t9.643\t-33\t0.34\n",
    "% 0\t25\t25\t0\t9.256\t-19\t2.8\n",
    "% 0\t30\t30\t0\t9.54\t-29.6\t-2.12\n",
    "% 0\t35\t35\t0\t9.537\t-28.8\t0.16\n",
    "% 0\t40\t40\t0\t9.54\t-28.4\t0.08\n",
    "% 0\t45\t45\t0\t9.532\t-27\t0.28\n",
    "% 0\t50\t50\t0\t9.527\t-27.6\t-0.12\n",
    "% 0\t55\t55\t0\t9.517\t-27.7\t-0.02\n",
    "% 1\t0\t60\t0\t9.512\t-27.7\t0\n",
    "% 1\t5\t65\t0\t9.502\t-26.2\t0.3\n",
    "%1\t10\t70\t0\t9.501\t-26.3\t-0.02\n",
    "%1\t15\t75\t0\t9.486\t-26.5\t-0.04\n",
    "1\t20\t80\t0\t9.482\t-26.4\t0.02\n",
    "];"
   ]
  },
  {
   "cell_type": "code",
   "execution_count": 56,
   "id": "95303175-0241-4e93-b215-1add113f0dbc",
   "metadata": {},
   "outputs": [
    {
     "data": {
      "text/plain": [
       "pH = 9.4820e+00\n"
      ]
     },
     "metadata": {},
     "output_type": "display_data"
    },
    {
     "data": {
      "text/html": [
       "<table><tr><th><i>param<i></th><th>1</th><th>2</th></tr><tr><th>1</th><td>21.5086</td><td>205.022</td></tr></table>"
      ],
      "text/plain": [
       "param =    2.1509e+01   2.0502e+02\n"
      ]
     },
     "metadata": {},
     "output_type": "display_data"
    }
   ],
   "source": [
    "% process the data\n",
    "pH=mean(originalsamplemVnpH(:,5))\n",
    "mVAoriginal=mean(originalsamplemVnpH(:,6));\n",
    "mVAoriginal=(originalsamplemVnpH(:,6));\n",
    "\n",
    "mVA=data(:,6)'; Emeas=mVA; CuTmeas=1e-6;\n",
    "%mest=mVA(3)-mVA(2)\n",
    "CuTplus=(CuTmeas*(VT)+addedCuvol*stockCuconc)./(VT+addedCuvol);\n",
    "\n",
    "%chlorocorrecxtion\n",
    "%BF1=2.49; BF2=1.14; BF3=0.9; ClT=4.9904e-4; %from Inorg. Chem. 1983. 22. 3323-3326.\n",
    "%CuTplus=CuTplus./(1+BF1*ClT+BF2*ClT^2+BF3*ClT^3);\n",
    "\n",
    "param=polyfit(log10(CuTplus),Emeas,1)\n",
    "logCuToriginal=(Emeas(1:2)-param(2))/param(1);\n",
    "CuToriginal=(10.^logCuToriginal)*63.546*1e6;\n",
    "logCuoriginal=mean((mVAoriginal-param(2))/param(1));\n"
   ]
  },
  {
   "cell_type": "code",
   "execution_count": 57,
   "id": "190f3e51-5e9f-4eec-be48-9eae1ae0de54",
   "metadata": {},
   "outputs": [
    {
     "data": {
      "application/vnd.plotly.v1+json": {
       "data": [
        {
         "line": {
          "color": "rgb(0, 0, 0)",
          "width": 0.5
         },
         "marker": {
          "color": "rgb(0, 0, 0)",
          "line": {
           "color": "rgb(0, 0, 0)"
          },
          "size": 8,
          "symbol": "circle"
         },
         "mode": "markers",
         "name": "",
         "showlegend": false,
         "type": "scatter",
         "visibility": true,
         "x": [
          -6,
          -6,
          -4.3327277322742646,
          -3.9147802324232774,
          -3.5688565516675745,
          -3.253627864651572,
          -3.01360757331058
         ],
         "xaxis": "x",
         "y": [
          74.8,
          79.3,
          108.4,
          118.4,
          127.8,
          137.2,
          142.2
         ],
         "yaxis": "y"
        },
        {
         "line": {
          "color": "rgb(0, 0, 0)",
          "width": 0.5
         },
         "marker": {
          "color": "rgb(0, 0, 0)",
          "line": {
           "color": "rgb(0, 0, 0)"
          },
          "size": 6,
          "symbol": "circle"
         },
         "mode": "markers",
         "name": "",
         "showlegend": false,
         "type": "scatter",
         "visibility": true,
         "x": [
          -10.759538062084758
         ],
         "xaxis": "x",
         "y": [
          -26.4
         ],
         "yaxis": "y"
        },
        {
         "line": {
          "color": "rgb(0, 0, 0)",
          "dash": "solid",
          "width": 0.5
         },
         "marker": {
          "color": "rgb(0, 0, 0)",
          "line": {
           "color": "rgb(0, 0, 0)"
          },
          "size": 6,
          "symbol": "none"
         },
         "mode": "lines",
         "name": "",
         "showlegend": false,
         "type": "scatter",
         "visibility": true,
         "x": [
          -12,
          -11.9,
          -11.8,
          -11.7,
          -11.6,
          -11.5,
          -11.4,
          -11.3,
          -11.2,
          -11.1,
          -11,
          -10.9,
          -10.8,
          -10.7,
          -10.6,
          -10.5,
          -10.4,
          -10.3,
          -10.2,
          -10.1,
          -10,
          -9.9,
          -9.8,
          -9.7,
          -9.6,
          -9.5,
          -9.4,
          -9.3,
          -9.2,
          -9.1,
          -9,
          -8.9,
          -8.8,
          -8.7,
          -8.6,
          -8.5,
          -8.4,
          -8.3,
          -8.2,
          -8.1,
          -8,
          -7.8999999999999995,
          -7.8,
          -7.7,
          -7.6,
          -7.5,
          -7.3999999999999995,
          -7.3,
          -7.199999999999999,
          -7.1,
          -7,
          -6.8999999999999995,
          -6.8,
          -6.699999999999999,
          -6.6,
          -6.5,
          -6.3999999999999995,
          -6.3,
          -6.199999999999999,
          -6.1,
          -6,
          -5.8999999999999995,
          -5.8,
          -5.699999999999999,
          -5.6,
          -5.5,
          -5.3999999999999995,
          -5.3,
          -5.199999999999999,
          -5.1,
          -5,
          -4.8999999999999995,
          -4.8,
          -4.699999999999999,
          -4.6,
          -4.5,
          -4.3999999999999995,
          -4.3,
          -4.199999999999999,
          -4.1,
          -4,
          -3.9000000000000004,
          -3.799999999999999,
          -3.6999999999999993,
          -3.5999999999999996,
          -3.5,
          -3.4000000000000004,
          -3.299999999999999,
          -3.1999999999999993,
          -3.0999999999999996,
          -3
         ],
         "xaxis": "x",
         "y": [
          -53.08054247151264,
          -50.929687079983864,
          -48.77883168845506,
          -46.62797629692622,
          -44.47712090539744,
          -42.326265513868634,
          -40.175410122339855,
          -38.02455473081105,
          -35.87369933928221,
          -33.72284394775343,
          -31.571988556224625,
          -29.421133164695846,
          -27.270277773167066,
          -25.11942238163823,
          -22.968566990109423,
          -20.817711598580644,
          -18.666856207051836,
          -16.516000815523057,
          -14.365145423994221,
          -12.214290032465414,
          -10.063434640936634,
          -7.912579249407855,
          -5.761723857879048,
          -3.6108684663502117,
          -1.4600130748214326,
          0.690842316707375,
          2.841697708236154,
          4.992553099764962,
          7.143408491293798,
          9.294263882822577,
          11.445119274351356,
          13.595974665880163,
          15.746830057408943,
          17.89768544893778,
          20.048540840466586,
          22.199396231995365,
          24.350251623524173,
          26.501107015052952,
          28.651962406581788,
          30.802817798110596,
          32.953673189639375,
          35.10452858116818,
          37.25538397269699,
          39.40623936422577,
          41.55709475575458,
          43.707950147283384,
          45.85880553881219,
          48.00966093034097,
          50.16051632186981,
          52.311371713398586,
          54.46222710492739,
          56.6130824964562,
          58.76393788798498,
          60.91479327951379,
          63.065648671042595,
          65.21650406257137,
          67.36735945410018,
          69.51821484562899,
          71.6690702371578,
          73.8199256286866,
          75.97078102021538,
          78.12163641174419,
          80.27249180327298,
          82.4233471948018,
          84.5742025863306,
          86.7250579778594,
          88.8759133693882,
          91.026768760917,
          93.1776241524458,
          95.3284795439746,
          97.47933493550339,
          99.6301903270322,
          101.78104571856099,
          103.93190111008981,
          106.0827565016186,
          108.23361189314738,
          110.3844672846762,
          112.535322676205,
          114.6861780677338,
          116.8370334592626,
          118.98788885079139,
          121.13874424232019,
          123.28959963384902,
          125.44045502537782,
          127.59131041690661,
          129.7421658084354,
          131.89302119996418,
          134.04387659149302,
          136.19473198302182,
          138.3455873745506,
          140.49644276607938
         ],
         "yaxis": "y"
        },
        {
         "line": {
          "color": "rgb(0,0,255)",
          "dash": "dash",
          "width": 0.5
         },
         "marker": {
          "color": "rgb(0,0,255)",
          "line": {
           "color": "rgb(0,0,255)"
          },
          "size": 6,
          "symbol": "none"
         },
         "mode": "lines",
         "name": "",
         "showlegend": false,
         "type": "scatter",
         "visibility": true,
         "x": [
          -10.99172861182052,
          -10.99172861182052
         ],
         "xaxis": "x",
         "y": [
          -100,
          150
         ],
         "yaxis": "y"
        },
        {
         "line": {
          "color": "rgb(0,0,255)",
          "dash": "dash",
          "width": 0.5
         },
         "marker": {
          "color": "rgb(0,0,255)",
          "line": {
           "color": "rgb(0,0,255)"
          },
          "size": 6,
          "symbol": "none"
         },
         "mode": "lines",
         "name": "",
         "showlegend": false,
         "type": "scatter",
         "visibility": true,
         "x": [
          -6,
          -6
         ],
         "xaxis": "x",
         "y": [
          -100,
          150
         ],
         "yaxis": "y"
        }
       ],
       "layout": {
        "annotations": [
         {
          "font": {
           "color": "rgb(0, 0, 0)",
           "size": 10
          },
          "showarrow": false,
          "text": "model Cu<sup>2+</sup>",
          "x": -10.89172861182052,
          "xanchor": "left",
          "xref": "x",
          "y": 50,
          "yanchor": "middle",
          "yref": "y"
         },
         {
          "font": {
           "color": "rgb(0, 0, 0)",
           "size": 10
          },
          "showarrow": false,
          "text": "Total Cu",
          "x": -5.8,
          "xanchor": "left",
          "xref": "x",
          "y": 40,
          "yanchor": "middle",
          "yref": "y"
         }
        ],
        "height": 420,
        "hovermode": "closest",
        "margin": {
         "b": 0,
         "l": 0,
         "r": 0,
         "t": 0
        },
        "plot_bgcolor": "rgba(0, 0, 0, 0)",
        "showlegend": false,
        "width": 560,
        "xaxis": {
         "anchor": "y",
         "autorange": false,
         "domain": [
          0.13,
          0.905
         ],
         "exponentformat": "none",
         "gridcolor": "rgba(38,38,38,0.15)",
         "gridwidth": 2,
         "linecolor": "rgb(38,38,38)",
         "linewidth": 2,
         "mirror": "ticks",
         "range": [
          -12,
          -2
         ],
         "showgrid": false,
         "showline": true,
         "side": "bottom",
         "spikedash": "solid",
         "spikemode": "across",
         "spikesides": false,
         "spikethickness": 1,
         "tickangle": 0,
         "tickcolor": "rgb(38,38,38)",
         "tickfont": {
          "color": "rgb(38,38,38)",
          "size": 12
         },
         "ticklen": 3,
         "ticks": "inside",
         "ticktext": [
          "-12",
          "-10",
          "-8",
          "-6",
          "-4",
          "-2"
         ],
         "tickvals": [
          -12,
          -10,
          -8,
          -6,
          -4,
          -2
         ],
         "title": {
          "font": {
           "color": "rgb(38,38,38)",
           "size": 13.200000000000001
          },
          "text": "log([Cu<sup>2+</sup>])"
         },
         "type": "linear",
         "visible": true,
         "zeroline": false
        },
        "yaxis": {
         "anchor": "x",
         "autorange": false,
         "domain": [
          0.11,
          0.9249999999999999
         ],
         "exponentformat": "none",
         "gridcolor": "rgba(38,38,38,0.15)",
         "gridwidth": 2,
         "linecolor": "rgb(38,38,38)",
         "linewidth": 2,
         "mirror": "ticks",
         "range": [
          -100,
          150
         ],
         "showgrid": false,
         "showline": true,
         "side": "left",
         "spikedash": "solid",
         "spikemode": "across",
         "spikesides": false,
         "spikethickness": 1,
         "tickangle": 0,
         "tickcolor": "rgb(38,38,38)",
         "tickfont": {
          "color": "rgb(38,38,38)",
          "size": 12
         },
         "ticklen": 3,
         "ticks": "inside",
         "ticktext": [
          "-100",
          "-50",
          "0",
          "50",
          "100",
          "150"
         ],
         "tickvals": [
          -100,
          -50,
          0,
          50,
          100,
          150
         ],
         "title": {
          "font": {
           "color": "rgb(38,38,38)",
           "size": 13.200000000000001
          },
          "text": "Potential (mV)"
         },
         "type": "linear",
         "visible": true,
         "zeroline": false
        }
       }
      },
      "image/png": "[encoded data removed]"
     },
     "metadata": {},
     "output_type": "display_data"
    },
    {
     "data": {
      "text/plain": [
       "logCunosolid = -1.0992e+01\n"
      ]
     },
     "metadata": {},
     "output_type": "display_data"
    },
    {
     "data": {
      "text/plain": [
       "logCuoriginalsample = -1.0760e+01\n"
      ]
     },
     "metadata": {},
     "output_type": "display_data"
    }
   ],
   "source": [
    "% MODEL FOR COMPARISON\n",
    "\n",
    "%model with just inorganic speciation\n",
    "%geochemical model\n",
    "% input the constants and solution chemistry\n",
    "\n",
    "flag1=2; %flag1 for concentration based search vector (1) or for log based search vector (2).\n",
    "flag2=1; %flag2 for numerical derivatives (2) or analtyical derivatives (1)\n",
    "database=[]; \n",
    "flag3=0; % flag3 1 for show warnings. 0 no warnings\n",
    "flag4=0; %if=1 solve tableau one line at a time to get a good initial guess (no solids). really challenging probs only\n",
    "flag5=0; %if=1 use stored initial guess for including solids\n",
    "\n",
    "CuT=CuTmeas; inorganicTOTALS=[CuT];\n",
    "inorganicTOTALS(inorganicTOTALS==0)=1e-16; % get rid of zero values, b/c div by zero error\n",
    "TOTALS=[inorganicTOTALS]; %TOTALS=inorganicTOTALS;\n",
    "pH=9.4897; pe=20.75-pH; PCO2=10^-3.5;\n",
    "[Cuall,CuOH,CuOH2s,CuOs,CuCO3s,tenorite,malachite,MASSERR]=CuOHCO2opentableauallsolids(pH,pe,PCO2,TOTALS',flag1,flag2,flag3,flag4,flag5,database);\n",
    "[CuwithCuOs,CuOH,CuOH2s,CuOs,CuCO3s,tenorite,malachite,MASSERR]=CuOHCO2opentableauCuOs(pH,pe,PCO2,TOTALS',flag1,flag2,flag3,flag4,flag5,database);\n",
    "[Cunosolid,CuOH,CuOH2s,CuOs,CuCO3s,tenorite,malachite,MASSERR]=CuOHCO2opentableaunosolid(pH,pe,PCO2,TOTALS',flag1,flag2,flag3,flag4,flag5,database);\n",
    "\n",
    "plot(log10(CuTplus),Emeas,'ko','markersize',8)\n",
    "\n",
    "hold on\n",
    "plot([logCuoriginal'],[mVAoriginal'],'ko')\n",
    "logCuplot=-12:0.1:-3; Eplot=polyval(param,logCuplot);\n",
    "plot(logCuplot,Eplot,'k-')\n",
    "set(gca,'linewidth',2)\n",
    "xlabel('log[Cu^{2+}]'); ylabel('E (mV)')\n",
    "hold on\n",
    "\n",
    "%plot([log10(Cuall) log10(Cuall)],[-100 100],'b--')\n",
    "plot([log10(Cunosolid) log10(Cunosolid)],[-100 150],'b--'); hold on\n",
    "plot([log10(CuT) log10(CuT)],[-100 150],'b--')\n",
    "%plot([-9.576 -9.576],[-100 100],'b--')\n",
    "\n",
    "text(log10(Cunosolid)+0.1,50,'model Cu^{2+}','rotation',90)\n",
    "text(log10(CuT)+0.2,40,'Total Cu','rotation',90)\n",
    "\n",
    "\n",
    "xlabel('log([Cu^{2+}])')\n",
    "ylabel('Potential (mV)')\n",
    "set(gca,'LineWidth',2,'fontsize',12)\n",
    "\n",
    "logCunosolid=log10(Cunosolid)\n",
    "logCuoriginalsample=mean((mVAoriginal-param(2))/param(1))\n"
   ]
  },
  {
   "cell_type": "code",
   "execution_count": null,
   "id": "286a9a21-0cfe-4aaa-a590-d0cbf6e0e293",
   "metadata": {},
   "outputs": [],
   "source": []
  }
 ],
 "metadata": {
  "kernelspec": {
   "display_name": "Octave (xoctave)",
   "language": "Octave",
   "name": "xoctave"
  },
  "language_info": {
   "codemirror_mode": "octave",
   "file_extension": ".m",
   "mimetype": "text/x-octave",
   "name": "Octave",
   "nbconvert_exporter": "",
   "pygments_lexer": "octave",
   "version": "7.3.0"
  }
 },
 "nbformat": 4,
 "nbformat_minor": 5
}
